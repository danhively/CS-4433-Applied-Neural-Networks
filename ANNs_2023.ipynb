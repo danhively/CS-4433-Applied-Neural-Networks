{
  "nbformat": 4,
  "nbformat_minor": 0,
  "metadata": {
    "colab": {
      "provenance": [],
      "collapsed_sections": [
        "aDAJcc0ygLu1"
      ],
      "gpuType": "T4"
    },
    "kernelspec": {
      "name": "python3",
      "display_name": "Python 3"
    },
    "accelerator": "GPU"
  },
  "cells": [
    {
      "cell_type": "markdown",
      "metadata": {
        "id": "oOegdryIigrr"
      },
      "source": [
        "# Artifical Neural Networks (ANNs)\n",
        "Leslie Kerby"
      ]
    },
    {
      "cell_type": "markdown",
      "metadata": {
        "id": "TO8eERb8ioV3"
      },
      "source": [
        "### MNIST Fashion Dataset and Sequential API"
      ]
    },
    {
      "cell_type": "code",
      "metadata": {
        "id": "s_yAZeKXig80"
      },
      "source": [
        "# Default runtime is GPU\n",
        "\n",
        "import tensorflow as tf\n",
        "from tensorflow import keras\n",
        "\n",
        "import numpy as np\n",
        "\n",
        "np.random.seed(42)\n",
        "tf.random.set_seed(42)"
      ],
      "execution_count": null,
      "outputs": []
    },
    {
      "cell_type": "code",
      "metadata": {
        "colab": {
          "base_uri": "https://localhost:8080/",
          "height": 36
        },
        "id": "0w0Y6TAoN7-E",
        "outputId": "5b15afff-6f8d-45bd-ac50-2fa2ba8d8973"
      },
      "source": [
        "tf.__version__"
      ],
      "execution_count": null,
      "outputs": [
        {
          "output_type": "execute_result",
          "data": {
            "text/plain": [
              "'2.12.0'"
            ],
            "application/vnd.google.colaboratory.intrinsic+json": {
              "type": "string"
            }
          },
          "metadata": {},
          "execution_count": 2
        }
      ]
    },
    {
      "cell_type": "code",
      "metadata": {
        "id": "KF7Ub2joihBi",
        "colab": {
          "base_uri": "https://localhost:8080/"
        },
        "outputId": "5bfcb8d7-1238-43f9-b4e9-e8d25de291f8"
      },
      "source": [
        "# Segway with MNIST digits\n",
        "mnist_digits = keras.datasets.mnist\n",
        "(X_train_full, y_train_full), (X_test, y_test) = mnist_digits.load_data()"
      ],
      "execution_count": null,
      "outputs": [
        {
          "output_type": "stream",
          "name": "stdout",
          "text": [
            "Downloading data from https://storage.googleapis.com/tensorflow/tf-keras-datasets/mnist.npz\n",
            "11490434/11490434 [==============================] - 2s 0us/step\n"
          ]
        }
      ]
    },
    {
      "cell_type": "code",
      "metadata": {
        "colab": {
          "base_uri": "https://localhost:8080/",
          "height": 448
        },
        "id": "3AGC2nd9jJ3J",
        "outputId": "0b92da90-ee38-4577-a101-62cbc4c40bdb"
      },
      "source": [
        "import matplotlib.pyplot as plt\n",
        "plt.imshow(X_train_full[0], cmap='binary')"
      ],
      "execution_count": null,
      "outputs": [
        {
          "output_type": "execute_result",
          "data": {
            "text/plain": [
              "<matplotlib.image.AxesImage at 0x7a4aa73ec460>"
            ]
          },
          "metadata": {},
          "execution_count": 4
        },
        {
          "output_type": "display_data",
          "data": {
            "text/plain": [
              "<Figure size 640x480 with 1 Axes>"
            ],
            "image/png": "[encoded data removed]"
          },
          "metadata": {}
        }
      ]
    },
    {
      "cell_type": "code",
      "metadata": {
        "colab": {
          "base_uri": "https://localhost:8080/"
        },
        "id": "VLilAPnBjKD3",
        "outputId": "16cde6e0-5eb7-4c18-815e-55cef8b07663"
      },
      "source": [
        "X_train_full[0]"
      ],
      "execution_count": null,
      "outputs": [
        {
          "output_type": "execute_result",
          "data": {
            "text/plain": [
              "array([[  0,   0,   0,   0,   0,   0,   0,   0,   0,   0,   0,   0,   0,\n",
              "          0,   0,   0,   0,   0,   0,   0,   0,   0,   0,   0,   0,   0,\n",
              "          0,   0],\n",
              "       [  0,   0,   0,   0,   0,   0,   0,   0,   0,   0,   0,   0,   0,\n",
              "          0,   0,   0,   0,   0,   0,   0,   0,   0,   0,   0,   0,   0,\n",
              "          0,   0],\n",
              "       [  0,   0,   0,   0,   0,   0,   0,   0,   0,   0,   0,   0,   0,\n",
              "          0,   0,   0,   0,   0,   0,   0,   0,   0,   0,   0,   0,   0,\n",
              "          0,   0],\n",
              "       [  0,   0,   0,   0,   0,   0,   0,   0,   0,   0,   0,   0,   0,\n",
              "          0,   0,   0,   0,   0,   0,   0,   0,   0,   0,   0,   0,   0,\n",
              "          0,   0],\n",
              "       [  0,   0,   0,   0,   0,   0,   0,   0,   0,   0,   0,   0,   0,\n",
              "          0,   0,   0,   0,   0,   0,   0,   0,   0,   0,   0,   0,   0,\n",
              "          0,   0],\n",
              "       [  0,   0,   0,   0,   0,   0,   0,   0,   0,   0,   0,   0,   3,\n",
              "         18,  18,  18, 126, 136, 175,  26, 166, 255, 247, 127,   0,   0,\n",
              "          0,   0],\n",
              "       [  0,   0,   0,   0,   0,   0,   0,   0,  30,  36,  94, 154, 170,\n",
              "        253, 253, 253, 253, 253, 225, 172, 253, 242, 195,  64,   0,   0,\n",
              "          0,   0],\n",
              "       [  0,   0,   0,   0,   0,   0,   0,  49, 238, 253, 253, 253, 253,\n",
              "        253, 253, 253, 253, 251,  93,  82,  82,  56,  39,   0,   0,   0,\n",
              "          0,   0],\n",
              "       [  0,   0,   0,   0,   0,   0,   0,  18, 219, 253, 253, 253, 253,\n",
              "        253, 198, 182, 247, 241,   0,   0,   0,   0,   0,   0,   0,   0,\n",
              "          0,   0],\n",
              "       [  0,   0,   0,   0,   0,   0,   0,   0,  80, 156, 107, 253, 253,\n",
              "        205,  11,   0,  43, 154,   0,   0,   0,   0,   0,   0,   0,   0,\n",
              "          0,   0],\n",
              "       [  0,   0,   0,   0,   0,   0,   0,   0,   0,  14,   1, 154, 253,\n",
              "         90,   0,   0,   0,   0,   0,   0,   0,   0,   0,   0,   0,   0,\n",
              "          0,   0],\n",
              "       [  0,   0,   0,   0,   0,   0,   0,   0,   0,   0,   0, 139, 253,\n",
              "        190,   2,   0,   0,   0,   0,   0,   0,   0,   0,   0,   0,   0,\n",
              "          0,   0],\n",
              "       [  0,   0,   0,   0,   0,   0,   0,   0,   0,   0,   0,  11, 190,\n",
              "        253,  70,   0,   0,   0,   0,   0,   0,   0,   0,   0,   0,   0,\n",
              "          0,   0],\n",
              "       [  0,   0,   0,   0,   0,   0,   0,   0,   0,   0,   0,   0,  35,\n",
              "        241, 225, 160, 108,   1,   0,   0,   0,   0,   0,   0,   0,   0,\n",
              "          0,   0],\n",
              "       [  0,   0,   0,   0,   0,   0,   0,   0,   0,   0,   0,   0,   0,\n",
              "         81, 240, 253, 253, 119,  25,   0,   0,   0,   0,   0,   0,   0,\n",
              "          0,   0],\n",
              "       [  0,   0,   0,   0,   0,   0,   0,   0,   0,   0,   0,   0,   0,\n",
              "          0,  45, 186, 253, 253, 150,  27,   0,   0,   0,   0,   0,   0,\n",
              "          0,   0],\n",
              "       [  0,   0,   0,   0,   0,   0,   0,   0,   0,   0,   0,   0,   0,\n",
              "          0,   0,  16,  93, 252, 253, 187,   0,   0,   0,   0,   0,   0,\n",
              "          0,   0],\n",
              "       [  0,   0,   0,   0,   0,   0,   0,   0,   0,   0,   0,   0,   0,\n",
              "          0,   0,   0,   0, 249, 253, 249,  64,   0,   0,   0,   0,   0,\n",
              "          0,   0],\n",
              "       [  0,   0,   0,   0,   0,   0,   0,   0,   0,   0,   0,   0,   0,\n",
              "          0,  46, 130, 183, 253, 253, 207,   2,   0,   0,   0,   0,   0,\n",
              "          0,   0],\n",
              "       [  0,   0,   0,   0,   0,   0,   0,   0,   0,   0,   0,   0,  39,\n",
              "        148, 229, 253, 253, 253, 250, 182,   0,   0,   0,   0,   0,   0,\n",
              "          0,   0],\n",
              "       [  0,   0,   0,   0,   0,   0,   0,   0,   0,   0,  24, 114, 221,\n",
              "        253, 253, 253, 253, 201,  78,   0,   0,   0,   0,   0,   0,   0,\n",
              "          0,   0],\n",
              "       [  0,   0,   0,   0,   0,   0,   0,   0,  23,  66, 213, 253, 253,\n",
              "        253, 253, 198,  81,   2,   0,   0,   0,   0,   0,   0,   0,   0,\n",
              "          0,   0],\n",
              "       [  0,   0,   0,   0,   0,   0,  18, 171, 219, 253, 253, 253, 253,\n",
              "        195,  80,   9,   0,   0,   0,   0,   0,   0,   0,   0,   0,   0,\n",
              "          0,   0],\n",
              "       [  0,   0,   0,   0,  55, 172, 226, 253, 253, 253, 253, 244, 133,\n",
              "         11,   0,   0,   0,   0,   0,   0,   0,   0,   0,   0,   0,   0,\n",
              "          0,   0],\n",
              "       [  0,   0,   0,   0, 136, 253, 253, 253, 212, 135, 132,  16,   0,\n",
              "          0,   0,   0,   0,   0,   0,   0,   0,   0,   0,   0,   0,   0,\n",
              "          0,   0],\n",
              "       [  0,   0,   0,   0,   0,   0,   0,   0,   0,   0,   0,   0,   0,\n",
              "          0,   0,   0,   0,   0,   0,   0,   0,   0,   0,   0,   0,   0,\n",
              "          0,   0],\n",
              "       [  0,   0,   0,   0,   0,   0,   0,   0,   0,   0,   0,   0,   0,\n",
              "          0,   0,   0,   0,   0,   0,   0,   0,   0,   0,   0,   0,   0,\n",
              "          0,   0],\n",
              "       [  0,   0,   0,   0,   0,   0,   0,   0,   0,   0,   0,   0,   0,\n",
              "          0,   0,   0,   0,   0,   0,   0,   0,   0,   0,   0,   0,   0,\n",
              "          0,   0]], dtype=uint8)"
            ]
          },
          "metadata": {},
          "execution_count": 5
        }
      ]
    },
    {
      "cell_type": "code",
      "metadata": {
        "colab": {
          "base_uri": "https://localhost:8080/"
        },
        "id": "hwuVmpqnlSp5",
        "outputId": "1fd46fa0-ca70-4d63-ee77-c906540ecd34"
      },
      "source": [
        "X_train_full[0].shape"
      ],
      "execution_count": null,
      "outputs": [
        {
          "output_type": "execute_result",
          "data": {
            "text/plain": [
              "(28, 28)"
            ]
          },
          "metadata": {},
          "execution_count": 6
        }
      ]
    },
    {
      "cell_type": "code",
      "source": [
        "type(X_train_full)"
      ],
      "metadata": {
        "colab": {
          "base_uri": "https://localhost:8080/"
        },
        "id": "4ZElQYmzSgvh",
        "outputId": "3043cc6b-131e-497d-bb88-4763a6b4d2f6"
      },
      "execution_count": null,
      "outputs": [
        {
          "output_type": "execute_result",
          "data": {
            "text/plain": [
              "numpy.ndarray"
            ]
          },
          "metadata": {},
          "execution_count": 7
        }
      ]
    },
    {
      "cell_type": "code",
      "metadata": {
        "colab": {
          "base_uri": "https://localhost:8080/"
        },
        "id": "lz4kuVNElStS",
        "outputId": "680467fd-ed76-44fe-f16b-d5b14c7782b0"
      },
      "source": [
        "X_train_full.shape"
      ],
      "execution_count": null,
      "outputs": [
        {
          "output_type": "execute_result",
          "data": {
            "text/plain": [
              "(60000, 28, 28)"
            ]
          },
          "metadata": {},
          "execution_count": 8
        }
      ]
    },
    {
      "cell_type": "code",
      "metadata": {
        "colab": {
          "base_uri": "https://localhost:8080/"
        },
        "id": "ywAjHchplSwH",
        "outputId": "594a6845-3b70-49bc-d968-f10e4d0babeb"
      },
      "source": [
        "y_train_full.shape"
      ],
      "execution_count": null,
      "outputs": [
        {
          "output_type": "execute_result",
          "data": {
            "text/plain": [
              "(60000,)"
            ]
          },
          "metadata": {},
          "execution_count": 9
        }
      ]
    },
    {
      "cell_type": "code",
      "metadata": {
        "colab": {
          "base_uri": "https://localhost:8080/"
        },
        "id": "vJeHQm2nlSzS",
        "outputId": "fe727367-03b5-46b0-d54b-5df8469bc8d0"
      },
      "source": [
        "y_train_full[0]"
      ],
      "execution_count": null,
      "outputs": [
        {
          "output_type": "execute_result",
          "data": {
            "text/plain": [
              "5"
            ]
          },
          "metadata": {},
          "execution_count": 10
        }
      ]
    },
    {
      "cell_type": "code",
      "metadata": {
        "colab": {
          "base_uri": "https://localhost:8080/",
          "height": 199
        },
        "id": "jHhOyY-xlvFk",
        "outputId": "79853e24-7d70-41aa-f9bf-35159bbd342a"
      },
      "source": [
        "plt.figure(figsize=(20,8))\n",
        "for index in range(5):\n",
        "  plt.subplot(1,5,index+1)\n",
        "  plt.imshow(X_train_full[index], cmap='binary')\n",
        "  plt.axis('off')\n",
        "  plt.title(f'Target: {y_train_full[index]}', fontsize=20, c='grey')\n",
        "\n",
        "plt.show()"
      ],
      "execution_count": null,
      "outputs": [
        {
          "output_type": "display_data",
          "data": {
            "text/plain": [
              "<Figure size 2000x800 with 5 Axes>"
            ],
            "image/png": "[encoded data removed]"
          },
          "metadata": {}
        }
      ]
    },
    {
      "cell_type": "code",
      "metadata": {
        "id": "DseOD_XYlvI2"
      },
      "source": [],
      "execution_count": null,
      "outputs": []
    },
    {
      "cell_type": "code",
      "metadata": {
        "id": "hr6kN2T7nQlx",
        "colab": {
          "base_uri": "https://localhost:8080/"
        },
        "outputId": "c419a9f9-10ef-4a52-c0f5-1888a5e240a4"
      },
      "source": [
        "# Come back to MNIST Fashion dataset\n",
        "fashion_mnist = keras.datasets.fashion_mnist\n",
        "(X_train_full, y_train_full), (X_test, y_test) = fashion_mnist.load_data()"
      ],
      "execution_count": null,
      "outputs": [
        {
          "output_type": "stream",
          "name": "stdout",
          "text": [
            "Downloading data from https://storage.googleapis.com/tensorflow/tf-keras-datasets/train-labels-idx1-ubyte.gz\n",
            "29515/29515 [==============================] - 0s 1us/step\n",
            "Downloading data from https://storage.googleapis.com/tensorflow/tf-keras-datasets/train-images-idx3-ubyte.gz\n",
            "26421880/26421880 [==============================] - 2s 0us/step\n",
            "Downloading data from https://storage.googleapis.com/tensorflow/tf-keras-datasets/t10k-labels-idx1-ubyte.gz\n",
            "5148/5148 [==============================] - 0s 0us/step\n",
            "Downloading data from https://storage.googleapis.com/tensorflow/tf-keras-datasets/t10k-images-idx3-ubyte.gz\n",
            "4422102/4422102 [==============================] - 1s 0us/step\n"
          ]
        }
      ]
    },
    {
      "cell_type": "code",
      "metadata": {
        "colab": {
          "base_uri": "https://localhost:8080/"
        },
        "id": "jJz5KM8knQql",
        "outputId": "e8c78431-1644-4a6a-9985-d57c7597c905"
      },
      "source": [
        "type(X_train_full)"
      ],
      "execution_count": null,
      "outputs": [
        {
          "output_type": "execute_result",
          "data": {
            "text/plain": [
              "numpy.ndarray"
            ]
          },
          "metadata": {},
          "execution_count": 13
        }
      ]
    },
    {
      "cell_type": "code",
      "metadata": {
        "colab": {
          "base_uri": "https://localhost:8080/"
        },
        "id": "WbnUa4D0nQva",
        "outputId": "66b0e46f-06aa-458a-bd04-b41c046be486"
      },
      "source": [
        "X_train_full.shape"
      ],
      "execution_count": null,
      "outputs": [
        {
          "output_type": "execute_result",
          "data": {
            "text/plain": [
              "(60000, 28, 28)"
            ]
          },
          "metadata": {},
          "execution_count": 14
        }
      ]
    },
    {
      "cell_type": "code",
      "metadata": {
        "colab": {
          "base_uri": "https://localhost:8080/"
        },
        "id": "wh_AUtTmlvLy",
        "outputId": "f7a3a5a4-dfea-40e9-a48b-da86e9a0002b"
      },
      "source": [
        "y_train_full.shape"
      ],
      "execution_count": null,
      "outputs": [
        {
          "output_type": "execute_result",
          "data": {
            "text/plain": [
              "(60000,)"
            ]
          },
          "metadata": {},
          "execution_count": 15
        }
      ]
    },
    {
      "cell_type": "code",
      "metadata": {
        "colab": {
          "base_uri": "https://localhost:8080/"
        },
        "id": "uN6UDt6un80A",
        "outputId": "a03ae36f-319f-4bc5-f797-03ebb57787a1"
      },
      "source": [
        "X_test.shape"
      ],
      "execution_count": null,
      "outputs": [
        {
          "output_type": "execute_result",
          "data": {
            "text/plain": [
              "(10000, 28, 28)"
            ]
          },
          "metadata": {},
          "execution_count": 16
        }
      ]
    },
    {
      "cell_type": "code",
      "metadata": {
        "colab": {
          "base_uri": "https://localhost:8080/",
          "height": 448
        },
        "id": "_PrR7BJCn83p",
        "outputId": "139a91ac-2d4f-424f-9dde-96086abfd3b8"
      },
      "source": [
        "plt.imshow(X_train_full[0], cmap='binary')"
      ],
      "execution_count": null,
      "outputs": [
        {
          "output_type": "execute_result",
          "data": {
            "text/plain": [
              "<matplotlib.image.AxesImage at 0x7a4aa52de110>"
            ]
          },
          "metadata": {},
          "execution_count": 17
        },
        {
          "output_type": "display_data",
          "data": {
            "text/plain": [
              "<Figure size 640x480 with 1 Axes>"
            ],
            "image/png": "[encoded data removed]"
          },
          "metadata": {}
        }
      ]
    },
    {
      "cell_type": "code",
      "metadata": {
        "colab": {
          "base_uri": "https://localhost:8080/"
        },
        "id": "KYaras6dn86o",
        "outputId": "7556d7c0-1d80-4f06-ea36-84307dfc4702"
      },
      "source": [
        "y_train_full[0]"
      ],
      "execution_count": null,
      "outputs": [
        {
          "output_type": "execute_result",
          "data": {
            "text/plain": [
              "9"
            ]
          },
          "metadata": {},
          "execution_count": 18
        }
      ]
    },
    {
      "cell_type": "code",
      "metadata": {
        "id": "pfw_v67jn893"
      },
      "source": [
        "classes = ['T-shirt/top', 'Pants', 'Pullover', 'Dress', 'Coat', 'Sandal',\n",
        "           'Shirt', 'Sneaker', 'Bag', 'Ankle Boot']"
      ],
      "execution_count": null,
      "outputs": []
    },
    {
      "cell_type": "code",
      "metadata": {
        "colab": {
          "base_uri": "https://localhost:8080/"
        },
        "id": "hqEtjSNWormW",
        "outputId": "d037300d-65eb-49e1-951a-41066468bb67"
      },
      "source": [
        "# we used method value_counts() -- but this is a pandas method\n",
        "# y_train_full.value_counts()\n",
        "\n",
        "# Use collections Counter\n",
        "from collections import Counter\n",
        "Counter(y_train_full)"
      ],
      "execution_count": null,
      "outputs": [
        {
          "output_type": "execute_result",
          "data": {
            "text/plain": [
              "Counter({9: 6000,\n",
              "         0: 6000,\n",
              "         3: 6000,\n",
              "         2: 6000,\n",
              "         7: 6000,\n",
              "         5: 6000,\n",
              "         1: 6000,\n",
              "         6: 6000,\n",
              "         4: 6000,\n",
              "         8: 6000})"
            ]
          },
          "metadata": {},
          "execution_count": 20
        }
      ]
    },
    {
      "cell_type": "markdown",
      "metadata": {
        "id": "YmxHMLdSp1uj"
      },
      "source": [
        "**Question 1** </br>\n",
        "Plot an image of pants from the training set."
      ]
    },
    {
      "cell_type": "code",
      "metadata": {
        "colab": {
          "base_uri": "https://localhost:8080/",
          "height": 448
        },
        "id": "xjTZgrROorpj",
        "outputId": "2b761d08-9513-45e5-ba1a-a33ca27f5c58"
      },
      "source": [
        "pants = X_train_full[y_train_full==1]\n",
        "plt.imshow(pants[0], cmap='binary')"
      ],
      "execution_count": null,
      "outputs": [
        {
          "output_type": "execute_result",
          "data": {
            "text/plain": [
              "<matplotlib.image.AxesImage at 0x7a4aa4b5f5e0>"
            ]
          },
          "metadata": {},
          "execution_count": 21
        },
        {
          "output_type": "display_data",
          "data": {
            "text/plain": [
              "<Figure size 640x480 with 1 Axes>"
            ],
            "image/png": "[encoded data removed]"
          },
          "metadata": {}
        }
      ]
    },
    {
      "cell_type": "code",
      "metadata": {
        "colab": {
          "base_uri": "https://localhost:8080/",
          "height": 182
        },
        "id": "mEiI8lCTorve",
        "outputId": "404ceb82-9ac2-4151-fe4a-aefb66ff4fcc"
      },
      "source": [
        "plt.figure(figsize=(20,8))\n",
        "for index in range(5):\n",
        "  plt.subplot(1,5,index+1)\n",
        "  plt.imshow(pants[index], cmap='binary')\n",
        "  plt.axis('off')\n",
        "  #plt.title(f'Target: {y_train_full[index]}', fontsize=20, c='grey')\n",
        "\n",
        "plt.show()"
      ],
      "execution_count": null,
      "outputs": [
        {
          "output_type": "display_data",
          "data": {
            "text/plain": [
              "<Figure size 2000x800 with 5 Axes>"
            ],
            "image/png": "[encoded data removed]"
          },
          "metadata": {}
        }
      ]
    },
    {
      "cell_type": "markdown",
      "metadata": {
        "id": "e9yvwvOJsgKJ"
      },
      "source": [
        "Training a NN with Keras\n",
        "1. Preprocess data\n",
        "2. Create model (NN architecture)\n",
        "3. Compile (specify loss function, optimizers, metrics)\n",
        "4. Fit (training & validate, batch_size, \\# epochs)\n",
        "5. Evaluate"
      ]
    },
    {
      "cell_type": "code",
      "metadata": {
        "id": "oGqJxlDFqDF7"
      },
      "source": [
        "# 1. Preprocess data (both training and testing datasets)\n",
        "\n",
        "# Scale to [0,1]\n",
        "X_train_full = X_train_full/255\n",
        "X_test = X_test/255\n",
        "# Only execute this cell once!\n",
        "# If you don't scale the data keras does not achieve higher than 10% accuracy"
      ],
      "execution_count": null,
      "outputs": []
    },
    {
      "cell_type": "code",
      "source": [
        "X_train_full.shape"
      ],
      "metadata": {
        "colab": {
          "base_uri": "https://localhost:8080/"
        },
        "id": "FXWHGiTg33V3",
        "outputId": "214d663a-c3f2-48d2-f614-791dbf06855b"
      },
      "execution_count": null,
      "outputs": [
        {
          "output_type": "execute_result",
          "data": {
            "text/plain": [
              "(60000, 28, 28)"
            ]
          },
          "metadata": {},
          "execution_count": 24
        }
      ]
    },
    {
      "cell_type": "code",
      "metadata": {
        "id": "Kk4auqnnqDJF"
      },
      "source": [
        "# Reshape to 1D, or flatten, before sending to keras\n",
        "X_train_full = X_train_full.reshape(-1, 784) # -1 tells numpy to figure out size, would be 60000\n",
        "X_test = X_test.reshape(-1, 784)  # -1 would be 10000"
      ],
      "execution_count": null,
      "outputs": []
    },
    {
      "cell_type": "code",
      "source": [],
      "metadata": {
        "id": "__EKX7H34GKA"
      },
      "execution_count": null,
      "outputs": []
    },
    {
      "cell_type": "code",
      "metadata": {
        "colab": {
          "base_uri": "https://localhost:8080/"
        },
        "id": "CIj180tKqDMQ",
        "outputId": "812475d7-e755-4471-ef70-72c832bc0ee1"
      },
      "source": [
        "X_train_full.shape"
      ],
      "execution_count": null,
      "outputs": [
        {
          "output_type": "execute_result",
          "data": {
            "text/plain": [
              "(60000, 784)"
            ]
          },
          "metadata": {},
          "execution_count": 26
        }
      ]
    },
    {
      "cell_type": "code",
      "metadata": {
        "id": "o6Sjz0tCqDP2"
      },
      "source": [
        "# Create validation dataset\n",
        "from sklearn.model_selection import train_test_split\n",
        "X_train_tr, X_train_v, y_train_tr, y_train_v = train_test_split(X_train_full,\n",
        "                                                                y_train_full,\n",
        "                                                                test_size=5000)\n",
        "\n",
        "# Note keras does have an optional parameter\n",
        "# validation_split = fraction\n",
        "# which takes data from the end of the training set and uses it for validation --\n",
        "# however it takes from the end (not random)"
      ],
      "execution_count": null,
      "outputs": []
    },
    {
      "cell_type": "code",
      "metadata": {
        "colab": {
          "base_uri": "https://localhost:8080/"
        },
        "id": "3hT4Jm2LvuB7",
        "outputId": "975ff95b-1c4a-4a3b-b98c-a68cd68abb67"
      },
      "source": [
        "X_train_tr.shape"
      ],
      "execution_count": null,
      "outputs": [
        {
          "output_type": "execute_result",
          "data": {
            "text/plain": [
              "(55000, 784)"
            ]
          },
          "metadata": {},
          "execution_count": 28
        }
      ]
    },
    {
      "cell_type": "code",
      "metadata": {
        "colab": {
          "base_uri": "https://localhost:8080/"
        },
        "id": "4Jo-VgOXvuFi",
        "outputId": "82c66181-9cb8-4d11-f718-64206064da23"
      },
      "source": [
        "X_train_v.shape"
      ],
      "execution_count": null,
      "outputs": [
        {
          "output_type": "execute_result",
          "data": {
            "text/plain": [
              "(5000, 784)"
            ]
          },
          "metadata": {},
          "execution_count": 29
        }
      ]
    },
    {
      "cell_type": "code",
      "metadata": {
        "id": "Z2mi3Y_vvuaI"
      },
      "source": [
        "# 2. Create model\n",
        "model = keras.models.Sequential()\n",
        "model.add(keras.layers.Dense(500, activation=\"relu\", input_shape=(784,),\n",
        "                             name=\"First_Hidden_Layer\"))\n",
        "model.add(keras.layers.Dense(500, activation=\"relu\", name=\"Second_Hidden_Layer\"))\n",
        "model.add(keras.layers.Dense(10, activation=\"softmax\", name=\"Output_Layer\"))"
      ],
      "execution_count": null,
      "outputs": []
    },
    {
      "cell_type": "code",
      "metadata": {
        "colab": {
          "base_uri": "https://localhost:8080/"
        },
        "id": "lXhGQvK7xJCK",
        "outputId": "4af895dd-22fc-431d-ff60-4874ac5a7548"
      },
      "source": [
        "model.summary()"
      ],
      "execution_count": null,
      "outputs": [
        {
          "output_type": "stream",
          "name": "stdout",
          "text": [
            "Model: \"sequential\"\n",
            "_________________________________________________________________\n",
            " Layer (type)                Output Shape              Param #   \n",
            "=================================================================\n",
            " First_Hidden_Layer (Dense)  (None, 500)               392500    \n",
            "                                                                 \n",
            " Second_Hidden_Layer (Dense)  (None, 500)              250500    \n",
            "                                                                 \n",
            " Output_Layer (Dense)        (None, 10)                5010      \n",
            "                                                                 \n",
            "=================================================================\n",
            "Total params: 648,010\n",
            "Trainable params: 648,010\n",
            "Non-trainable params: 0\n",
            "_________________________________________________________________\n"
          ]
        }
      ]
    },
    {
      "cell_type": "code",
      "metadata": {
        "colab": {
          "base_uri": "https://localhost:8080/",
          "height": 422
        },
        "id": "GlCOxlh_xJFF",
        "outputId": "610bcdcb-9a5d-4e71-f32e-988daa4b661e"
      },
      "source": [
        "keras.utils.plot_model(model, show_shapes=True)"
      ],
      "execution_count": null,
      "outputs": [
        {
          "output_type": "execute_result",
          "data": {
            "image/png": "[encoded data removed]",
            "text/plain": [
              "<IPython.core.display.Image object>"
            ]
          },
          "metadata": {},
          "execution_count": 32
        }
      ]
    },
    {
      "cell_type": "code",
      "metadata": {
        "colab": {
          "base_uri": "https://localhost:8080/",
          "height": 36
        },
        "id": "MjTs0VM5xJIi",
        "outputId": "5ffdc886-0d94-4adf-c628-1dd57e0f3d86"
      },
      "source": [
        "model.layers[0].name"
      ],
      "execution_count": null,
      "outputs": [
        {
          "output_type": "execute_result",
          "data": {
            "text/plain": [
              "'First_Hidden_Layer'"
            ],
            "application/vnd.google.colaboratory.intrinsic+json": {
              "type": "string"
            }
          },
          "metadata": {},
          "execution_count": 33
        }
      ]
    },
    {
      "cell_type": "code",
      "metadata": {
        "colab": {
          "base_uri": "https://localhost:8080/"
        },
        "id": "wXtb7Ol0zQ4r",
        "outputId": "dfacdae8-5a35-4a01-c75f-d3de97965c81"
      },
      "source": [
        "model.layers[0].get_weights()"
      ],
      "execution_count": null,
      "outputs": [
        {
          "output_type": "execute_result",
          "data": {
            "text/plain": [
              "[array([[ 0.03814585,  0.01600864, -0.00810173, ..., -0.05080074,\n",
              "          0.04868218, -0.04232697],\n",
              "        [ 0.06802031,  0.01593277, -0.02789614, ..., -0.00592553,\n",
              "         -0.00072934, -0.03052552],\n",
              "        [-0.00188561, -0.03379737,  0.03831305, ..., -0.05206217,\n",
              "          0.05319323, -0.06551292],\n",
              "        ...,\n",
              "        [-0.01613019, -0.05686281,  0.01140668, ..., -0.04088095,\n",
              "         -0.02586072,  0.05242401],\n",
              "        [-0.05758807, -0.03830266,  0.03851379, ...,  0.06468024,\n",
              "          0.04222906, -0.06357183],\n",
              "        [-0.03360153,  0.04039032,  0.03902882, ...,  0.01894309,\n",
              "          0.06552883, -0.0118934 ]], dtype=float32),\n",
              " array([0., 0., 0., 0., 0., 0., 0., 0., 0., 0., 0., 0., 0., 0., 0., 0., 0.,\n",
              "        0., 0., 0., 0., 0., 0., 0., 0., 0., 0., 0., 0., 0., 0., 0., 0., 0.,\n",
              "        0., 0., 0., 0., 0., 0., 0., 0., 0., 0., 0., 0., 0., 0., 0., 0., 0.,\n",
              "        0., 0., 0., 0., 0., 0., 0., 0., 0., 0., 0., 0., 0., 0., 0., 0., 0.,\n",
              "        0., 0., 0., 0., 0., 0., 0., 0., 0., 0., 0., 0., 0., 0., 0., 0., 0.,\n",
              "        0., 0., 0., 0., 0., 0., 0., 0., 0., 0., 0., 0., 0., 0., 0., 0., 0.,\n",
              "        0., 0., 0., 0., 0., 0., 0., 0., 0., 0., 0., 0., 0., 0., 0., 0., 0.,\n",
              "        0., 0., 0., 0., 0., 0., 0., 0., 0., 0., 0., 0., 0., 0., 0., 0., 0.,\n",
              "        0., 0., 0., 0., 0., 0., 0., 0., 0., 0., 0., 0., 0., 0., 0., 0., 0.,\n",
              "        0., 0., 0., 0., 0., 0., 0., 0., 0., 0., 0., 0., 0., 0., 0., 0., 0.,\n",
              "        0., 0., 0., 0., 0., 0., 0., 0., 0., 0., 0., 0., 0., 0., 0., 0., 0.,\n",
              "        0., 0., 0., 0., 0., 0., 0., 0., 0., 0., 0., 0., 0., 0., 0., 0., 0.,\n",
              "        0., 0., 0., 0., 0., 0., 0., 0., 0., 0., 0., 0., 0., 0., 0., 0., 0.,\n",
              "        0., 0., 0., 0., 0., 0., 0., 0., 0., 0., 0., 0., 0., 0., 0., 0., 0.,\n",
              "        0., 0., 0., 0., 0., 0., 0., 0., 0., 0., 0., 0., 0., 0., 0., 0., 0.,\n",
              "        0., 0., 0., 0., 0., 0., 0., 0., 0., 0., 0., 0., 0., 0., 0., 0., 0.,\n",
              "        0., 0., 0., 0., 0., 0., 0., 0., 0., 0., 0., 0., 0., 0., 0., 0., 0.,\n",
              "        0., 0., 0., 0., 0., 0., 0., 0., 0., 0., 0., 0., 0., 0., 0., 0., 0.,\n",
              "        0., 0., 0., 0., 0., 0., 0., 0., 0., 0., 0., 0., 0., 0., 0., 0., 0.,\n",
              "        0., 0., 0., 0., 0., 0., 0., 0., 0., 0., 0., 0., 0., 0., 0., 0., 0.,\n",
              "        0., 0., 0., 0., 0., 0., 0., 0., 0., 0., 0., 0., 0., 0., 0., 0., 0.,\n",
              "        0., 0., 0., 0., 0., 0., 0., 0., 0., 0., 0., 0., 0., 0., 0., 0., 0.,\n",
              "        0., 0., 0., 0., 0., 0., 0., 0., 0., 0., 0., 0., 0., 0., 0., 0., 0.,\n",
              "        0., 0., 0., 0., 0., 0., 0., 0., 0., 0., 0., 0., 0., 0., 0., 0., 0.,\n",
              "        0., 0., 0., 0., 0., 0., 0., 0., 0., 0., 0., 0., 0., 0., 0., 0., 0.,\n",
              "        0., 0., 0., 0., 0., 0., 0., 0., 0., 0., 0., 0., 0., 0., 0., 0., 0.,\n",
              "        0., 0., 0., 0., 0., 0., 0., 0., 0., 0., 0., 0., 0., 0., 0., 0., 0.,\n",
              "        0., 0., 0., 0., 0., 0., 0., 0., 0., 0., 0., 0., 0., 0., 0., 0., 0.,\n",
              "        0., 0., 0., 0., 0., 0., 0., 0., 0., 0., 0., 0., 0., 0., 0., 0., 0.,\n",
              "        0., 0., 0., 0., 0., 0., 0.], dtype=float32)]"
            ]
          },
          "metadata": {},
          "execution_count": 34
        }
      ]
    },
    {
      "cell_type": "code",
      "metadata": {
        "colab": {
          "base_uri": "https://localhost:8080/"
        },
        "id": "4KpRxEnPzQ8F",
        "outputId": "88953317-257a-4720-8462-fe3d555a3503"
      },
      "source": [
        "model.layers[0].get_weights()[0] # connection weights in first hidden layer\n",
        "# [1] -> biases"
      ],
      "execution_count": null,
      "outputs": [
        {
          "output_type": "execute_result",
          "data": {
            "text/plain": [
              "array([[ 0.03814585,  0.01600864, -0.00810173, ..., -0.05080074,\n",
              "         0.04868218, -0.04232697],\n",
              "       [ 0.06802031,  0.01593277, -0.02789614, ..., -0.00592553,\n",
              "        -0.00072934, -0.03052552],\n",
              "       [-0.00188561, -0.03379737,  0.03831305, ..., -0.05206217,\n",
              "         0.05319323, -0.06551292],\n",
              "       ...,\n",
              "       [-0.01613019, -0.05686281,  0.01140668, ..., -0.04088095,\n",
              "        -0.02586072,  0.05242401],\n",
              "       [-0.05758807, -0.03830266,  0.03851379, ...,  0.06468024,\n",
              "         0.04222906, -0.06357183],\n",
              "       [-0.03360153,  0.04039032,  0.03902882, ...,  0.01894309,\n",
              "         0.06552883, -0.0118934 ]], dtype=float32)"
            ]
          },
          "metadata": {},
          "execution_count": 35
        }
      ]
    },
    {
      "cell_type": "code",
      "metadata": {
        "colab": {
          "base_uri": "https://localhost:8080/"
        },
        "id": "mvwUdcOkzQ_l",
        "outputId": "4428082d-8c58-42b5-967b-33b2b48309cf"
      },
      "source": [
        "model.layers[2].get_weights()[0].shape"
      ],
      "execution_count": null,
      "outputs": [
        {
          "output_type": "execute_result",
          "data": {
            "text/plain": [
              "(500, 10)"
            ]
          },
          "metadata": {},
          "execution_count": 36
        }
      ]
    },
    {
      "cell_type": "code",
      "metadata": {
        "id": "ExmDUNe1zRLu"
      },
      "source": [
        "# 3. Compile model\n",
        "model.compile(loss=\"sparse_categorical_crossentropy\", optimizer=\"sgd\",\n",
        "              metrics=[\"accuracy\"])\n",
        "\n",
        "# Some explanation on the cross entropy loss function:\n",
        "# depends on your input type\n",
        "# sparse_categorical_crossentropy is for when we have \"sparse\" labels--\n",
        "#    each instance has one target index, ie with different numbers or\n",
        "#    labels for the different classes (THIS IS WHAT WE HAVE) (ie [2])\n",
        "#    -- classes are exclusive\n",
        "# categorical_crossentropy is for when each instance has one target\n",
        "#    probability for each class (ie a one-hot vector [0,0,1,0,0,0,0,0,0,0]\n",
        "#    to represent class 2); you'll have this if you use one-hot-encoding\n",
        "# binary_crossentropy is for binary classification -- and then \"sigmoid\" or\n",
        "#    logistic as the activation function (instead of \"softmax\")\n",
        "\n",
        "# \"sgd\" means Stochastic Gradient Descent, which uses a default learning rate\n",
        "#     of 0.01; we can specify the learning rate by using:\n",
        "#     optimizer=keras.optimizers.SGD(lr=?)"
      ],
      "execution_count": null,
      "outputs": []
    },
    {
      "cell_type": "code",
      "metadata": {
        "colab": {
          "base_uri": "https://localhost:8080/"
        },
        "id": "4-qRAc49V4wg",
        "outputId": "7a729fff-f75b-47eb-918e-b657ea94436f"
      },
      "source": [
        "y_train_tr[0]"
      ],
      "execution_count": null,
      "outputs": [
        {
          "output_type": "execute_result",
          "data": {
            "text/plain": [
              "2"
            ]
          },
          "metadata": {},
          "execution_count": 38
        }
      ]
    },
    {
      "cell_type": "code",
      "metadata": {
        "colab": {
          "base_uri": "https://localhost:8080/"
        },
        "id": "25qvU49JV4zR",
        "outputId": "f5cfe6b3-e456-4634-d664-2cdd4f85abf6"
      },
      "source": [
        "# 4. Fit (ie train) on data\n",
        "history = model.fit(X_train_tr, y_train_tr, epochs=20, batch_size=32,\n",
        "                    validation_data=(X_train_v, y_train_v))"
      ],
      "execution_count": null,
      "outputs": [
        {
          "output_type": "stream",
          "name": "stdout",
          "text": [
            "Epoch 1/20\n",
            "1719/1719 [==============================] - 21s 7ms/step - loss: 0.7131 - accuracy: 0.7668 - val_loss: 0.5551 - val_accuracy: 0.7994\n",
            "Epoch 2/20\n",
            "1719/1719 [==============================] - 8s 5ms/step - loss: 0.4831 - accuracy: 0.8331 - val_loss: 0.4642 - val_accuracy: 0.8354\n",
            "Epoch 3/20\n",
            "1719/1719 [==============================] - 6s 3ms/step - loss: 0.4381 - accuracy: 0.8478 - val_loss: 0.4676 - val_accuracy: 0.8354\n",
            "Epoch 4/20\n",
            "1719/1719 [==============================] - 7s 4ms/step - loss: 0.4117 - accuracy: 0.8571 - val_loss: 0.4127 - val_accuracy: 0.8558\n",
            "Epoch 5/20\n",
            "1719/1719 [==============================] - 6s 3ms/step - loss: 0.3903 - accuracy: 0.8633 - val_loss: 0.3963 - val_accuracy: 0.8608\n",
            "Epoch 6/20\n",
            "1719/1719 [==============================] - 7s 4ms/step - loss: 0.3753 - accuracy: 0.8690 - val_loss: 0.3946 - val_accuracy: 0.8656\n",
            "Epoch 7/20\n",
            "1719/1719 [==============================] - 6s 3ms/step - loss: 0.3598 - accuracy: 0.8737 - val_loss: 0.3774 - val_accuracy: 0.8652\n",
            "Epoch 8/20\n",
            "1719/1719 [==============================] - 7s 4ms/step - loss: 0.3477 - accuracy: 0.8773 - val_loss: 0.3602 - val_accuracy: 0.8720\n",
            "Epoch 9/20\n",
            "1719/1719 [==============================] - 6s 3ms/step - loss: 0.3372 - accuracy: 0.8815 - val_loss: 0.3593 - val_accuracy: 0.8726\n",
            "Epoch 10/20\n",
            "1719/1719 [==============================] - 7s 4ms/step - loss: 0.3273 - accuracy: 0.8835 - val_loss: 0.3541 - val_accuracy: 0.8714\n",
            "Epoch 11/20\n",
            "1719/1719 [==============================] - 6s 3ms/step - loss: 0.3178 - accuracy: 0.8872 - val_loss: 0.3549 - val_accuracy: 0.8764\n",
            "Epoch 12/20\n",
            "1719/1719 [==============================] - 7s 4ms/step - loss: 0.3095 - accuracy: 0.8906 - val_loss: 0.3492 - val_accuracy: 0.8758\n",
            "Epoch 13/20\n",
            "1719/1719 [==============================] - 6s 3ms/step - loss: 0.3017 - accuracy: 0.8933 - val_loss: 0.3398 - val_accuracy: 0.8812\n",
            "Epoch 14/20\n",
            "1719/1719 [==============================] - 6s 4ms/step - loss: 0.2946 - accuracy: 0.8942 - val_loss: 0.3406 - val_accuracy: 0.8792\n",
            "Epoch 15/20\n",
            "1719/1719 [==============================] - 6s 3ms/step - loss: 0.2878 - accuracy: 0.8971 - val_loss: 0.3253 - val_accuracy: 0.8860\n",
            "Epoch 16/20\n",
            "1719/1719 [==============================] - 7s 4ms/step - loss: 0.2821 - accuracy: 0.8982 - val_loss: 0.3252 - val_accuracy: 0.8866\n",
            "Epoch 17/20\n",
            "1719/1719 [==============================] - 6s 3ms/step - loss: 0.2753 - accuracy: 0.9020 - val_loss: 0.3238 - val_accuracy: 0.8844\n",
            "Epoch 18/20\n",
            "1719/1719 [==============================] - 7s 4ms/step - loss: 0.2701 - accuracy: 0.9028 - val_loss: 0.3436 - val_accuracy: 0.8794\n",
            "Epoch 19/20\n",
            "1719/1719 [==============================] - 6s 3ms/step - loss: 0.2645 - accuracy: 0.9047 - val_loss: 0.3480 - val_accuracy: 0.8756\n",
            "Epoch 20/20\n",
            "1719/1719 [==============================] - 7s 4ms/step - loss: 0.2594 - accuracy: 0.9072 - val_loss: 0.3185 - val_accuracy: 0.8880\n"
          ]
        }
      ]
    },
    {
      "cell_type": "code",
      "metadata": {
        "colab": {
          "base_uri": "https://localhost:8080/"
        },
        "id": "1PwFSrp1V422",
        "outputId": "7b9ebece-979c-403f-826e-c0b4b0d5936c"
      },
      "source": [
        "history.params"
      ],
      "execution_count": null,
      "outputs": [
        {
          "output_type": "execute_result",
          "data": {
            "text/plain": [
              "{'verbose': 1, 'epochs': 20, 'steps': 1719}"
            ]
          },
          "metadata": {},
          "execution_count": 40
        }
      ]
    },
    {
      "cell_type": "code",
      "metadata": {
        "colab": {
          "base_uri": "https://localhost:8080/"
        },
        "id": "jXpw83uWZahO",
        "outputId": "8ecb01c2-d437-4a3a-d1bb-18282f30a2f3"
      },
      "source": [
        "history.epoch"
      ],
      "execution_count": null,
      "outputs": [
        {
          "output_type": "execute_result",
          "data": {
            "text/plain": [
              "[0, 1, 2, 3, 4, 5, 6, 7, 8, 9, 10, 11, 12, 13, 14, 15, 16, 17, 18, 19]"
            ]
          },
          "metadata": {},
          "execution_count": 41
        }
      ]
    },
    {
      "cell_type": "code",
      "metadata": {
        "colab": {
          "base_uri": "https://localhost:8080/"
        },
        "id": "KsYTJlksZaj5",
        "outputId": "df147700-4c8c-4b84-aed5-17a1f083c598"
      },
      "source": [
        "history.history"
      ],
      "execution_count": null,
      "outputs": [
        {
          "output_type": "execute_result",
          "data": {
            "text/plain": [
              "{'loss': [0.7131446599960327,\n",
              "  0.483133465051651,\n",
              "  0.4381145238876343,\n",
              "  0.4116921126842499,\n",
              "  0.3903057873249054,\n",
              "  0.37527281045913696,\n",
              "  0.35976719856262207,\n",
              "  0.34767964482307434,\n",
              "  0.3372250497341156,\n",
              "  0.32727518677711487,\n",
              "  0.31779566407203674,\n",
              "  0.3094639778137207,\n",
              "  0.30174851417541504,\n",
              "  0.29464855790138245,\n",
              "  0.28783097863197327,\n",
              "  0.28208959102630615,\n",
              "  0.27529704570770264,\n",
              "  0.27005499601364136,\n",
              "  0.2645244002342224,\n",
              "  0.2594047486782074],\n",
              " 'accuracy': [0.7668363451957703,\n",
              "  0.8330727219581604,\n",
              "  0.8477818369865417,\n",
              "  0.8571272492408752,\n",
              "  0.8633090853691101,\n",
              "  0.8689636588096619,\n",
              "  0.8737272620201111,\n",
              "  0.8773454427719116,\n",
              "  0.8815090656280518,\n",
              "  0.8835272789001465,\n",
              "  0.8871999979019165,\n",
              "  0.8905818462371826,\n",
              "  0.8932909369468689,\n",
              "  0.8942182064056396,\n",
              "  0.8971454501152039,\n",
              "  0.8981636166572571,\n",
              "  0.9020363688468933,\n",
              "  0.9028000235557556,\n",
              "  0.9047091007232666,\n",
              "  0.9072363376617432],\n",
              " 'val_loss': [0.5550658702850342,\n",
              "  0.46422216296195984,\n",
              "  0.46759897470474243,\n",
              "  0.41270020604133606,\n",
              "  0.39630064368247986,\n",
              "  0.3945658802986145,\n",
              "  0.3774174451828003,\n",
              "  0.3601534962654114,\n",
              "  0.35931694507598877,\n",
              "  0.3540644347667694,\n",
              "  0.3549313545227051,\n",
              "  0.3492024838924408,\n",
              "  0.33979493379592896,\n",
              "  0.34063535928726196,\n",
              "  0.3252992033958435,\n",
              "  0.32520514726638794,\n",
              "  0.32377421855926514,\n",
              "  0.34357792139053345,\n",
              "  0.3479500710964203,\n",
              "  0.31847578287124634],\n",
              " 'val_accuracy': [0.7993999719619751,\n",
              "  0.8353999853134155,\n",
              "  0.8353999853134155,\n",
              "  0.8557999730110168,\n",
              "  0.86080002784729,\n",
              "  0.8655999898910522,\n",
              "  0.8651999831199646,\n",
              "  0.871999979019165,\n",
              "  0.8726000189781189,\n",
              "  0.871399998664856,\n",
              "  0.8763999938964844,\n",
              "  0.8758000135421753,\n",
              "  0.8812000155448914,\n",
              "  0.8791999816894531,\n",
              "  0.8859999775886536,\n",
              "  0.8866000175476074,\n",
              "  0.8844000101089478,\n",
              "  0.8794000148773193,\n",
              "  0.8755999803543091,\n",
              "  0.8880000114440918]}"
            ]
          },
          "metadata": {},
          "execution_count": 42
        }
      ]
    },
    {
      "cell_type": "code",
      "metadata": {
        "colab": {
          "base_uri": "https://localhost:8080/"
        },
        "id": "K3AMmdOjZanb",
        "outputId": "d1925074-0f0b-4fe2-9157-64204ba20456"
      },
      "source": [
        "history.history.keys()"
      ],
      "execution_count": null,
      "outputs": [
        {
          "output_type": "execute_result",
          "data": {
            "text/plain": [
              "dict_keys(['loss', 'accuracy', 'val_loss', 'val_accuracy'])"
            ]
          },
          "metadata": {},
          "execution_count": 43
        }
      ]
    },
    {
      "cell_type": "code",
      "metadata": {
        "colab": {
          "base_uri": "https://localhost:8080/",
          "height": 617
        },
        "id": "EcjcZQlhZyBD",
        "outputId": "272e4ba1-0abd-44c7-91b2-34789ba89de0"
      },
      "source": [
        "import pandas as pd\n",
        "pd.DataFrame(history.history)\n",
        "pd.DataFrame(history.history).plot(figsize=(10,7))"
      ],
      "execution_count": null,
      "outputs": [
        {
          "output_type": "execute_result",
          "data": {
            "text/plain": [
              "<Axes: >"
            ]
          },
          "metadata": {},
          "execution_count": 44
        },
        {
          "output_type": "display_data",
          "data": {
            "text/plain": [
              "<Figure size 1000x700 with 1 Axes>"
            ],
            "image/png": "[encoded data removed]"
          },
          "metadata": {}
        }
      ]
    },
    {
      "cell_type": "code",
      "metadata": {
        "colab": {
          "base_uri": "https://localhost:8080/"
        },
        "id": "GySylyKKZyEP",
        "outputId": "45a03ca8-2c16-4cad-f27e-f4a66a8d671c"
      },
      "source": [
        "# This NN model will be saved and if we continue training it will start\n",
        "# from the previous level of learning (keeps connection weights from epoch 20 above)\n",
        "history_2 = model.fit(X_train_tr, y_train_tr, epochs=10, validation_data=(X_train_v, y_train_v))"
      ],
      "execution_count": null,
      "outputs": [
        {
          "output_type": "stream",
          "name": "stdout",
          "text": [
            "Epoch 1/10\n",
            "1719/1719 [==============================] - 7s 4ms/step - loss: 0.2536 - accuracy: 0.9083 - val_loss: 0.3212 - val_accuracy: 0.8826\n",
            "Epoch 2/10\n",
            "1719/1719 [==============================] - 7s 4ms/step - loss: 0.2488 - accuracy: 0.9110 - val_loss: 0.3203 - val_accuracy: 0.8854\n",
            "Epoch 3/10\n",
            "1719/1719 [==============================] - 6s 3ms/step - loss: 0.2441 - accuracy: 0.9126 - val_loss: 0.3450 - val_accuracy: 0.8772\n",
            "Epoch 4/10\n",
            "1719/1719 [==============================] - 7s 4ms/step - loss: 0.2414 - accuracy: 0.9130 - val_loss: 0.3191 - val_accuracy: 0.8874\n",
            "Epoch 5/10\n",
            "1719/1719 [==============================] - 6s 3ms/step - loss: 0.2356 - accuracy: 0.9153 - val_loss: 0.3102 - val_accuracy: 0.8902\n",
            "Epoch 6/10\n",
            "1719/1719 [==============================] - 7s 4ms/step - loss: 0.2331 - accuracy: 0.9164 - val_loss: 0.3193 - val_accuracy: 0.8886\n",
            "Epoch 7/10\n",
            "1719/1719 [==============================] - 6s 3ms/step - loss: 0.2275 - accuracy: 0.9185 - val_loss: 0.3253 - val_accuracy: 0.8864\n",
            "Epoch 8/10\n",
            "1719/1719 [==============================] - 7s 4ms/step - loss: 0.2239 - accuracy: 0.9196 - val_loss: 0.3108 - val_accuracy: 0.8888\n",
            "Epoch 9/10\n",
            "1719/1719 [==============================] - 6s 3ms/step - loss: 0.2192 - accuracy: 0.9227 - val_loss: 0.3106 - val_accuracy: 0.8924\n",
            "Epoch 10/10\n",
            "1719/1719 [==============================] - 6s 4ms/step - loss: 0.2154 - accuracy: 0.9236 - val_loss: 0.3144 - val_accuracy: 0.8858\n"
          ]
        }
      ]
    },
    {
      "cell_type": "code",
      "metadata": {
        "colab": {
          "base_uri": "https://localhost:8080/"
        },
        "id": "-2TXpz0CZyHb",
        "outputId": "5eb9ea4d-763a-4568-8c73-4f96f601495d"
      },
      "source": [
        "history_2.params"
      ],
      "execution_count": null,
      "outputs": [
        {
          "output_type": "execute_result",
          "data": {
            "text/plain": [
              "{'verbose': 1, 'epochs': 10, 'steps': 1719}"
            ]
          },
          "metadata": {},
          "execution_count": 46
        }
      ]
    },
    {
      "cell_type": "code",
      "metadata": {
        "colab": {
          "base_uri": "https://localhost:8080/",
          "height": 676
        },
        "id": "sHS-WK0uZyKf",
        "outputId": "d835b8ee-9659-41bb-c2df-fe802ae8d46d"
      },
      "source": [
        "histories = pd.DataFrame(history.history)\n",
        "histories"
      ],
      "execution_count": null,
      "outputs": [
        {
          "output_type": "execute_result",
          "data": {
            "text/plain": [
              "        loss  accuracy  val_loss  val_accuracy\n",
              "0   0.713145  0.766836  0.555066        0.7994\n",
              "1   0.483133  0.833073  0.464222        0.8354\n",
              "2   0.438115  0.847782  0.467599        0.8354\n",
              "3   0.411692  0.857127  0.412700        0.8558\n",
              "4   0.390306  0.863309  0.396301        0.8608\n",
              "5   0.375273  0.868964  0.394566        0.8656\n",
              "6   0.359767  0.873727  0.377417        0.8652\n",
              "7   0.347680  0.877345  0.360153        0.8720\n",
              "8   0.337225  0.881509  0.359317        0.8726\n",
              "9   0.327275  0.883527  0.354064        0.8714\n",
              "10  0.317796  0.887200  0.354931        0.8764\n",
              "11  0.309464  0.890582  0.349202        0.8758\n",
              "12  0.301749  0.893291  0.339795        0.8812\n",
              "13  0.294649  0.894218  0.340635        0.8792\n",
              "14  0.287831  0.897145  0.325299        0.8860\n",
              "15  0.282090  0.898164  0.325205        0.8866\n",
              "16  0.275297  0.902036  0.323774        0.8844\n",
              "17  0.270055  0.902800  0.343578        0.8794\n",
              "18  0.264524  0.904709  0.347950        0.8756\n",
              "19  0.259405  0.907236  0.318476        0.8880"
            ],
            "text/html": [
              "\n",
              "  <div id=\"df-1232dcd0-6b8e-496f-9fa9-14ee2596b03c\" class=\"colab-df-container\">\n",
              "    <div>\n",
              "<style scoped>\n",
              "    .dataframe tbody tr th:only-of-type {\n",
              "        vertical-align: middle;\n",
              "    }\n",
              "\n",
              "    .dataframe tbody tr th {\n",
              "        vertical-align: top;\n",
              "    }\n",
              "\n",
              "    .dataframe thead th {\n",
              "        text-align: right;\n",
              "    }\n",
              "</style>\n",
              "<table border=\"1\" class=\"dataframe\">\n",
              "  <thead>\n",
              "    <tr style=\"text-align: right;\">\n",
              "      <th></th>\n",
              "      <th>loss</th>\n",
              "      <th>accuracy</th>\n",
              "      <th>val_loss</th>\n",
              "      <th>val_accuracy</th>\n",
              "    </tr>\n",
              "  </thead>\n",
              "  <tbody>\n",
              "    <tr>\n",
              "      <th>0</th>\n",
              "      <td>0.713145</td>\n",
              "      <td>0.766836</td>\n",
              "      <td>0.555066</td>\n",
              "      <td>0.7994</td>\n",
              "    </tr>\n",
              "    <tr>\n",
              "      <th>1</th>\n",
              "      <td>0.483133</td>\n",
              "      <td>0.833073</td>\n",
              "      <td>0.464222</td>\n",
              "      <td>0.8354</td>\n",
              "    </tr>\n",
              "    <tr>\n",
              "      <th>2</th>\n",
              "      <td>0.438115</td>\n",
              "      <td>0.847782</td>\n",
              "      <td>0.467599</td>\n",
              "      <td>0.8354</td>\n",
              "    </tr>\n",
              "    <tr>\n",
              "      <th>3</th>\n",
              "      <td>0.411692</td>\n",
              "      <td>0.857127</td>\n",
              "      <td>0.412700</td>\n",
              "      <td>0.8558</td>\n",
              "    </tr>\n",
              "    <tr>\n",
              "      <th>4</th>\n",
              "      <td>0.390306</td>\n",
              "      <td>0.863309</td>\n",
              "      <td>0.396301</td>\n",
              "      <td>0.8608</td>\n",
              "    </tr>\n",
              "    <tr>\n",
              "      <th>5</th>\n",
              "      <td>0.375273</td>\n",
              "      <td>0.868964</td>\n",
              "      <td>0.394566</td>\n",
              "      <td>0.8656</td>\n",
              "    </tr>\n",
              "    <tr>\n",
              "      <th>6</th>\n",
              "      <td>0.359767</td>\n",
              "      <td>0.873727</td>\n",
              "      <td>0.377417</td>\n",
              "      <td>0.8652</td>\n",
              "    </tr>\n",
              "    <tr>\n",
              "      <th>7</th>\n",
              "      <td>0.347680</td>\n",
              "      <td>0.877345</td>\n",
              "      <td>0.360153</td>\n",
              "      <td>0.8720</td>\n",
              "    </tr>\n",
              "    <tr>\n",
              "      <th>8</th>\n",
              "      <td>0.337225</td>\n",
              "      <td>0.881509</td>\n",
              "      <td>0.359317</td>\n",
              "      <td>0.8726</td>\n",
              "    </tr>\n",
              "    <tr>\n",
              "      <th>9</th>\n",
              "      <td>0.327275</td>\n",
              "      <td>0.883527</td>\n",
              "      <td>0.354064</td>\n",
              "      <td>0.8714</td>\n",
              "    </tr>\n",
              "    <tr>\n",
              "      <th>10</th>\n",
              "      <td>0.317796</td>\n",
              "      <td>0.887200</td>\n",
              "      <td>0.354931</td>\n",
              "      <td>0.8764</td>\n",
              "    </tr>\n",
              "    <tr>\n",
              "      <th>11</th>\n",
              "      <td>0.309464</td>\n",
              "      <td>0.890582</td>\n",
              "      <td>0.349202</td>\n",
              "      <td>0.8758</td>\n",
              "    </tr>\n",
              "    <tr>\n",
              "      <th>12</th>\n",
              "      <td>0.301749</td>\n",
              "      <td>0.893291</td>\n",
              "      <td>0.339795</td>\n",
              "      <td>0.8812</td>\n",
              "    </tr>\n",
              "    <tr>\n",
              "      <th>13</th>\n",
              "      <td>0.294649</td>\n",
              "      <td>0.894218</td>\n",
              "      <td>0.340635</td>\n",
              "      <td>0.8792</td>\n",
              "    </tr>\n",
              "    <tr>\n",
              "      <th>14</th>\n",
              "      <td>0.287831</td>\n",
              "      <td>0.897145</td>\n",
              "      <td>0.325299</td>\n",
              "      <td>0.8860</td>\n",
              "    </tr>\n",
              "    <tr>\n",
              "      <th>15</th>\n",
              "      <td>0.282090</td>\n",
              "      <td>0.898164</td>\n",
              "      <td>0.325205</td>\n",
              "      <td>0.8866</td>\n",
              "    </tr>\n",
              "    <tr>\n",
              "      <th>16</th>\n",
              "      <td>0.275297</td>\n",
              "      <td>0.902036</td>\n",
              "      <td>0.323774</td>\n",
              "      <td>0.8844</td>\n",
              "    </tr>\n",
              "    <tr>\n",
              "      <th>17</th>\n",
              "      <td>0.270055</td>\n",
              "      <td>0.902800</td>\n",
              "      <td>0.343578</td>\n",
              "      <td>0.8794</td>\n",
              "    </tr>\n",
              "    <tr>\n",
              "      <th>18</th>\n",
              "      <td>0.264524</td>\n",
              "      <td>0.904709</td>\n",
              "      <td>0.347950</td>\n",
              "      <td>0.8756</td>\n",
              "    </tr>\n",
              "    <tr>\n",
              "      <th>19</th>\n",
              "      <td>0.259405</td>\n",
              "      <td>0.907236</td>\n",
              "      <td>0.318476</td>\n",
              "      <td>0.8880</td>\n",
              "    </tr>\n",
              "  </tbody>\n",
              "</table>\n",
              "</div>\n",
              "    <div class=\"colab-df-buttons\">\n",
              "\n",
              "  <div class=\"colab-df-container\">\n",
              "    <button class=\"colab-df-convert\" onclick=\"convertToInteractive('df-1232dcd0-6b8e-496f-9fa9-14ee2596b03c')\"\n",
              "            title=\"Convert this dataframe to an interactive table.\"\n",
              "            style=\"display:none;\">\n",
              "\n",
              "  <svg xmlns=\"http://www.w3.org/2000/svg\" height=\"24px\" viewBox=\"0 -960 960 960\">\n",
              "    <path d=\"M120-120v-720h720v720H120Zm60-500h600v-160H180v160Zm220 220h160v-160H400v160Zm0 220h160v-160H400v160ZM180-400h160v-160H180v160Zm440 0h160v-160H620v160ZM180-180h160v-160H180v160Zm440 0h160v-160H620v160Z\"/>\n",
              "  </svg>\n",
              "    </button>\n",
              "\n",
              "  <style>\n",
              "    .colab-df-container {\n",
              "      display:flex;\n",
              "      gap: 12px;\n",
              "    }\n",
              "\n",
              "    .colab-df-convert {\n",
              "      background-color: #E8F0FE;\n",
              "      border: none;\n",
              "      border-radius: 50%;\n",
              "      cursor: pointer;\n",
              "      display: none;\n",
              "      fill: #1967D2;\n",
              "      height: 32px;\n",
              "      padding: 0 0 0 0;\n",
              "      width: 32px;\n",
              "    }\n",
              "\n",
              "    .colab-df-convert:hover {\n",
              "      background-color: #E2EBFA;\n",
              "      box-shadow: 0px 1px 2px rgba(60, 64, 67, 0.3), 0px 1px 3px 1px rgba(60, 64, 67, 0.15);\n",
              "      fill: #174EA6;\n",
              "    }\n",
              "\n",
              "    .colab-df-buttons div {\n",
              "      margin-bottom: 4px;\n",
              "    }\n",
              "\n",
              "    [theme=dark] .colab-df-convert {\n",
              "      background-color: #3B4455;\n",
              "      fill: #D2E3FC;\n",
              "    }\n",
              "\n",
              "    [theme=dark] .colab-df-convert:hover {\n",
              "      background-color: #434B5C;\n",
              "      box-shadow: 0px 1px 3px 1px rgba(0, 0, 0, 0.15);\n",
              "      filter: drop-shadow(0px 1px 2px rgba(0, 0, 0, 0.3));\n",
              "      fill: #FFFFFF;\n",
              "    }\n",
              "  </style>\n",
              "\n",
              "    <script>\n",
              "      const buttonEl =\n",
              "        document.querySelector('#df-1232dcd0-6b8e-496f-9fa9-14ee2596b03c button.colab-df-convert');\n",
              "      buttonEl.style.display =\n",
              "        google.colab.kernel.accessAllowed ? 'block' : 'none';\n",
              "\n",
              "      async function convertToInteractive(key) {\n",
              "        const element = document.querySelector('#df-1232dcd0-6b8e-496f-9fa9-14ee2596b03c');\n",
              "        const dataTable =\n",
              "          await google.colab.kernel.invokeFunction('convertToInteractive',\n",
              "                                                    [key], {});\n",
              "        if (!dataTable) return;\n",
              "\n",
              "        const docLinkHtml = 'Like what you see? Visit the ' +\n",
              "          '<a target=\"_blank\" href=https://colab.research.google.com/notebooks/data_table.ipynb>data table notebook</a>'\n",
              "          + ' to learn more about interactive tables.';\n",
              "        element.innerHTML = '';\n",
              "        dataTable['output_type'] = 'display_data';\n",
              "        await google.colab.output.renderOutput(dataTable, element);\n",
              "        const docLink = document.createElement('div');\n",
              "        docLink.innerHTML = docLinkHtml;\n",
              "        element.appendChild(docLink);\n",
              "      }\n",
              "    </script>\n",
              "  </div>\n",
              "\n",
              "\n",
              "<div id=\"df-96bd0079-a735-44ba-82cb-89055720339e\">\n",
              "  <button class=\"colab-df-quickchart\" onclick=\"quickchart('df-96bd0079-a735-44ba-82cb-89055720339e')\"\n",
              "            title=\"Suggest charts.\"\n",
              "            style=\"display:none;\">\n",
              "\n",
              "<svg xmlns=\"http://www.w3.org/2000/svg\" height=\"24px\"viewBox=\"0 0 24 24\"\n",
              "     width=\"24px\">\n",
              "    <g>\n",
              "        <path d=\"M19 3H5c-1.1 0-2 .9-2 2v14c0 1.1.9 2 2 2h14c1.1 0 2-.9 2-2V5c0-1.1-.9-2-2-2zM9 17H7v-7h2v7zm4 0h-2V7h2v10zm4 0h-2v-4h2v4z\"/>\n",
              "    </g>\n",
              "</svg>\n",
              "  </button>\n",
              "\n",
              "<style>\n",
              "  .colab-df-quickchart {\n",
              "    background-color: #E8F0FE;\n",
              "    border: none;\n",
              "    border-radius: 50%;\n",
              "    cursor: pointer;\n",
              "    display: none;\n",
              "    fill: #1967D2;\n",
              "    height: 32px;\n",
              "    padding: 0 0 0 0;\n",
              "    width: 32px;\n",
              "  }\n",
              "\n",
              "  .colab-df-quickchart:hover {\n",
              "    background-color: #E2EBFA;\n",
              "    box-shadow: 0px 1px 2px rgba(60, 64, 67, 0.3), 0px 1px 3px 1px rgba(60, 64, 67, 0.15);\n",
              "    fill: #174EA6;\n",
              "  }\n",
              "\n",
              "  [theme=dark] .colab-df-quickchart {\n",
              "    background-color: #3B4455;\n",
              "    fill: #D2E3FC;\n",
              "  }\n",
              "\n",
              "  [theme=dark] .colab-df-quickchart:hover {\n",
              "    background-color: #434B5C;\n",
              "    box-shadow: 0px 1px 3px 1px rgba(0, 0, 0, 0.15);\n",
              "    filter: drop-shadow(0px 1px 2px rgba(0, 0, 0, 0.3));\n",
              "    fill: #FFFFFF;\n",
              "  }\n",
              "</style>\n",
              "\n",
              "  <script>\n",
              "    async function quickchart(key) {\n",
              "      const charts = await google.colab.kernel.invokeFunction(\n",
              "          'suggestCharts', [key], {});\n",
              "    }\n",
              "    (() => {\n",
              "      let quickchartButtonEl =\n",
              "        document.querySelector('#df-96bd0079-a735-44ba-82cb-89055720339e button');\n",
              "      quickchartButtonEl.style.display =\n",
              "        google.colab.kernel.accessAllowed ? 'block' : 'none';\n",
              "    })();\n",
              "  </script>\n",
              "</div>\n",
              "    </div>\n",
              "  </div>\n"
            ]
          },
          "metadata": {},
          "execution_count": 47
        }
      ]
    },
    {
      "cell_type": "code",
      "metadata": {
        "colab": {
          "base_uri": "https://localhost:8080/",
          "height": 1000
        },
        "id": "QYTZMGiqzRO4",
        "outputId": "49cb17ab-ad34-495c-e447-9b9b199c84ef"
      },
      "source": [
        "histories = histories.append(pd.DataFrame(history_2.history),\n",
        "                             ignore_index=True)\n",
        "histories"
      ],
      "execution_count": null,
      "outputs": [
        {
          "output_type": "stream",
          "name": "stderr",
          "text": [
            "<ipython-input-48-ccdc36b1c4e9>:1: FutureWarning: The frame.append method is deprecated and will be removed from pandas in a future version. Use pandas.concat instead.\n",
            "  histories = histories.append(pd.DataFrame(history_2.history),\n"
          ]
        },
        {
          "output_type": "execute_result",
          "data": {
            "text/plain": [
              "        loss  accuracy  val_loss  val_accuracy\n",
              "0   0.713145  0.766836  0.555066        0.7994\n",
              "1   0.483133  0.833073  0.464222        0.8354\n",
              "2   0.438115  0.847782  0.467599        0.8354\n",
              "3   0.411692  0.857127  0.412700        0.8558\n",
              "4   0.390306  0.863309  0.396301        0.8608\n",
              "5   0.375273  0.868964  0.394566        0.8656\n",
              "6   0.359767  0.873727  0.377417        0.8652\n",
              "7   0.347680  0.877345  0.360153        0.8720\n",
              "8   0.337225  0.881509  0.359317        0.8726\n",
              "9   0.327275  0.883527  0.354064        0.8714\n",
              "10  0.317796  0.887200  0.354931        0.8764\n",
              "11  0.309464  0.890582  0.349202        0.8758\n",
              "12  0.301749  0.893291  0.339795        0.8812\n",
              "13  0.294649  0.894218  0.340635        0.8792\n",
              "14  0.287831  0.897145  0.325299        0.8860\n",
              "15  0.282090  0.898164  0.325205        0.8866\n",
              "16  0.275297  0.902036  0.323774        0.8844\n",
              "17  0.270055  0.902800  0.343578        0.8794\n",
              "18  0.264524  0.904709  0.347950        0.8756\n",
              "19  0.259405  0.907236  0.318476        0.8880\n",
              "20  0.253552  0.908345  0.321195        0.8826\n",
              "21  0.248750  0.911000  0.320281        0.8854\n",
              "22  0.244138  0.912636  0.345029        0.8772\n",
              "23  0.241390  0.913018  0.319136        0.8874\n",
              "24  0.235626  0.915345  0.310181        0.8902\n",
              "25  0.233108  0.916418  0.319284        0.8886\n",
              "26  0.227545  0.918455  0.325286        0.8864\n",
              "27  0.223860  0.919636  0.310787        0.8888\n",
              "28  0.219225  0.922691  0.310628        0.8924\n",
              "29  0.215376  0.923600  0.314427        0.8858"
            ],
            "text/html": [
              "\n",
              "  <div id=\"df-d1c5ff28-a50a-4d33-ac62-0bfe3d27eab7\" class=\"colab-df-container\">\n",
              "    <div>\n",
              "<style scoped>\n",
              "    .dataframe tbody tr th:only-of-type {\n",
              "        vertical-align: middle;\n",
              "    }\n",
              "\n",
              "    .dataframe tbody tr th {\n",
              "        vertical-align: top;\n",
              "    }\n",
              "\n",
              "    .dataframe thead th {\n",
              "        text-align: right;\n",
              "    }\n",
              "</style>\n",
              "<table border=\"1\" class=\"dataframe\">\n",
              "  <thead>\n",
              "    <tr style=\"text-align: right;\">\n",
              "      <th></th>\n",
              "      <th>loss</th>\n",
              "      <th>accuracy</th>\n",
              "      <th>val_loss</th>\n",
              "      <th>val_accuracy</th>\n",
              "    </tr>\n",
              "  </thead>\n",
              "  <tbody>\n",
              "    <tr>\n",
              "      <th>0</th>\n",
              "      <td>0.713145</td>\n",
              "      <td>0.766836</td>\n",
              "      <td>0.555066</td>\n",
              "      <td>0.7994</td>\n",
              "    </tr>\n",
              "    <tr>\n",
              "      <th>1</th>\n",
              "      <td>0.483133</td>\n",
              "      <td>0.833073</td>\n",
              "      <td>0.464222</td>\n",
              "      <td>0.8354</td>\n",
              "    </tr>\n",
              "    <tr>\n",
              "      <th>2</th>\n",
              "      <td>0.438115</td>\n",
              "      <td>0.847782</td>\n",
              "      <td>0.467599</td>\n",
              "      <td>0.8354</td>\n",
              "    </tr>\n",
              "    <tr>\n",
              "      <th>3</th>\n",
              "      <td>0.411692</td>\n",
              "      <td>0.857127</td>\n",
              "      <td>0.412700</td>\n",
              "      <td>0.8558</td>\n",
              "    </tr>\n",
              "    <tr>\n",
              "      <th>4</th>\n",
              "      <td>0.390306</td>\n",
              "      <td>0.863309</td>\n",
              "      <td>0.396301</td>\n",
              "      <td>0.8608</td>\n",
              "    </tr>\n",
              "    <tr>\n",
              "      <th>5</th>\n",
              "      <td>0.375273</td>\n",
              "      <td>0.868964</td>\n",
              "      <td>0.394566</td>\n",
              "      <td>0.8656</td>\n",
              "    </tr>\n",
              "    <tr>\n",
              "      <th>6</th>\n",
              "      <td>0.359767</td>\n",
              "      <td>0.873727</td>\n",
              "      <td>0.377417</td>\n",
              "      <td>0.8652</td>\n",
              "    </tr>\n",
              "    <tr>\n",
              "      <th>7</th>\n",
              "      <td>0.347680</td>\n",
              "      <td>0.877345</td>\n",
              "      <td>0.360153</td>\n",
              "      <td>0.8720</td>\n",
              "    </tr>\n",
              "    <tr>\n",
              "      <th>8</th>\n",
              "      <td>0.337225</td>\n",
              "      <td>0.881509</td>\n",
              "      <td>0.359317</td>\n",
              "      <td>0.8726</td>\n",
              "    </tr>\n",
              "    <tr>\n",
              "      <th>9</th>\n",
              "      <td>0.327275</td>\n",
              "      <td>0.883527</td>\n",
              "      <td>0.354064</td>\n",
              "      <td>0.8714</td>\n",
              "    </tr>\n",
              "    <tr>\n",
              "      <th>10</th>\n",
              "      <td>0.317796</td>\n",
              "      <td>0.887200</td>\n",
              "      <td>0.354931</td>\n",
              "      <td>0.8764</td>\n",
              "    </tr>\n",
              "    <tr>\n",
              "      <th>11</th>\n",
              "      <td>0.309464</td>\n",
              "      <td>0.890582</td>\n",
              "      <td>0.349202</td>\n",
              "      <td>0.8758</td>\n",
              "    </tr>\n",
              "    <tr>\n",
              "      <th>12</th>\n",
              "      <td>0.301749</td>\n",
              "      <td>0.893291</td>\n",
              "      <td>0.339795</td>\n",
              "      <td>0.8812</td>\n",
              "    </tr>\n",
              "    <tr>\n",
              "      <th>13</th>\n",
              "      <td>0.294649</td>\n",
              "      <td>0.894218</td>\n",
              "      <td>0.340635</td>\n",
              "      <td>0.8792</td>\n",
              "    </tr>\n",
              "    <tr>\n",
              "      <th>14</th>\n",
              "      <td>0.287831</td>\n",
              "      <td>0.897145</td>\n",
              "      <td>0.325299</td>\n",
              "      <td>0.8860</td>\n",
              "    </tr>\n",
              "    <tr>\n",
              "      <th>15</th>\n",
              "      <td>0.282090</td>\n",
              "      <td>0.898164</td>\n",
              "      <td>0.325205</td>\n",
              "      <td>0.8866</td>\n",
              "    </tr>\n",
              "    <tr>\n",
              "      <th>16</th>\n",
              "      <td>0.275297</td>\n",
              "      <td>0.902036</td>\n",
              "      <td>0.323774</td>\n",
              "      <td>0.8844</td>\n",
              "    </tr>\n",
              "    <tr>\n",
              "      <th>17</th>\n",
              "      <td>0.270055</td>\n",
              "      <td>0.902800</td>\n",
              "      <td>0.343578</td>\n",
              "      <td>0.8794</td>\n",
              "    </tr>\n",
              "    <tr>\n",
              "      <th>18</th>\n",
              "      <td>0.264524</td>\n",
              "      <td>0.904709</td>\n",
              "      <td>0.347950</td>\n",
              "      <td>0.8756</td>\n",
              "    </tr>\n",
              "    <tr>\n",
              "      <th>19</th>\n",
              "      <td>0.259405</td>\n",
              "      <td>0.907236</td>\n",
              "      <td>0.318476</td>\n",
              "      <td>0.8880</td>\n",
              "    </tr>\n",
              "    <tr>\n",
              "      <th>20</th>\n",
              "      <td>0.253552</td>\n",
              "      <td>0.908345</td>\n",
              "      <td>0.321195</td>\n",
              "      <td>0.8826</td>\n",
              "    </tr>\n",
              "    <tr>\n",
              "      <th>21</th>\n",
              "      <td>0.248750</td>\n",
              "      <td>0.911000</td>\n",
              "      <td>0.320281</td>\n",
              "      <td>0.8854</td>\n",
              "    </tr>\n",
              "    <tr>\n",
              "      <th>22</th>\n",
              "      <td>0.244138</td>\n",
              "      <td>0.912636</td>\n",
              "      <td>0.345029</td>\n",
              "      <td>0.8772</td>\n",
              "    </tr>\n",
              "    <tr>\n",
              "      <th>23</th>\n",
              "      <td>0.241390</td>\n",
              "      <td>0.913018</td>\n",
              "      <td>0.319136</td>\n",
              "      <td>0.8874</td>\n",
              "    </tr>\n",
              "    <tr>\n",
              "      <th>24</th>\n",
              "      <td>0.235626</td>\n",
              "      <td>0.915345</td>\n",
              "      <td>0.310181</td>\n",
              "      <td>0.8902</td>\n",
              "    </tr>\n",
              "    <tr>\n",
              "      <th>25</th>\n",
              "      <td>0.233108</td>\n",
              "      <td>0.916418</td>\n",
              "      <td>0.319284</td>\n",
              "      <td>0.8886</td>\n",
              "    </tr>\n",
              "    <tr>\n",
              "      <th>26</th>\n",
              "      <td>0.227545</td>\n",
              "      <td>0.918455</td>\n",
              "      <td>0.325286</td>\n",
              "      <td>0.8864</td>\n",
              "    </tr>\n",
              "    <tr>\n",
              "      <th>27</th>\n",
              "      <td>0.223860</td>\n",
              "      <td>0.919636</td>\n",
              "      <td>0.310787</td>\n",
              "      <td>0.8888</td>\n",
              "    </tr>\n",
              "    <tr>\n",
              "      <th>28</th>\n",
              "      <td>0.219225</td>\n",
              "      <td>0.922691</td>\n",
              "      <td>0.310628</td>\n",
              "      <td>0.8924</td>\n",
              "    </tr>\n",
              "    <tr>\n",
              "      <th>29</th>\n",
              "      <td>0.215376</td>\n",
              "      <td>0.923600</td>\n",
              "      <td>0.314427</td>\n",
              "      <td>0.8858</td>\n",
              "    </tr>\n",
              "  </tbody>\n",
              "</table>\n",
              "</div>\n",
              "    <div class=\"colab-df-buttons\">\n",
              "\n",
              "  <div class=\"colab-df-container\">\n",
              "    <button class=\"colab-df-convert\" onclick=\"convertToInteractive('df-d1c5ff28-a50a-4d33-ac62-0bfe3d27eab7')\"\n",
              "            title=\"Convert this dataframe to an interactive table.\"\n",
              "            style=\"display:none;\">\n",
              "\n",
              "  <svg xmlns=\"http://www.w3.org/2000/svg\" height=\"24px\" viewBox=\"0 -960 960 960\">\n",
              "    <path d=\"M120-120v-720h720v720H120Zm60-500h600v-160H180v160Zm220 220h160v-160H400v160Zm0 220h160v-160H400v160ZM180-400h160v-160H180v160Zm440 0h160v-160H620v160ZM180-180h160v-160H180v160Zm440 0h160v-160H620v160Z\"/>\n",
              "  </svg>\n",
              "    </button>\n",
              "\n",
              "  <style>\n",
              "    .colab-df-container {\n",
              "      display:flex;\n",
              "      gap: 12px;\n",
              "    }\n",
              "\n",
              "    .colab-df-convert {\n",
              "      background-color: #E8F0FE;\n",
              "      border: none;\n",
              "      border-radius: 50%;\n",
              "      cursor: pointer;\n",
              "      display: none;\n",
              "      fill: #1967D2;\n",
              "      height: 32px;\n",
              "      padding: 0 0 0 0;\n",
              "      width: 32px;\n",
              "    }\n",
              "\n",
              "    .colab-df-convert:hover {\n",
              "      background-color: #E2EBFA;\n",
              "      box-shadow: 0px 1px 2px rgba(60, 64, 67, 0.3), 0px 1px 3px 1px rgba(60, 64, 67, 0.15);\n",
              "      fill: #174EA6;\n",
              "    }\n",
              "\n",
              "    .colab-df-buttons div {\n",
              "      margin-bottom: 4px;\n",
              "    }\n",
              "\n",
              "    [theme=dark] .colab-df-convert {\n",
              "      background-color: #3B4455;\n",
              "      fill: #D2E3FC;\n",
              "    }\n",
              "\n",
              "    [theme=dark] .colab-df-convert:hover {\n",
              "      background-color: #434B5C;\n",
              "      box-shadow: 0px 1px 3px 1px rgba(0, 0, 0, 0.15);\n",
              "      filter: drop-shadow(0px 1px 2px rgba(0, 0, 0, 0.3));\n",
              "      fill: #FFFFFF;\n",
              "    }\n",
              "  </style>\n",
              "\n",
              "    <script>\n",
              "      const buttonEl =\n",
              "        document.querySelector('#df-d1c5ff28-a50a-4d33-ac62-0bfe3d27eab7 button.colab-df-convert');\n",
              "      buttonEl.style.display =\n",
              "        google.colab.kernel.accessAllowed ? 'block' : 'none';\n",
              "\n",
              "      async function convertToInteractive(key) {\n",
              "        const element = document.querySelector('#df-d1c5ff28-a50a-4d33-ac62-0bfe3d27eab7');\n",
              "        const dataTable =\n",
              "          await google.colab.kernel.invokeFunction('convertToInteractive',\n",
              "                                                    [key], {});\n",
              "        if (!dataTable) return;\n",
              "\n",
              "        const docLinkHtml = 'Like what you see? Visit the ' +\n",
              "          '<a target=\"_blank\" href=https://colab.research.google.com/notebooks/data_table.ipynb>data table notebook</a>'\n",
              "          + ' to learn more about interactive tables.';\n",
              "        element.innerHTML = '';\n",
              "        dataTable['output_type'] = 'display_data';\n",
              "        await google.colab.output.renderOutput(dataTable, element);\n",
              "        const docLink = document.createElement('div');\n",
              "        docLink.innerHTML = docLinkHtml;\n",
              "        element.appendChild(docLink);\n",
              "      }\n",
              "    </script>\n",
              "  </div>\n",
              "\n",
              "\n",
              "<div id=\"df-7f3f6476-a10c-4689-a07f-d3ff133649e7\">\n",
              "  <button class=\"colab-df-quickchart\" onclick=\"quickchart('df-7f3f6476-a10c-4689-a07f-d3ff133649e7')\"\n",
              "            title=\"Suggest charts.\"\n",
              "            style=\"display:none;\">\n",
              "\n",
              "<svg xmlns=\"http://www.w3.org/2000/svg\" height=\"24px\"viewBox=\"0 0 24 24\"\n",
              "     width=\"24px\">\n",
              "    <g>\n",
              "        <path d=\"M19 3H5c-1.1 0-2 .9-2 2v14c0 1.1.9 2 2 2h14c1.1 0 2-.9 2-2V5c0-1.1-.9-2-2-2zM9 17H7v-7h2v7zm4 0h-2V7h2v10zm4 0h-2v-4h2v4z\"/>\n",
              "    </g>\n",
              "</svg>\n",
              "  </button>\n",
              "\n",
              "<style>\n",
              "  .colab-df-quickchart {\n",
              "    background-color: #E8F0FE;\n",
              "    border: none;\n",
              "    border-radius: 50%;\n",
              "    cursor: pointer;\n",
              "    display: none;\n",
              "    fill: #1967D2;\n",
              "    height: 32px;\n",
              "    padding: 0 0 0 0;\n",
              "    width: 32px;\n",
              "  }\n",
              "\n",
              "  .colab-df-quickchart:hover {\n",
              "    background-color: #E2EBFA;\n",
              "    box-shadow: 0px 1px 2px rgba(60, 64, 67, 0.3), 0px 1px 3px 1px rgba(60, 64, 67, 0.15);\n",
              "    fill: #174EA6;\n",
              "  }\n",
              "\n",
              "  [theme=dark] .colab-df-quickchart {\n",
              "    background-color: #3B4455;\n",
              "    fill: #D2E3FC;\n",
              "  }\n",
              "\n",
              "  [theme=dark] .colab-df-quickchart:hover {\n",
              "    background-color: #434B5C;\n",
              "    box-shadow: 0px 1px 3px 1px rgba(0, 0, 0, 0.15);\n",
              "    filter: drop-shadow(0px 1px 2px rgba(0, 0, 0, 0.3));\n",
              "    fill: #FFFFFF;\n",
              "  }\n",
              "</style>\n",
              "\n",
              "  <script>\n",
              "    async function quickchart(key) {\n",
              "      const charts = await google.colab.kernel.invokeFunction(\n",
              "          'suggestCharts', [key], {});\n",
              "    }\n",
              "    (() => {\n",
              "      let quickchartButtonEl =\n",
              "        document.querySelector('#df-7f3f6476-a10c-4689-a07f-d3ff133649e7 button');\n",
              "      quickchartButtonEl.style.display =\n",
              "        google.colab.kernel.accessAllowed ? 'block' : 'none';\n",
              "    })();\n",
              "  </script>\n",
              "</div>\n",
              "    </div>\n",
              "  </div>\n"
            ]
          },
          "metadata": {},
          "execution_count": 48
        }
      ]
    },
    {
      "cell_type": "code",
      "metadata": {
        "colab": {
          "base_uri": "https://localhost:8080/",
          "height": 448
        },
        "id": "7HLFV7XxbvaN",
        "outputId": "b206c048-52f7-48c5-daad-782217426718"
      },
      "source": [
        "histories.plot()"
      ],
      "execution_count": null,
      "outputs": [
        {
          "output_type": "execute_result",
          "data": {
            "text/plain": [
              "<Axes: >"
            ]
          },
          "metadata": {},
          "execution_count": 49
        },
        {
          "output_type": "display_data",
          "data": {
            "text/plain": [
              "<Figure size 640x480 with 1 Axes>"
            ],
            "image/png": "[encoded data removed]"
          },
          "metadata": {}
        }
      ]
    },
    {
      "cell_type": "code",
      "metadata": {
        "colab": {
          "base_uri": "https://localhost:8080/"
        },
        "id": "0tY5JtBJbvc7",
        "outputId": "83d22661-45c2-4301-b4d8-9eeab559a801"
      },
      "source": [
        "# Now check test accuracy\n",
        "model.evaluate(X_test, y_test)"
      ],
      "execution_count": null,
      "outputs": [
        {
          "output_type": "stream",
          "name": "stdout",
          "text": [
            "313/313 [==============================] - 1s 3ms/step - loss: 0.3293 - accuracy: 0.8828\n"
          ]
        },
        {
          "output_type": "execute_result",
          "data": {
            "text/plain": [
              "[0.329299658536911, 0.8827999830245972]"
            ]
          },
          "metadata": {},
          "execution_count": 50
        }
      ]
    },
    {
      "cell_type": "code",
      "metadata": {
        "colab": {
          "base_uri": "https://localhost:8080/",
          "height": 448
        },
        "id": "flX5223Ubvfl",
        "outputId": "4bfaf188-0d8f-4dcc-900b-5d7f4af77f0a"
      },
      "source": [
        "# How to predict other cases\n",
        "import matplotlib.pyplot as plt\n",
        "plt.imshow(X_train_full[0].reshape(28,28), cmap='binary')"
      ],
      "execution_count": null,
      "outputs": [
        {
          "output_type": "execute_result",
          "data": {
            "text/plain": [
              "<matplotlib.image.AxesImage at 0x7a4aa4bc4d60>"
            ]
          },
          "metadata": {},
          "execution_count": 51
        },
        {
          "output_type": "display_data",
          "data": {
            "text/plain": [
              "<Figure size 640x480 with 1 Axes>"
            ],
            "image/png": "[encoded data removed]"
          },
          "metadata": {}
        }
      ]
    },
    {
      "cell_type": "code",
      "metadata": {
        "colab": {
          "base_uri": "https://localhost:8080/"
        },
        "id": "MB6rWDw_bviQ",
        "outputId": "7814d337-a963-4401-fe31-3fb3dd4e772d"
      },
      "source": [
        "model.predict(X_train_full[:1])\n",
        "# create a collection of one as keras needs a collection\n",
        "# 99.5% chance of being class 9 = ankle boot\n",
        "# 0.5% chance of being class 7 = sneaker"
      ],
      "execution_count": null,
      "outputs": [
        {
          "output_type": "stream",
          "name": "stdout",
          "text": [
            "1/1 [==============================] - 0s 81ms/step\n"
          ]
        },
        {
          "output_type": "execute_result",
          "data": {
            "text/plain": [
              "array([[1.1035210e-08, 2.1893403e-09, 6.4478575e-11, 3.6977618e-10,\n",
              "        3.1868491e-10, 3.2810342e-05, 1.0679033e-09, 3.4083340e-03,\n",
              "        2.9379629e-07, 9.9655861e-01]], dtype=float32)"
            ]
          },
          "metadata": {},
          "execution_count": 52
        }
      ]
    },
    {
      "cell_type": "code",
      "metadata": {
        "colab": {
          "base_uri": "https://localhost:8080/",
          "height": 466
        },
        "id": "SO1Wuls5en4v",
        "outputId": "37cf6a8d-8b97-4eac-c400-730a698aedab"
      },
      "source": [
        "plt.bar(range(10),model.predict(X_train_full[:1])[0])"
      ],
      "execution_count": null,
      "outputs": [
        {
          "output_type": "stream",
          "name": "stdout",
          "text": [
            "1/1 [==============================] - 0s 20ms/step\n"
          ]
        },
        {
          "output_type": "execute_result",
          "data": {
            "text/plain": [
              "<BarContainer object of 10 artists>"
            ]
          },
          "metadata": {},
          "execution_count": 53
        },
        {
          "output_type": "display_data",
          "data": {
            "text/plain": [
              "<Figure size 640x480 with 1 Axes>"
            ],
            "image/png": "[encoded data removed]"
          },
          "metadata": {}
        }
      ]
    },
    {
      "cell_type": "code",
      "source": [
        "np.argmax(model.predict(X_train_full[:1]))"
      ],
      "metadata": {
        "colab": {
          "base_uri": "https://localhost:8080/"
        },
        "id": "rA8hJ-ykPkmo",
        "outputId": "b730f468-9a1b-477d-f283-624076ba7ce9"
      },
      "execution_count": null,
      "outputs": [
        {
          "output_type": "stream",
          "name": "stdout",
          "text": [
            "1/1 [==============================] - 0s 17ms/step\n"
          ]
        },
        {
          "output_type": "execute_result",
          "data": {
            "text/plain": [
              "9"
            ]
          },
          "metadata": {},
          "execution_count": 54
        }
      ]
    },
    {
      "cell_type": "code",
      "metadata": {
        "colab": {
          "base_uri": "https://localhost:8080/"
        },
        "id": "j5_wHylMebik",
        "outputId": "52eace19-5acd-4546-9749-08651b2d2b4a"
      },
      "source": [
        "# model.predict_classes(X_train_full[:1])  # this is deprecated\n",
        "np.argmax(model.predict(X_train_full[:1]))"
      ],
      "execution_count": null,
      "outputs": [
        {
          "output_type": "stream",
          "name": "stdout",
          "text": [
            "1/1 [==============================] - 0s 18ms/step\n"
          ]
        },
        {
          "output_type": "execute_result",
          "data": {
            "text/plain": [
              "9"
            ]
          },
          "metadata": {},
          "execution_count": 55
        }
      ]
    },
    {
      "cell_type": "code",
      "source": [
        "predictions = np.argmax(model.predict(X_test), axis=-1)\n",
        "predictions\n",
        "#model.predict(X_test)"
      ],
      "metadata": {
        "colab": {
          "base_uri": "https://localhost:8080/"
        },
        "id": "cO8oDjFPQEFF",
        "outputId": "bb0e81ba-491d-479c-fa2d-ef7be73e41df"
      },
      "execution_count": null,
      "outputs": [
        {
          "output_type": "stream",
          "name": "stdout",
          "text": [
            "313/313 [==============================] - 1s 2ms/step\n"
          ]
        },
        {
          "output_type": "execute_result",
          "data": {
            "text/plain": [
              "array([9, 2, 1, ..., 8, 1, 5])"
            ]
          },
          "metadata": {},
          "execution_count": 56
        }
      ]
    },
    {
      "cell_type": "code",
      "metadata": {
        "colab": {
          "base_uri": "https://localhost:8080/",
          "height": 197
        },
        "id": "fLH7D--N30vh",
        "outputId": "bcd260b6-0b3e-4cd1-82f1-36ed166c86ee"
      },
      "source": [
        "# Display misclassified images...\n",
        "# predictions = model.predict_classes(X_test) # this is deprecated\n",
        "# instead of predict_classes you could use\n",
        "# np.argmax(model.predict(X_test), axis=-1) to return the class (index) with\n",
        "# highest probability\n",
        "predictions = np.argmax(model.predict(X_test), axis=-1)\n",
        "misclassifiedIndexes = []\n",
        "index = 0\n",
        "for target, predict in zip(y_test, predictions):\n",
        "  if target != predict:\n",
        "    misclassifiedIndexes.append(index)\n",
        "  index += 1\n",
        "\n",
        "misclassifiedIndexes\n",
        "\n",
        "plt.figure(figsize=(25,4))\n",
        "for index in range(5):\n",
        "  plt.subplot(1,5,index+1)\n",
        "  plt.imshow(X_test[misclassifiedIndexes[index]].reshape(28,28), cmap='binary')\n",
        "  plt.axis('off')\n",
        "  plt.title(f'Target: {classes[y_test[misclassifiedIndexes[index]]]}    Predicted: {classes[predictions[misclassifiedIndexes[index]]]}', fontsize=14)\n",
        "\n",
        "plt.show()"
      ],
      "execution_count": null,
      "outputs": [
        {
          "output_type": "stream",
          "name": "stdout",
          "text": [
            "313/313 [==============================] - 1s 2ms/step\n"
          ]
        },
        {
          "output_type": "display_data",
          "data": {
            "text/plain": [
              "<Figure size 2500x400 with 5 Axes>"
            ],
            "image/png": "[encoded data removed]"
          },
          "metadata": {}
        }
      ]
    },
    {
      "cell_type": "code",
      "metadata": {
        "colab": {
          "base_uri": "https://localhost:8080/",
          "height": 868
        },
        "id": "NvsRgDNR42iO",
        "outputId": "33fa3262-63c9-4036-e4a7-8264d6b12d22"
      },
      "source": [
        "# Confusion matrix (part of validation)\n",
        "from sklearn.metrics import confusion_matrix\n",
        "import seaborn as sns\n",
        "cm = confusion_matrix(y_test, np.argmax(model.predict(X_test), axis=-1))\n",
        "cm_df = pd.DataFrame(cm, index=classes, columns=classes)\n",
        "plt.figure(figsize=(10,10))\n",
        "sns.heatmap(cm_df, annot=True)\n",
        "plt.ylabel('True class', color='white')\n",
        "plt.xlabel('Predicted class', color='white')\n",
        "plt.tick_params(color='white',labelcolor='white')\n",
        "plt.show()"
      ],
      "execution_count": null,
      "outputs": [
        {
          "output_type": "stream",
          "name": "stdout",
          "text": [
            "313/313 [==============================] - 1s 2ms/step\n"
          ]
        },
        {
          "output_type": "display_data",
          "data": {
            "text/plain": [
              "<Figure size 1000x1000 with 2 Axes>"
            ],
            "image/png": "[encoded data removed]"
          },
          "metadata": {}
        }
      ]
    },
    {
      "cell_type": "code",
      "metadata": {
        "colab": {
          "base_uri": "https://localhost:8080/"
        },
        "id": "-14yLtyThQ_7",
        "outputId": "f8fae39e-2f4b-47b1-d725-75684abb08b9"
      },
      "source": [
        "# Saving and Restoring\n",
        "model.save(\"fashion\")\n",
        "# This works for Sequential API and Functional API\n",
        "# Works most of the time for subclassing API, may you need to\n",
        "# write get_config() method"
      ],
      "execution_count": null,
      "outputs": [
        {
          "output_type": "stream",
          "name": "stderr",
          "text": [
            "WARNING:absl:Function `_wrapped_model` contains input name(s) First_Hidden_Layer_input with unsupported characters which will be renamed to first_hidden_layer_input in the SavedModel.\n"
          ]
        }
      ]
    },
    {
      "cell_type": "code",
      "metadata": {
        "id": "AL1WXG6rebqb"
      },
      "source": [
        "# To clear connection weights and re-train NN\n",
        "# (ie changing architecture will also reset)\n",
        "keras.backend.clear_session()\n",
        "np.random.seed(42)\n",
        "tf.random.set_seed(42)"
      ],
      "execution_count": null,
      "outputs": []
    },
    {
      "cell_type": "code",
      "metadata": {
        "colab": {
          "base_uri": "https://localhost:8080/"
        },
        "id": "WS3GNtXslQks",
        "outputId": "9366f61f-b7ee-486f-e7c9-c2973568a5cb"
      },
      "source": [
        "model = keras.models.load_model(\"fashion\")\n",
        "np.argmax(model.predict(X_train_full[:1]), axis=-1)"
      ],
      "execution_count": null,
      "outputs": [
        {
          "output_type": "stream",
          "name": "stdout",
          "text": [
            "1/1 [==============================] - 0s 77ms/step\n"
          ]
        },
        {
          "output_type": "execute_result",
          "data": {
            "text/plain": [
              "array([9])"
            ]
          },
          "metadata": {},
          "execution_count": 61
        }
      ]
    },
    {
      "cell_type": "code",
      "metadata": {
        "colab": {
          "base_uri": "https://localhost:8080/"
        },
        "id": "W_ssxli2lw_P",
        "outputId": "546ad73d-a404-450c-c88a-f6c995855a87"
      },
      "source": [
        "# save weights\n",
        "model.save_weights(\"fashion_weights\")\n",
        "\n",
        "model.load_weights(\"fashion_weights\")"
      ],
      "execution_count": null,
      "outputs": [
        {
          "output_type": "execute_result",
          "data": {
            "text/plain": [
              "<tensorflow.python.checkpoint.checkpoint.CheckpointLoadStatus at 0x7a49e85dd150>"
            ]
          },
          "metadata": {},
          "execution_count": 62
        }
      ]
    },
    {
      "cell_type": "markdown",
      "metadata": {
        "id": "aDAJcc0ygLu1"
      },
      "source": [
        "### Regression with MLPs on California Housing data (Sequential and Functional API)"
      ]
    },
    {
      "cell_type": "code",
      "metadata": {
        "id": "J8g8WyOEebw_"
      },
      "source": [
        "# Change runtime to GPU!\n",
        "\n",
        "import tensorflow as tf\n",
        "from tensorflow import keras\n",
        "\n",
        "import numpy as np\n",
        "import pandas as pd\n",
        "import matplotlib.pyplot as plt\n",
        "\n",
        "np.random.seed(42)\n",
        "tf.random.set_seed(42)"
      ],
      "execution_count": null,
      "outputs": []
    },
    {
      "cell_type": "code",
      "metadata": {
        "id": "xWLtkyjqgdTo"
      },
      "source": [
        "# Import California housing dataset\n",
        "from sklearn.datasets import fetch_california_housing\n",
        "from sklearn.model_selection import train_test_split\n",
        "\n",
        "housing = fetch_california_housing()"
      ],
      "execution_count": null,
      "outputs": []
    },
    {
      "cell_type": "code",
      "metadata": {
        "colab": {
          "base_uri": "https://localhost:8080/"
        },
        "id": "NNhTpSTDgdWS",
        "outputId": "c6bda9af-e5d6-4d57-b602-5f2d7bf72d1c"
      },
      "source": [
        "housing"
      ],
      "execution_count": null,
      "outputs": [
        {
          "output_type": "execute_result",
          "data": {
            "text/plain": [
              "{'data': array([[   8.3252    ,   41.        ,    6.98412698, ...,    2.55555556,\n",
              "           37.88      , -122.23      ],\n",
              "        [   8.3014    ,   21.        ,    6.23813708, ...,    2.10984183,\n",
              "           37.86      , -122.22      ],\n",
              "        [   7.2574    ,   52.        ,    8.28813559, ...,    2.80225989,\n",
              "           37.85      , -122.24      ],\n",
              "        ...,\n",
              "        [   1.7       ,   17.        ,    5.20554273, ...,    2.3256351 ,\n",
              "           39.43      , -121.22      ],\n",
              "        [   1.8672    ,   18.        ,    5.32951289, ...,    2.12320917,\n",
              "           39.43      , -121.32      ],\n",
              "        [   2.3886    ,   16.        ,    5.25471698, ...,    2.61698113,\n",
              "           39.37      , -121.24      ]]),\n",
              " 'target': array([4.526, 3.585, 3.521, ..., 0.923, 0.847, 0.894]),\n",
              " 'frame': None,\n",
              " 'target_names': ['MedHouseVal'],\n",
              " 'feature_names': ['MedInc',\n",
              "  'HouseAge',\n",
              "  'AveRooms',\n",
              "  'AveBedrms',\n",
              "  'Population',\n",
              "  'AveOccup',\n",
              "  'Latitude',\n",
              "  'Longitude'],\n",
              " 'DESCR': '.. _california_housing_dataset:\\n\\nCalifornia Housing dataset\\n--------------------------\\n\\n**Data Set Characteristics:**\\n\\n    :Number of Instances: 20640\\n\\n    :Number of Attributes: 8 numeric, predictive attributes and the target\\n\\n    :Attribute Information:\\n        - MedInc        median income in block group\\n        - HouseAge      median house age in block group\\n        - AveRooms      average number of rooms per household\\n        - AveBedrms     average number of bedrooms per household\\n        - Population    block group population\\n        - AveOccup      average number of household members\\n        - Latitude      block group latitude\\n        - Longitude     block group longitude\\n\\n    :Missing Attribute Values: None\\n\\nThis dataset was obtained from the StatLib repository.\\nhttps://www.dcc.fc.up.pt/~ltorgo/Regression/cal_housing.html\\n\\nThe target variable is the median house value for California districts,\\nexpressed in hundreds of thousands of dollars ($100,000).\\n\\nThis dataset was derived from the 1990 U.S. census, using one row per census\\nblock group. A block group is the smallest geographical unit for which the U.S.\\nCensus Bureau publishes sample data (a block group typically has a population\\nof 600 to 3,000 people).\\n\\nA household is a group of people residing within a home. Since the average\\nnumber of rooms and bedrooms in this dataset are provided per household, these\\ncolumns may take surprisingly large values for block groups with few households\\nand many empty houses, such as vacation resorts.\\n\\nIt can be downloaded/loaded using the\\n:func:`sklearn.datasets.fetch_california_housing` function.\\n\\n.. topic:: References\\n\\n    - Pace, R. Kelley and Ronald Barry, Sparse Spatial Autoregressions,\\n      Statistics and Probability Letters, 33 (1997) 291-297\\n'}"
            ]
          },
          "metadata": {},
          "execution_count": 65
        }
      ]
    },
    {
      "cell_type": "code",
      "metadata": {
        "colab": {
          "base_uri": "https://localhost:8080/"
        },
        "id": "Z-wOCTqNgdYt",
        "outputId": "2526eb08-d40a-4bf0-87a5-79303fed167e"
      },
      "source": [
        "housing.data.shape\n",
        "# 20,640 homes, 8 features"
      ],
      "execution_count": null,
      "outputs": [
        {
          "output_type": "execute_result",
          "data": {
            "text/plain": [
              "(20640, 8)"
            ]
          },
          "metadata": {},
          "execution_count": 66
        }
      ]
    },
    {
      "cell_type": "code",
      "metadata": {
        "colab": {
          "base_uri": "https://localhost:8080/"
        },
        "id": "9-S1uR36gdba",
        "outputId": "cd15a84d-a982-4352-dce6-d1e69104cc1e"
      },
      "source": [
        "housing.feature_names"
      ],
      "execution_count": null,
      "outputs": [
        {
          "output_type": "execute_result",
          "data": {
            "text/plain": [
              "['MedInc',\n",
              " 'HouseAge',\n",
              " 'AveRooms',\n",
              " 'AveBedrms',\n",
              " 'Population',\n",
              " 'AveOccup',\n",
              " 'Latitude',\n",
              " 'Longitude']"
            ]
          },
          "metadata": {},
          "execution_count": 67
        }
      ]
    },
    {
      "cell_type": "code",
      "metadata": {
        "colab": {
          "base_uri": "https://localhost:8080/"
        },
        "id": "Bv4TMSCehH33",
        "outputId": "93653a68-ab3a-4a8d-b864-ed24f9e8336d"
      },
      "source": [
        "housing.target # Average house value in block in $100k"
      ],
      "execution_count": null,
      "outputs": [
        {
          "output_type": "execute_result",
          "data": {
            "text/plain": [
              "array([4.526, 3.585, 3.521, ..., 0.923, 0.847, 0.894])"
            ]
          },
          "metadata": {},
          "execution_count": 68
        }
      ]
    },
    {
      "cell_type": "code",
      "metadata": {
        "colab": {
          "base_uri": "https://localhost:8080/"
        },
        "id": "NcoXucYdhH6r",
        "outputId": "b40203c4-03fd-4cc0-c18f-be9b922a5861"
      },
      "source": [
        "print(housing.DESCR)"
      ],
      "execution_count": null,
      "outputs": [
        {
          "output_type": "stream",
          "name": "stdout",
          "text": [
            ".. _california_housing_dataset:\n",
            "\n",
            "California Housing dataset\n",
            "--------------------------\n",
            "\n",
            "**Data Set Characteristics:**\n",
            "\n",
            "    :Number of Instances: 20640\n",
            "\n",
            "    :Number of Attributes: 8 numeric, predictive attributes and the target\n",
            "\n",
            "    :Attribute Information:\n",
            "        - MedInc        median income in block group\n",
            "        - HouseAge      median house age in block group\n",
            "        - AveRooms      average number of rooms per household\n",
            "        - AveBedrms     average number of bedrooms per household\n",
            "        - Population    block group population\n",
            "        - AveOccup      average number of household members\n",
            "        - Latitude      block group latitude\n",
            "        - Longitude     block group longitude\n",
            "\n",
            "    :Missing Attribute Values: None\n",
            "\n",
            "This dataset was obtained from the StatLib repository.\n",
            "https://www.dcc.fc.up.pt/~ltorgo/Regression/cal_housing.html\n",
            "\n",
            "The target variable is the median house value for California districts,\n",
            "expressed in hundreds of thousands of dollars ($100,000).\n",
            "\n",
            "This dataset was derived from the 1990 U.S. census, using one row per census\n",
            "block group. A block group is the smallest geographical unit for which the U.S.\n",
            "Census Bureau publishes sample data (a block group typically has a population\n",
            "of 600 to 3,000 people).\n",
            "\n",
            "A household is a group of people residing within a home. Since the average\n",
            "number of rooms and bedrooms in this dataset are provided per household, these\n",
            "columns may take surprisingly large values for block groups with few households\n",
            "and many empty houses, such as vacation resorts.\n",
            "\n",
            "It can be downloaded/loaded using the\n",
            ":func:`sklearn.datasets.fetch_california_housing` function.\n",
            "\n",
            ".. topic:: References\n",
            "\n",
            "    - Pace, R. Kelley and Ronald Barry, Sparse Spatial Autoregressions,\n",
            "      Statistics and Probability Letters, 33 (1997) 291-297\n",
            "\n"
          ]
        }
      ]
    },
    {
      "cell_type": "code",
      "metadata": {
        "id": "AqOf3L6DhH9c"
      },
      "source": [
        "# 1. Preprocess\n",
        "# Create training and testing and validation sets\n",
        "X_train_full, X_test, y_train_full, y_test = train_test_split(housing.data,\n",
        "                                                              housing.target,\n",
        "                                                              test_size=1/5)\n",
        "X_train_tr, X_train_v, y_train_tr, y_train_v = train_test_split(X_train_full,\n",
        "                                                                y_train_full,\n",
        "                                                                test_size=1/10)"
      ],
      "execution_count": null,
      "outputs": []
    },
    {
      "cell_type": "code",
      "metadata": {
        "colab": {
          "base_uri": "https://localhost:8080/"
        },
        "id": "gef9uB_rh69O",
        "outputId": "e7bb791c-4f16-409c-a797-7a65c7a1d235"
      },
      "source": [
        "X_train_tr.shape"
      ],
      "execution_count": null,
      "outputs": [
        {
          "output_type": "execute_result",
          "data": {
            "text/plain": [
              "(14860, 8)"
            ]
          },
          "metadata": {},
          "execution_count": 71
        }
      ]
    },
    {
      "cell_type": "code",
      "metadata": {
        "id": "iHBzBLajh7Ar"
      },
      "source": [
        "# Scale data for keras\n",
        "from sklearn.preprocessing import StandardScaler\n",
        "scaler = StandardScaler()\n",
        "X_train_tr = scaler.fit_transform(X_train_tr)\n",
        "# Remember only fit on training data, then transform validation and testing sets\n",
        "X_train_v = scaler.transform(X_train_v)\n",
        "X_test = scaler.transform(X_test)\n"
      ],
      "execution_count": null,
      "outputs": []
    },
    {
      "cell_type": "code",
      "metadata": {
        "id": "O5ZmSi83h7Dr"
      },
      "source": [
        "# 2. Create model/NN architecture\n",
        "model = keras.models.Sequential([\n",
        "  keras.layers.Dense(30, activation=\"relu\", input_shape=(8,)),\n",
        "  keras.layers.Dense(1) # output price\n",
        "])"
      ],
      "execution_count": null,
      "outputs": []
    },
    {
      "cell_type": "code",
      "metadata": {
        "colab": {
          "base_uri": "https://localhost:8080/"
        },
        "id": "sOgW7Rndh7HM",
        "outputId": "62adfd49-ee4c-46ef-9f68-cbc933089fbc"
      },
      "source": [
        "model.summary()"
      ],
      "execution_count": null,
      "outputs": [
        {
          "output_type": "stream",
          "name": "stdout",
          "text": [
            "Model: \"sequential\"\n",
            "_________________________________________________________________\n",
            " Layer (type)                Output Shape              Param #   \n",
            "=================================================================\n",
            " dense (Dense)               (None, 30)                270       \n",
            "                                                                 \n",
            " dense_1 (Dense)             (None, 1)                 31        \n",
            "                                                                 \n",
            "=================================================================\n",
            "Total params: 301\n",
            "Trainable params: 301\n",
            "Non-trainable params: 0\n",
            "_________________________________________________________________\n"
          ]
        }
      ]
    },
    {
      "cell_type": "code",
      "metadata": {
        "id": "_wn7QUnxp8wr"
      },
      "source": [
        "# 3. Compile model\n",
        "model.compile(loss=\"mean_squared_error\", optimizer=\"sgd\",\n",
        "              metrics=[tf.keras.metrics.MeanSquaredError()])\n",
        "# many other metrics available:\n",
        "# https://keras.io/api/metrics/"
      ],
      "execution_count": null,
      "outputs": []
    },
    {
      "cell_type": "code",
      "metadata": {
        "colab": {
          "base_uri": "https://localhost:8080/"
        },
        "id": "l4R3_6gdp8zh",
        "outputId": "93d29146-4b83-483b-f97b-0e375e6c531c"
      },
      "source": [
        "# 4. Fit model\n",
        "history = model.fit(X_train_tr, y_train_tr, epochs=20,\n",
        "                    validation_data=(X_train_v, y_train_v))"
      ],
      "execution_count": null,
      "outputs": [
        {
          "output_type": "stream",
          "name": "stdout",
          "text": [
            "Epoch 1/20\n",
            "465/465 [==============================] - 2s 4ms/step - loss: 0.8045 - mean_squared_error: 0.8045 - val_loss: 0.6486 - val_mean_squared_error: 0.6486\n",
            "Epoch 2/20\n",
            "465/465 [==============================] - 1s 3ms/step - loss: 0.5586 - mean_squared_error: 0.5586 - val_loss: 0.4696 - val_mean_squared_error: 0.4696\n",
            "Epoch 3/20\n",
            "465/465 [==============================] - 1s 3ms/step - loss: 0.4583 - mean_squared_error: 0.4583 - val_loss: 0.4484 - val_mean_squared_error: 0.4484\n",
            "Epoch 4/20\n",
            "465/465 [==============================] - 1s 3ms/step - loss: 0.4405 - mean_squared_error: 0.4405 - val_loss: 0.4335 - val_mean_squared_error: 0.4335\n",
            "Epoch 5/20\n",
            "465/465 [==============================] - 2s 3ms/step - loss: 0.4275 - mean_squared_error: 0.4275 - val_loss: 0.4234 - val_mean_squared_error: 0.4234\n",
            "Epoch 6/20\n",
            "465/465 [==============================] - 2s 5ms/step - loss: 0.4193 - mean_squared_error: 0.4193 - val_loss: 0.4200 - val_mean_squared_error: 0.4200\n",
            "Epoch 7/20\n",
            "465/465 [==============================] - 2s 3ms/step - loss: 0.4115 - mean_squared_error: 0.4115 - val_loss: 0.4212 - val_mean_squared_error: 0.4212\n",
            "Epoch 8/20\n",
            "465/465 [==============================] - 2s 3ms/step - loss: 0.4045 - mean_squared_error: 0.4045 - val_loss: 0.4109 - val_mean_squared_error: 0.4109\n",
            "Epoch 9/20\n",
            "465/465 [==============================] - 2s 3ms/step - loss: 0.4007 - mean_squared_error: 0.4007 - val_loss: 0.4071 - val_mean_squared_error: 0.4071\n",
            "Epoch 10/20\n",
            "465/465 [==============================] - 2s 4ms/step - loss: 0.4055 - mean_squared_error: 0.4055 - val_loss: 0.4083 - val_mean_squared_error: 0.4083\n",
            "Epoch 11/20\n",
            "465/465 [==============================] - 2s 4ms/step - loss: 0.3945 - mean_squared_error: 0.3945 - val_loss: 0.4057 - val_mean_squared_error: 0.4057\n",
            "Epoch 12/20\n",
            "465/465 [==============================] - 2s 3ms/step - loss: 0.3906 - mean_squared_error: 0.3906 - val_loss: 0.3950 - val_mean_squared_error: 0.3950\n",
            "Epoch 13/20\n",
            "465/465 [==============================] - 2s 4ms/step - loss: 0.3846 - mean_squared_error: 0.3846 - val_loss: 0.3966 - val_mean_squared_error: 0.3966\n",
            "Epoch 14/20\n",
            "465/465 [==============================] - 2s 4ms/step - loss: 0.3899 - mean_squared_error: 0.3899 - val_loss: 0.3956 - val_mean_squared_error: 0.3956\n",
            "Epoch 15/20\n",
            "465/465 [==============================] - 1s 3ms/step - loss: 0.3810 - mean_squared_error: 0.3810 - val_loss: 0.4032 - val_mean_squared_error: 0.4032\n",
            "Epoch 16/20\n",
            "465/465 [==============================] - 2s 3ms/step - loss: 0.3783 - mean_squared_error: 0.3783 - val_loss: 0.3970 - val_mean_squared_error: 0.3970\n",
            "Epoch 17/20\n",
            "465/465 [==============================] - 1s 3ms/step - loss: 0.3783 - mean_squared_error: 0.3783 - val_loss: 0.4019 - val_mean_squared_error: 0.4019\n",
            "Epoch 18/20\n",
            "465/465 [==============================] - 1s 3ms/step - loss: 0.3795 - mean_squared_error: 0.3795 - val_loss: 0.3901 - val_mean_squared_error: 0.3901\n",
            "Epoch 19/20\n",
            "465/465 [==============================] - 1s 3ms/step - loss: 0.3740 - mean_squared_error: 0.3740 - val_loss: 0.3950 - val_mean_squared_error: 0.3950\n",
            "Epoch 20/20\n",
            "465/465 [==============================] - 1s 3ms/step - loss: 0.3712 - mean_squared_error: 0.3712 - val_loss: 0.3935 - val_mean_squared_error: 0.3935\n"
          ]
        }
      ]
    },
    {
      "cell_type": "code",
      "metadata": {
        "colab": {
          "base_uri": "https://localhost:8080/"
        },
        "id": "eB_oRV0wp83R",
        "outputId": "59256bf6-df77-43d0-93ef-2eea7b4343ef"
      },
      "source": [
        "# 5. Evaluate model\n",
        "mse_test = model.evaluate(X_test, y_test)\n",
        "mse_test"
      ],
      "execution_count": null,
      "outputs": [
        {
          "output_type": "stream",
          "name": "stdout",
          "text": [
            "129/129 [==============================] - 0s 3ms/step - loss: 0.3861 - mean_squared_error: 0.3861\n"
          ]
        },
        {
          "output_type": "execute_result",
          "data": {
            "text/plain": [
              "[0.3861236572265625, 0.3861236572265625]"
            ]
          },
          "metadata": {},
          "execution_count": 77
        }
      ]
    },
    {
      "cell_type": "code",
      "metadata": {
        "colab": {
          "base_uri": "https://localhost:8080/"
        },
        "id": "sq5acftDp85j",
        "outputId": "3973ea03-7a78-4253-cc34-94f1c6c479fa"
      },
      "source": [
        "print(\"Actual: \", y_test[:5])\n",
        "print(\"Predicted: \", model.predict(X_test[:5]))"
      ],
      "execution_count": null,
      "outputs": [
        {
          "output_type": "stream",
          "name": "stdout",
          "text": [
            "Actual:  [0.477   0.458   5.00001 2.186   2.78   ]\n",
            "1/1 [==============================] - 0s 77ms/step\n",
            "Predicted:  [[0.60440755]\n",
            " [1.5419283 ]\n",
            " [3.635963  ]\n",
            " [2.7285357 ]\n",
            " [2.8651233 ]]\n"
          ]
        }
      ]
    },
    {
      "cell_type": "code",
      "metadata": {
        "colab": {
          "base_uri": "https://localhost:8080/"
        },
        "id": "dRpRGXrTteEt",
        "outputId": "1b6bf172-45b5-427b-c53f-c457125c250d"
      },
      "source": [
        "(.377)**0.5"
      ],
      "execution_count": null,
      "outputs": [
        {
          "output_type": "execute_result",
          "data": {
            "text/plain": [
              "0.6140032573203501"
            ]
          },
          "metadata": {},
          "execution_count": 79
        }
      ]
    },
    {
      "cell_type": "code",
      "metadata": {
        "colab": {
          "base_uri": "https://localhost:8080/"
        },
        "id": "tLLQDjbDteNP",
        "outputId": "4745fcce-050e-4377-a0a2-335bd4b1ac8d"
      },
      "source": [
        "#plt.plot(pd.DataFrame(history.history))\n",
        "histories = pd.DataFrame(history.history)\n",
        "histories.plot()"
      ],
      "execution_count": null,
      "outputs": [
        {
          "output_type": "execute_result",
          "data": {
            "text/plain": [
              "<Axes: >"
            ]
          },
          "metadata": {},
          "execution_count": 80
        },
        {
          "output_type": "display_data",
          "data": {
            "text/plain": [
              "<Figure size 640x480 with 1 Axes>"
            ],
            "image/png": "[encoded data removed]"
          },
          "metadata": {}
        }
      ]
    },
    {
      "cell_type": "code",
      "metadata": {
        "id": "bqlrq4pguwlf"
      },
      "source": [],
      "execution_count": null,
      "outputs": []
    },
    {
      "cell_type": "markdown",
      "metadata": {
        "id": "4vhPpFVZvCTM"
      },
      "source": [
        "### Functional API"
      ]
    },
    {
      "cell_type": "code",
      "metadata": {
        "id": "w3snhbGQuwpn"
      },
      "source": [
        "# Step 2. build deep and wide NN architecture (using Functional API)\n",
        "input_ = keras.layers.Input(shape=(8,))\n",
        "hidden1 = keras.layers.Dense(30,activation=\"relu\",name=\"Hidden1\")(input_)\n",
        "hidden2 = keras.layers.Dense(30, activation=\"relu\")(hidden1)\n",
        "concat = keras.layers.Concatenate()([input_, hidden2])\n",
        "output = keras.layers.Dense(1)(concat)\n",
        "# concatenation layer needed to merge into single tensor\n",
        "# can't send two layers into a Dense layer -- it will error\n",
        "\n",
        "model = keras.models.Model(inputs=[input_], outputs=[output])"
      ],
      "execution_count": null,
      "outputs": []
    },
    {
      "cell_type": "code",
      "metadata": {
        "colab": {
          "base_uri": "https://localhost:8080/"
        },
        "id": "Yk8IxqDZuwtt",
        "outputId": "5ea66a57-061c-4323-814a-6f632ddd3b7b"
      },
      "source": [
        "model.summary()"
      ],
      "execution_count": null,
      "outputs": [
        {
          "output_type": "stream",
          "name": "stdout",
          "text": [
            "Model: \"model\"\n",
            "__________________________________________________________________________________________________\n",
            " Layer (type)                   Output Shape         Param #     Connected to                     \n",
            "==================================================================================================\n",
            " input_1 (InputLayer)           [(None, 8)]          0           []                               \n",
            "                                                                                                  \n",
            " Hidden1 (Dense)                (None, 30)           270         ['input_1[0][0]']                \n",
            "                                                                                                  \n",
            " dense_2 (Dense)                (None, 30)           930         ['Hidden1[0][0]']                \n",
            "                                                                                                  \n",
            " concatenate (Concatenate)      (None, 38)           0           ['input_1[0][0]',                \n",
            "                                                                  'dense_2[0][0]']                \n",
            "                                                                                                  \n",
            " dense_3 (Dense)                (None, 1)            39          ['concatenate[0][0]']            \n",
            "                                                                                                  \n",
            "==================================================================================================\n",
            "Total params: 1,239\n",
            "Trainable params: 1,239\n",
            "Non-trainable params: 0\n",
            "__________________________________________________________________________________________________\n"
          ]
        }
      ]
    },
    {
      "cell_type": "code",
      "metadata": {
        "colab": {
          "base_uri": "https://localhost:8080/",
          "height": 533
        },
        "id": "LzdSZiV0teQ4",
        "outputId": "5b33022c-5002-4568-8be0-393e637f3c34"
      },
      "source": [
        "keras.utils.plot_model(model, show_shapes=True)"
      ],
      "execution_count": null,
      "outputs": [
        {
          "output_type": "execute_result",
          "data": {
            "image/png": "[encoded data removed]",
            "text/plain": [
              "<IPython.core.display.Image object>"
            ]
          },
          "metadata": {},
          "execution_count": 83
        }
      ]
    },
    {
      "cell_type": "code",
      "metadata": {
        "id": "NobNawdxzr6M"
      },
      "source": [
        "model.compile(loss=\"mse\", optimizer=\"sgd\")"
      ],
      "execution_count": null,
      "outputs": []
    },
    {
      "cell_type": "code",
      "metadata": {
        "colab": {
          "base_uri": "https://localhost:8080/"
        },
        "id": "63RvBzLwzr9J",
        "outputId": "57bc3729-1be9-44a5-e0fa-2f8d97c66135"
      },
      "source": [
        "history = model.fit(X_train_tr, y_train_tr, epochs=20,\n",
        "                    validation_data=(X_train_v, y_train_v))"
      ],
      "execution_count": null,
      "outputs": [
        {
          "output_type": "stream",
          "name": "stdout",
          "text": [
            "Epoch 1/20\n",
            "465/465 [==============================] - 3s 4ms/step - loss: 1.4347 - val_loss: 0.7735\n",
            "Epoch 2/20\n",
            "465/465 [==============================] - 1s 3ms/step - loss: 180.3991 - val_loss: 1.8009\n",
            "Epoch 3/20\n",
            "465/465 [==============================] - 2s 3ms/step - loss: 10.2455 - val_loss: 0.6161\n",
            "Epoch 4/20\n",
            "465/465 [==============================] - 1s 3ms/step - loss: 5.6343 - val_loss: 0.5231\n",
            "Epoch 5/20\n",
            "465/465 [==============================] - 2s 3ms/step - loss: 0.5201 - val_loss: 0.4965\n",
            "Epoch 6/20\n",
            "465/465 [==============================] - 2s 3ms/step - loss: 0.5113 - val_loss: 0.5020\n",
            "Epoch 7/20\n",
            "465/465 [==============================] - 2s 4ms/step - loss: 0.5129 - val_loss: 0.5021\n",
            "Epoch 8/20\n",
            "465/465 [==============================] - 2s 4ms/step - loss: 0.5053 - val_loss: 0.5002\n",
            "Epoch 9/20\n",
            "465/465 [==============================] - 1s 3ms/step - loss: 0.5096 - val_loss: 0.4985\n",
            "Epoch 10/20\n",
            "465/465 [==============================] - 2s 3ms/step - loss: 0.6560 - val_loss: 0.4789\n",
            "Epoch 11/20\n",
            "465/465 [==============================] - 1s 3ms/step - loss: 0.7696 - val_loss: 0.4937\n",
            "Epoch 12/20\n",
            "465/465 [==============================] - 2s 3ms/step - loss: 0.5141 - val_loss: 0.4916\n",
            "Epoch 13/20\n",
            "465/465 [==============================] - 2s 3ms/step - loss: 0.5058 - val_loss: 0.5130\n",
            "Epoch 14/20\n",
            "465/465 [==============================] - 2s 3ms/step - loss: 0.5000 - val_loss: 0.4832\n",
            "Epoch 15/20\n",
            "465/465 [==============================] - 2s 4ms/step - loss: 0.4968 - val_loss: 0.4967\n",
            "Epoch 16/20\n",
            "465/465 [==============================] - 2s 4ms/step - loss: 0.7953 - val_loss: 0.5118\n",
            "Epoch 17/20\n",
            "465/465 [==============================] - 2s 3ms/step - loss: 0.5140 - val_loss: 0.5058\n",
            "Epoch 18/20\n",
            "465/465 [==============================] - 2s 4ms/step - loss: 0.5339 - val_loss: 0.5039\n",
            "Epoch 19/20\n",
            "465/465 [==============================] - 2s 3ms/step - loss: 0.5161 - val_loss: 0.5058\n",
            "Epoch 20/20\n",
            "465/465 [==============================] - 1s 3ms/step - loss: 0.5071 - val_loss: 0.5170\n"
          ]
        }
      ]
    },
    {
      "cell_type": "code",
      "metadata": {
        "colab": {
          "base_uri": "https://localhost:8080/",
          "height": 448
        },
        "id": "eB6u6VQhzr_n",
        "outputId": "885d973d-6c54-4592-e034-8d4ea59f2758"
      },
      "source": [
        "pd.DataFrame(history.history).plot()\n",
        "# Learning rate is too large -- loss is bouncing around\n",
        "# Does look like it may be converging to smaller val_loss than the Sequential..."
      ],
      "execution_count": null,
      "outputs": [
        {
          "output_type": "execute_result",
          "data": {
            "text/plain": [
              "<Axes: >"
            ]
          },
          "metadata": {},
          "execution_count": 86
        },
        {
          "output_type": "display_data",
          "data": {
            "text/plain": [
              "<Figure size 640x480 with 1 Axes>"
            ],
            "image/png": "[encoded data removed]"
          },
          "metadata": {}
        }
      ]
    },
    {
      "cell_type": "code",
      "metadata": {
        "id": "kqsB9ObF0aRD"
      },
      "source": [
        "# Change learning rate\n",
        "model.compile(loss=\"mse\", optimizer=tf.keras.optimizers.SGD(learning_rate=0.005))\n",
        "# Default lr=0.01"
      ],
      "execution_count": null,
      "outputs": []
    },
    {
      "cell_type": "code",
      "metadata": {
        "colab": {
          "base_uri": "https://localhost:8080/"
        },
        "id": "bEhf6DEv0aUi",
        "outputId": "3b02b9bd-85e2-4199-baed-48d2f803d962"
      },
      "source": [
        "history = model.fit(X_train_tr, y_train_tr, epochs=20,\n",
        "                    validation_data=(X_train_v, y_train_v))"
      ],
      "execution_count": null,
      "outputs": [
        {
          "output_type": "stream",
          "name": "stdout",
          "text": [
            "Epoch 1/20\n",
            "465/465 [==============================] - 2s 3ms/step - loss: 0.5121 - val_loss: 0.5003\n",
            "Epoch 2/20\n",
            "465/465 [==============================] - 2s 3ms/step - loss: 0.5048 - val_loss: 0.5024\n",
            "Epoch 3/20\n",
            "465/465 [==============================] - 2s 3ms/step - loss: 0.5038 - val_loss: 0.5143\n",
            "Epoch 4/20\n",
            "465/465 [==============================] - 2s 4ms/step - loss: 0.5050 - val_loss: 0.5043\n",
            "Epoch 5/20\n",
            "465/465 [==============================] - 2s 4ms/step - loss: 0.5028 - val_loss: 0.5011\n",
            "Epoch 6/20\n",
            "465/465 [==============================] - 1s 3ms/step - loss: 0.5021 - val_loss: 0.5038\n",
            "Epoch 7/20\n",
            "465/465 [==============================] - 1s 3ms/step - loss: 0.5031 - val_loss: 0.5024\n",
            "Epoch 8/20\n",
            "465/465 [==============================] - 2s 3ms/step - loss: 0.5024 - val_loss: 0.5012\n",
            "Epoch 9/20\n",
            "465/465 [==============================] - 2s 3ms/step - loss: 0.5029 - val_loss: 0.5003\n",
            "Epoch 10/20\n",
            "465/465 [==============================] - 2s 3ms/step - loss: 0.5041 - val_loss: 0.5018\n",
            "Epoch 11/20\n",
            "465/465 [==============================] - 2s 3ms/step - loss: 0.5043 - val_loss: 0.5020\n",
            "Epoch 12/20\n",
            "465/465 [==============================] - 2s 5ms/step - loss: 0.5027 - val_loss: 0.4981\n",
            "Epoch 13/20\n",
            "465/465 [==============================] - 1s 3ms/step - loss: 0.5037 - val_loss: 0.5084\n",
            "Epoch 14/20\n",
            "465/465 [==============================] - 2s 3ms/step - loss: 0.5023 - val_loss: 0.5009\n",
            "Epoch 15/20\n",
            "465/465 [==============================] - 1s 3ms/step - loss: 0.5018 - val_loss: 0.5021\n",
            "Epoch 16/20\n",
            "465/465 [==============================] - 1s 3ms/step - loss: 0.5045 - val_loss: 0.5068\n",
            "Epoch 17/20\n",
            "465/465 [==============================] - 1s 3ms/step - loss: 0.5026 - val_loss: 0.5015\n",
            "Epoch 18/20\n",
            "465/465 [==============================] - 2s 3ms/step - loss: 0.5045 - val_loss: 0.5011\n",
            "Epoch 19/20\n",
            "465/465 [==============================] - 2s 4ms/step - loss: 0.5021 - val_loss: 0.5029\n",
            "Epoch 20/20\n",
            "465/465 [==============================] - 2s 4ms/step - loss: 0.5011 - val_loss: 0.5079\n"
          ]
        }
      ]
    },
    {
      "cell_type": "code",
      "metadata": {
        "colab": {
          "base_uri": "https://localhost:8080/",
          "height": 448
        },
        "id": "_ovFJ2KJzsDF",
        "outputId": "28db2b0c-6e42-4673-84c7-aed34fa4b8e3"
      },
      "source": [
        "pd.DataFrame(history.history).plot()"
      ],
      "execution_count": null,
      "outputs": [
        {
          "output_type": "execute_result",
          "data": {
            "text/plain": [
              "<Axes: >"
            ]
          },
          "metadata": {},
          "execution_count": 89
        },
        {
          "output_type": "display_data",
          "data": {
            "text/plain": [
              "<Figure size 640x480 with 1 Axes>"
            ],
            "image/png": "[encoded data removed]"
          },
          "metadata": {}
        }
      ]
    },
    {
      "cell_type": "code",
      "metadata": {
        "colab": {
          "base_uri": "https://localhost:8080/"
        },
        "id": "YLT51fyT1lnH",
        "outputId": "47faae9c-f1c9-4d0a-8540-9b75f3adc819"
      },
      "source": [
        "model.evaluate(X_test, y_test)"
      ],
      "execution_count": null,
      "outputs": [
        {
          "output_type": "stream",
          "name": "stdout",
          "text": [
            "129/129 [==============================] - 0s 2ms/step - loss: 0.5691\n"
          ]
        },
        {
          "output_type": "execute_result",
          "data": {
            "text/plain": [
              "0.5690705180168152"
            ]
          },
          "metadata": {},
          "execution_count": 90
        }
      ]
    },
    {
      "cell_type": "code",
      "metadata": {
        "id": "ADldeQcH1lpz"
      },
      "source": [
        "# Multiple inputs\n",
        "input_A = keras.layers.Input(shape=[5], name=\"wide_input\")\n",
        "input_B = keras.layers.Input(shape=[6], name=\"deep_input\")\n",
        "hidden1 = keras.layers.Dense(30,activation=\"relu\",name=\"Hidden1\")(input_B)\n",
        "hidden2 = keras.layers.Dense(30, activation=\"relu\", name=\"Hidden2\")(hidden1)\n",
        "concat = keras.layers.Concatenate()([input_A, hidden2])\n",
        "# concat = keras.layers.concatenate([input_A, hidden2])\n",
        "output = keras.layers.Dense(1, name=\"output\")(concat)\n",
        "# concatenation layer needed to merge into single tensor\n",
        "# can't send two layers into a Dense layer -- it will error\n",
        "\n",
        "model = keras.models.Model(inputs=[input_A, input_B], outputs=[output])"
      ],
      "execution_count": null,
      "outputs": []
    },
    {
      "cell_type": "code",
      "metadata": {
        "id": "gS4yBrlI1ls2",
        "colab": {
          "base_uri": "https://localhost:8080/"
        },
        "outputId": "24f1a5e2-ca64-4480-e851-45625a0a4fc0"
      },
      "source": [
        "model.compile(loss=\"mse\", optimizer=tf.keras.optimizers.SGD(lr=5e-3))"
      ],
      "execution_count": null,
      "outputs": [
        {
          "output_type": "stream",
          "name": "stderr",
          "text": [
            "WARNING:absl:`lr` is deprecated in Keras optimizer, please use `learning_rate` or use the legacy optimizer, e.g.,tf.keras.optimizers.legacy.SGD.\n"
          ]
        }
      ]
    },
    {
      "cell_type": "code",
      "metadata": {
        "colab": {
          "base_uri": "https://localhost:8080/",
          "height": 533
        },
        "id": "MkpOhNEkYeYK",
        "outputId": "079b2e2a-b6dc-48ba-feb7-bd1214980952"
      },
      "source": [
        "keras.utils.plot_model(model, show_shapes=True)"
      ],
      "execution_count": null,
      "outputs": [
        {
          "output_type": "execute_result",
          "data": {
            "image/png": "[encoded data removed]",
            "text/plain": [
              "<IPython.core.display.Image object>"
            ]
          },
          "metadata": {},
          "execution_count": 93
        }
      ]
    },
    {
      "cell_type": "code",
      "metadata": {
        "colab": {
          "base_uri": "https://localhost:8080/"
        },
        "id": "2cGEsJ1-Yebt",
        "outputId": "a4baf3e4-e371-43cd-baf0-010699429e01"
      },
      "source": [
        "history = model.fit( (X_train_tr[:,:5], X_train_tr[:,2:]), y_train_tr,\n",
        "                    epochs=20,\n",
        "                    validation_data=((X_train_v[:,:5], X_train_v[:,2:]),y_train_v))"
      ],
      "execution_count": null,
      "outputs": [
        {
          "output_type": "stream",
          "name": "stdout",
          "text": [
            "Epoch 1/20\n",
            "465/465 [==============================] - 2s 4ms/step - loss: 0.7699 - val_loss: 0.7989\n",
            "Epoch 2/20\n",
            "465/465 [==============================] - 2s 4ms/step - loss: 0.5284 - val_loss: 0.4638\n",
            "Epoch 3/20\n",
            "465/465 [==============================] - 2s 3ms/step - loss: 0.4532 - val_loss: 0.4409\n",
            "Epoch 4/20\n",
            "465/465 [==============================] - 2s 3ms/step - loss: 0.4364 - val_loss: 0.4336\n",
            "Epoch 5/20\n",
            "465/465 [==============================] - 2s 4ms/step - loss: 0.4256 - val_loss: 0.4225\n",
            "Epoch 6/20\n",
            "465/465 [==============================] - 2s 5ms/step - loss: 0.4146 - val_loss: 0.4132\n",
            "Epoch 7/20\n",
            "465/465 [==============================] - 2s 3ms/step - loss: 0.4048 - val_loss: 0.4220\n",
            "Epoch 8/20\n",
            "465/465 [==============================] - 2s 4ms/step - loss: 0.3966 - val_loss: 0.3956\n",
            "Epoch 9/20\n",
            "465/465 [==============================] - 2s 3ms/step - loss: 0.3983 - val_loss: 0.3901\n",
            "Epoch 10/20\n",
            "465/465 [==============================] - 2s 3ms/step - loss: 0.3852 - val_loss: 0.3839\n",
            "Epoch 11/20\n",
            "465/465 [==============================] - 2s 3ms/step - loss: 0.3768 - val_loss: 0.3924\n",
            "Epoch 12/20\n",
            "465/465 [==============================] - 2s 3ms/step - loss: 0.3711 - val_loss: 0.3667\n",
            "Epoch 13/20\n",
            "465/465 [==============================] - 2s 4ms/step - loss: 0.3656 - val_loss: 0.3665\n",
            "Epoch 14/20\n",
            "465/465 [==============================] - 2s 4ms/step - loss: 0.3649 - val_loss: 0.3576\n",
            "Epoch 15/20\n",
            "465/465 [==============================] - 2s 3ms/step - loss: 0.3561 - val_loss: 0.3887\n",
            "Epoch 16/20\n",
            "465/465 [==============================] - 2s 3ms/step - loss: 0.3550 - val_loss: 0.3772\n",
            "Epoch 17/20\n",
            "465/465 [==============================] - 2s 3ms/step - loss: 0.3532 - val_loss: 0.3816\n",
            "Epoch 18/20\n",
            "465/465 [==============================] - 2s 3ms/step - loss: 0.3603 - val_loss: 0.3529\n",
            "Epoch 19/20\n",
            "465/465 [==============================] - 2s 4ms/step - loss: 0.3471 - val_loss: 0.3675\n",
            "Epoch 20/20\n",
            "465/465 [==============================] - 2s 4ms/step - loss: 0.3432 - val_loss: 0.3494\n"
          ]
        }
      ]
    },
    {
      "cell_type": "code",
      "metadata": {
        "id": "b5YKJCR4YeeM"
      },
      "source": [
        "# Create two outputs, use auxiliary output for regularization (reduce overfitting)\n",
        "input_A = keras.layers.Input(shape=[5], name=\"wide_input\")\n",
        "input_B = keras.layers.Input(shape=[6], name=\"deep_input\")\n",
        "hidden1 = keras.layers.Dense(30,activation=\"relu\",name=\"Hidden1\")(input_B)\n",
        "hidden2 = keras.layers.Dense(30, activation=\"relu\", name=\"Hidden2\")(hidden1)\n",
        "concat = keras.layers.Concatenate()([input_A, hidden2])\n",
        "output = keras.layers.Dense(1, name=\"output\")(concat)\n",
        "aux_output = keras.layers.Dense(1, name=\"aux_output\")(hidden2)\n",
        "\n",
        "model = keras.models.Model(inputs=[input_A, input_B], outputs=[output, aux_output])"
      ],
      "execution_count": null,
      "outputs": []
    },
    {
      "cell_type": "code",
      "metadata": {
        "colab": {
          "base_uri": "https://localhost:8080/",
          "height": 533
        },
        "id": "0kiunbX1Yela",
        "outputId": "919ea631-c389-47e1-9367-bec391b08586"
      },
      "source": [
        "keras.utils.plot_model(model, show_shapes=True)"
      ],
      "execution_count": null,
      "outputs": [
        {
          "output_type": "execute_result",
          "data": {
            "image/png": "[encoded data removed]",
            "text/plain": [
              "<IPython.core.display.Image object>"
            ]
          },
          "metadata": {},
          "execution_count": 96
        }
      ]
    },
    {
      "cell_type": "code",
      "metadata": {
        "id": "7bAErpc_1kQy",
        "colab": {
          "base_uri": "https://localhost:8080/"
        },
        "outputId": "abb5f7f4-db61-4a85-a2dc-f98dd253e5c4"
      },
      "source": [
        "model.compile(loss=[\"mse\",\"mse\"], loss_weights=[0.9, 0.1],\n",
        "              optimizer=tf.keras.optimizers.SGD(lr=5e-3))\n",
        "# give loss functions for [output, aux_output], and\n",
        "# weight the aux_output less"
      ],
      "execution_count": null,
      "outputs": [
        {
          "output_type": "stream",
          "name": "stderr",
          "text": [
            "WARNING:absl:`lr` is deprecated in Keras optimizer, please use `learning_rate` or use the legacy optimizer, e.g.,tf.keras.optimizers.legacy.SGD.\n"
          ]
        }
      ]
    },
    {
      "cell_type": "code",
      "metadata": {
        "id": "3Y9AM4OYcnLy"
      },
      "source": [
        "X_train_A, X_train_B = X_train_tr[:,:5], X_train_tr[:,2:]\n",
        "# Why do this? -- Easier to read (make sure you get the slice right only one time)\n",
        "# Why not do this? -- Inefficient memory use (creates a deep copy); and any changes made\n",
        "#    to original dataset won't be made to _A or _B"
      ],
      "execution_count": null,
      "outputs": []
    },
    {
      "cell_type": "code",
      "metadata": {
        "colab": {
          "base_uri": "https://localhost:8080/"
        },
        "id": "jkuqCqoFbnvJ",
        "outputId": "4bf63fbc-ca77-4d83-eca3-2f65f5d98368"
      },
      "source": [
        "history = model.fit( [X_train_A, X_train_B], [y_train_tr, y_train_tr],\n",
        "                    epochs=20,\n",
        "                    validation_data=((X_train_v[:,:5], X_train_v[:,2:]),\n",
        "                                     [y_train_v, y_train_v]))"
      ],
      "execution_count": null,
      "outputs": [
        {
          "output_type": "stream",
          "name": "stdout",
          "text": [
            "Epoch 1/20\n",
            "465/465 [==============================] - 3s 5ms/step - loss: 0.8547 - output_loss: 0.7795 - aux_output_loss: 1.5316 - val_loss: 0.5531 - val_output_loss: 0.5083 - val_aux_output_loss: 0.9554\n",
            "Epoch 2/20\n",
            "465/465 [==============================] - 2s 4ms/step - loss: 0.5842 - output_loss: 0.5486 - aux_output_loss: 0.9046 - val_loss: 0.5282 - val_output_loss: 0.4925 - val_aux_output_loss: 0.8502\n",
            "Epoch 3/20\n",
            "465/465 [==============================] - 2s 4ms/step - loss: 0.5070 - output_loss: 0.4750 - aux_output_loss: 0.7953 - val_loss: 0.5281 - val_output_loss: 0.5077 - val_aux_output_loss: 0.7110\n",
            "Epoch 4/20\n",
            "465/465 [==============================] - 2s 4ms/step - loss: 0.4893 - output_loss: 0.4646 - aux_output_loss: 0.7115 - val_loss: 0.4687 - val_output_loss: 0.4480 - val_aux_output_loss: 0.6551\n",
            "Epoch 5/20\n",
            "465/465 [==============================] - 2s 5ms/step - loss: 0.4629 - output_loss: 0.4410 - aux_output_loss: 0.6597 - val_loss: 0.4535 - val_output_loss: 0.4354 - val_aux_output_loss: 0.6162\n",
            "Epoch 6/20\n",
            "465/465 [==============================] - 3s 6ms/step - loss: 0.4506 - output_loss: 0.4304 - aux_output_loss: 0.6318 - val_loss: 0.4450 - val_output_loss: 0.4289 - val_aux_output_loss: 0.5900\n",
            "Epoch 7/20\n",
            "465/465 [==============================] - 2s 4ms/step - loss: 0.4404 - output_loss: 0.4220 - aux_output_loss: 0.6067 - val_loss: 0.4422 - val_output_loss: 0.4273 - val_aux_output_loss: 0.5765\n",
            "Epoch 8/20\n",
            "465/465 [==============================] - 2s 4ms/step - loss: 0.4263 - output_loss: 0.4084 - aux_output_loss: 0.5871 - val_loss: 0.4253 - val_output_loss: 0.4099 - val_aux_output_loss: 0.5639\n",
            "Epoch 9/20\n",
            "465/465 [==============================] - 2s 4ms/step - loss: 0.4149 - output_loss: 0.3983 - aux_output_loss: 0.5645 - val_loss: 0.4118 - val_output_loss: 0.3971 - val_aux_output_loss: 0.5440\n",
            "Epoch 10/20\n",
            "465/465 [==============================] - 2s 5ms/step - loss: 0.4087 - output_loss: 0.3930 - aux_output_loss: 0.5500 - val_loss: 0.4047 - val_output_loss: 0.3912 - val_aux_output_loss: 0.5261\n",
            "Epoch 11/20\n",
            "465/465 [==============================] - 3s 6ms/step - loss: 0.3968 - output_loss: 0.3820 - aux_output_loss: 0.5301 - val_loss: 0.3993 - val_output_loss: 0.3866 - val_aux_output_loss: 0.5139\n",
            "Epoch 12/20\n",
            "465/465 [==============================] - 2s 5ms/step - loss: 0.3852 - output_loss: 0.3706 - aux_output_loss: 0.5157 - val_loss: 0.3820 - val_output_loss: 0.3693 - val_aux_output_loss: 0.4964\n",
            "Epoch 13/20\n",
            "465/465 [==============================] - 2s 5ms/step - loss: 0.3777 - output_loss: 0.3639 - aux_output_loss: 0.5016 - val_loss: 0.3816 - val_output_loss: 0.3701 - val_aux_output_loss: 0.4847\n",
            "Epoch 14/20\n",
            "465/465 [==============================] - 2s 4ms/step - loss: 0.3772 - output_loss: 0.3646 - aux_output_loss: 0.4900 - val_loss: 0.3689 - val_output_loss: 0.3576 - val_aux_output_loss: 0.4713\n",
            "Epoch 15/20\n",
            "465/465 [==============================] - 2s 4ms/step - loss: 0.3624 - output_loss: 0.3499 - aux_output_loss: 0.4751 - val_loss: 0.3949 - val_output_loss: 0.3850 - val_aux_output_loss: 0.4839\n",
            "Epoch 16/20\n",
            "465/465 [==============================] - 2s 4ms/step - loss: 0.3586 - output_loss: 0.3467 - aux_output_loss: 0.4654 - val_loss: 0.3812 - val_output_loss: 0.3714 - val_aux_output_loss: 0.4690\n",
            "Epoch 17/20\n",
            "465/465 [==============================] - 3s 6ms/step - loss: 0.3550 - output_loss: 0.3435 - aux_output_loss: 0.4581 - val_loss: 0.3876 - val_output_loss: 0.3778 - val_aux_output_loss: 0.4763\n",
            "Epoch 18/20\n",
            "465/465 [==============================] - 2s 5ms/step - loss: 0.3528 - output_loss: 0.3417 - aux_output_loss: 0.4531 - val_loss: 0.3561 - val_output_loss: 0.3463 - val_aux_output_loss: 0.4451\n",
            "Epoch 19/20\n",
            "465/465 [==============================] - 2s 4ms/step - loss: 0.3481 - output_loss: 0.3373 - aux_output_loss: 0.4453 - val_loss: 0.3661 - val_output_loss: 0.3569 - val_aux_output_loss: 0.4492\n",
            "Epoch 20/20\n",
            "465/465 [==============================] - 2s 4ms/step - loss: 0.3441 - output_loss: 0.3337 - aux_output_loss: 0.4378 - val_loss: 0.3585 - val_output_loss: 0.3486 - val_aux_output_loss: 0.4473\n"
          ]
        }
      ]
    },
    {
      "cell_type": "code",
      "metadata": {
        "colab": {
          "base_uri": "https://localhost:8080/"
        },
        "id": "R8qvwlbybnys",
        "outputId": "f04993a5-fb64-48bb-ba45-dc25151df20f"
      },
      "source": [
        "total_loss, main_loss, aux_loss = model.evaluate([X_test[:,:5],X_test[:,2:]],\n",
        "                                                  [y_test, y_test])\n",
        "total_loss"
      ],
      "execution_count": null,
      "outputs": [
        {
          "output_type": "stream",
          "name": "stdout",
          "text": [
            "129/129 [==============================] - 1s 4ms/step - loss: 0.3531 - output_loss: 0.3436 - aux_output_loss: 0.4393\n"
          ]
        },
        {
          "output_type": "execute_result",
          "data": {
            "text/plain": [
              "0.35313719511032104"
            ]
          },
          "metadata": {},
          "execution_count": 100
        }
      ]
    },
    {
      "cell_type": "code",
      "metadata": {
        "colab": {
          "base_uri": "https://localhost:8080/"
        },
        "id": "cjVCSZ0_bn00",
        "outputId": "2c22a475-5120-4c31-d36e-31b06458dd85"
      },
      "source": [
        "main_loss"
      ],
      "execution_count": null,
      "outputs": [
        {
          "output_type": "execute_result",
          "data": {
            "text/plain": [
              "0.3435620367527008"
            ]
          },
          "metadata": {},
          "execution_count": 101
        }
      ]
    },
    {
      "cell_type": "code",
      "metadata": {
        "colab": {
          "base_uri": "https://localhost:8080/"
        },
        "id": "WqF5D9Bsbn4R",
        "outputId": "0c6df073-3091-444b-d01c-d5ef5a67a1e0"
      },
      "source": [
        "y_pred_main, y_pred_aux = model.predict([X_test[:,:5][:3],X_test[:,2:][:3]])\n",
        "y_pred_main"
      ],
      "execution_count": null,
      "outputs": [
        {
          "output_type": "stream",
          "name": "stdout",
          "text": [
            "1/1 [==============================] - 0s 100ms/step\n"
          ]
        },
        {
          "output_type": "execute_result",
          "data": {
            "text/plain": [
              "array([[0.5143808],\n",
              "       [1.3759477],\n",
              "       [3.4580317]], dtype=float32)"
            ]
          },
          "metadata": {},
          "execution_count": 102
        }
      ]
    },
    {
      "cell_type": "code",
      "metadata": {
        "colab": {
          "base_uri": "https://localhost:8080/"
        },
        "id": "hfxFJWuydjq0",
        "outputId": "47611ca8-bac3-4a37-f559-9d0cafd8e04a"
      },
      "source": [
        "y_pred_aux"
      ],
      "execution_count": null,
      "outputs": [
        {
          "output_type": "execute_result",
          "data": {
            "text/plain": [
              "array([[0.6220443],\n",
              "       [1.500207 ],\n",
              "       [2.958045 ]], dtype=float32)"
            ]
          },
          "metadata": {},
          "execution_count": 103
        }
      ]
    },
    {
      "cell_type": "markdown",
      "metadata": {
        "id": "n64ITXtLhUZD"
      },
      "source": [
        "### Subclassing API"
      ]
    },
    {
      "cell_type": "code",
      "metadata": {
        "id": "de_dgb22dkHn"
      },
      "source": [
        "# class class_name(optional super_class):\n",
        "class WideAndDeepModel(keras.models.Model):\n",
        "  # constructor is __init__\n",
        "  # cannot overload, set default with =\n",
        "  def __init__(self, units=30, activation=\"relu\", **kwargs):\n",
        "    super().__init__(**kwargs)\n",
        "    self.hidden1 = keras.layers.Dense(units, activation=activation)\n",
        "    self.hidden2 = keras.layers.Dense(units, activation=activation)\n",
        "    self.main_output = keras.layers.Dense(1)\n",
        "    self.aux_output = keras.layers.Dense(1)\n",
        "    self.concat = keras.layers.Concatenate()\n",
        "    # Note that you need to create the NN architecture in the constructor\n",
        "    # (calls to keras.layers.*) because the call method is called each forward\n",
        "    # pass, so if you try to create your architecture in that method it's like\n",
        "    # trying to re-create it every forward pass -- tf doesn't like it and crashes\n",
        "    # --It's also nice to not have to save units and activation as self.* attributes\n",
        "    # and using them only in the constructor means they don't need to be stored\n",
        "\n",
        "  def call(self, inputs):  # keras uses for \"forward\" pass\n",
        "    input_A, input_B = inputs\n",
        "    hidden1 = self.hidden1(input_B)\n",
        "    hidden2 = self.hidden2(hidden1)\n",
        "    concat = self.concat([input_A, hidden2])\n",
        "    main_output = self.main_output(concat)\n",
        "    aux_output = self.aux_output(hidden2)\n",
        "    return main_output, aux_output\n",
        "\n",
        "model = WideAndDeepModel(units=30, activation=\"relu\")\n",
        "# Note that input shape(s) was not specified -- the subclassing API allows for\n",
        "# execution-time input shape(s)."
      ],
      "execution_count": null,
      "outputs": []
    },
    {
      "cell_type": "code",
      "metadata": {
        "id": "c-BLNddRhWfY",
        "colab": {
          "base_uri": "https://localhost:8080/"
        },
        "outputId": "ed5a60d0-34f7-40e5-869e-7dc741b2a04a"
      },
      "source": [
        "model.compile(loss=\"mse\", loss_weights=[0.9, 0.1],\n",
        "              optimizer=tf.keras.optimizers.SGD(lr=5e-3))"
      ],
      "execution_count": null,
      "outputs": [
        {
          "output_type": "stream",
          "name": "stderr",
          "text": [
            "WARNING:absl:`lr` is deprecated in Keras optimizer, please use `learning_rate` or use the legacy optimizer, e.g.,tf.keras.optimizers.legacy.SGD.\n"
          ]
        }
      ]
    },
    {
      "cell_type": "code",
      "metadata": {
        "colab": {
          "base_uri": "https://localhost:8080/"
        },
        "id": "LKHL-Nz5hWiR",
        "outputId": "00a404e4-45c6-4d50-8f5c-f252db58460a"
      },
      "source": [
        "history = model.fit( (X_train_tr[:,:5], X_train_tr[:,2:]), [y_train_tr, y_train_tr],\n",
        "                    epochs=20,\n",
        "                    validation_data=((X_train_v[:,:5], X_train_v[:,2:]),\n",
        "                                     [y_train_v, y_train_v]))"
      ],
      "execution_count": null,
      "outputs": [
        {
          "output_type": "stream",
          "name": "stdout",
          "text": [
            "Epoch 1/20\n",
            "465/465 [==============================] - 3s 5ms/step - loss: 0.8856 - output_1_loss: 0.7561 - output_2_loss: 2.0511 - val_loss: 0.5973 - val_output_1_loss: 0.5310 - val_output_2_loss: 1.1942\n",
            "Epoch 2/20\n",
            "465/465 [==============================] - 2s 4ms/step - loss: 0.5754 - output_1_loss: 0.5195 - output_2_loss: 1.0787 - val_loss: 0.5246 - val_output_1_loss: 0.4759 - val_output_2_loss: 0.9631\n",
            "Epoch 3/20\n",
            "465/465 [==============================] - 2s 4ms/step - loss: 0.5103 - output_1_loss: 0.4668 - output_2_loss: 0.9018 - val_loss: 0.8332 - val_output_1_loss: 0.8277 - val_output_2_loss: 0.8833\n",
            "Epoch 4/20\n",
            "465/465 [==============================] - 2s 4ms/step - loss: 0.5081 - output_1_loss: 0.4762 - output_2_loss: 0.7955 - val_loss: 0.4652 - val_output_1_loss: 0.4371 - val_output_2_loss: 0.7189\n",
            "Epoch 5/20\n",
            "465/465 [==============================] - 2s 5ms/step - loss: 0.4676 - output_1_loss: 0.4385 - output_2_loss: 0.7295 - val_loss: 0.4540 - val_output_1_loss: 0.4296 - val_output_2_loss: 0.6743\n",
            "Epoch 6/20\n",
            "465/465 [==============================] - 3s 6ms/step - loss: 0.4608 - output_1_loss: 0.4346 - output_2_loss: 0.6960 - val_loss: 0.4442 - val_output_1_loss: 0.4216 - val_output_2_loss: 0.6481\n",
            "Epoch 7/20\n",
            "465/465 [==============================] - 2s 4ms/step - loss: 0.4533 - output_1_loss: 0.4294 - output_2_loss: 0.6682 - val_loss: 0.4439 - val_output_1_loss: 0.4235 - val_output_2_loss: 0.6279\n",
            "Epoch 8/20\n",
            "465/465 [==============================] - 2s 4ms/step - loss: 0.4352 - output_1_loss: 0.4108 - output_2_loss: 0.6541 - val_loss: 0.4279 - val_output_1_loss: 0.4078 - val_output_2_loss: 0.6095\n",
            "Epoch 9/20\n",
            "465/465 [==============================] - 2s 4ms/step - loss: 0.4256 - output_1_loss: 0.4025 - output_2_loss: 0.6333 - val_loss: 0.4160 - val_output_1_loss: 0.3966 - val_output_2_loss: 0.5904\n",
            "Epoch 10/20\n",
            "465/465 [==============================] - 2s 4ms/step - loss: 0.4172 - output_1_loss: 0.3951 - output_2_loss: 0.6154 - val_loss: 0.4075 - val_output_1_loss: 0.3889 - val_output_2_loss: 0.5751\n",
            "Epoch 11/20\n",
            "465/465 [==============================] - 2s 5ms/step - loss: 0.4080 - output_1_loss: 0.3867 - output_2_loss: 0.5993 - val_loss: 0.4044 - val_output_1_loss: 0.3866 - val_output_2_loss: 0.5646\n",
            "Epoch 12/20\n",
            "465/465 [==============================] - 3s 6ms/step - loss: 0.4010 - output_1_loss: 0.3803 - output_2_loss: 0.5877 - val_loss: 0.3885 - val_output_1_loss: 0.3707 - val_output_2_loss: 0.5480\n",
            "Epoch 13/20\n",
            "465/465 [==============================] - 2s 4ms/step - loss: 0.3923 - output_1_loss: 0.3721 - output_2_loss: 0.5742 - val_loss: 0.3870 - val_output_1_loss: 0.3704 - val_output_2_loss: 0.5359\n",
            "Epoch 14/20\n",
            "465/465 [==============================] - 2s 4ms/step - loss: 0.3937 - output_1_loss: 0.3751 - output_2_loss: 0.5606 - val_loss: 0.3811 - val_output_1_loss: 0.3652 - val_output_2_loss: 0.5235\n",
            "Epoch 15/20\n",
            "465/465 [==============================] - 2s 4ms/step - loss: 0.3799 - output_1_loss: 0.3614 - output_2_loss: 0.5468 - val_loss: 0.3961 - val_output_1_loss: 0.3813 - val_output_2_loss: 0.5295\n",
            "Epoch 16/20\n",
            "465/465 [==============================] - 2s 4ms/step - loss: 0.3779 - output_1_loss: 0.3603 - output_2_loss: 0.5359 - val_loss: 0.3910 - val_output_1_loss: 0.3773 - val_output_2_loss: 0.5146\n",
            "Epoch 17/20\n",
            "465/465 [==============================] - 3s 6ms/step - loss: 0.3776 - output_1_loss: 0.3606 - output_2_loss: 0.5306 - val_loss: 0.3951 - val_output_1_loss: 0.3813 - val_output_2_loss: 0.5188\n",
            "Epoch 18/20\n",
            "465/465 [==============================] - 2s 5ms/step - loss: 0.3839 - output_1_loss: 0.3685 - output_2_loss: 0.5229 - val_loss: 0.3675 - val_output_1_loss: 0.3534 - val_output_2_loss: 0.4949\n",
            "Epoch 19/20\n",
            "465/465 [==============================] - 2s 4ms/step - loss: 0.3655 - output_1_loss: 0.3492 - output_2_loss: 0.5118 - val_loss: 0.3763 - val_output_1_loss: 0.3636 - val_output_2_loss: 0.4913\n",
            "Epoch 20/20\n",
            "465/465 [==============================] - 2s 5ms/step - loss: 0.3618 - output_1_loss: 0.3461 - output_2_loss: 0.5035 - val_loss: 0.3634 - val_output_1_loss: 0.3501 - val_output_2_loss: 0.4833\n"
          ]
        }
      ]
    },
    {
      "cell_type": "code",
      "metadata": {
        "id": "riuEmjqGhWlL",
        "colab": {
          "base_uri": "https://localhost:8080/",
          "height": 1000
        },
        "outputId": "66ad8d3e-4ae0-4135-d272-3dc86fec6cdd"
      },
      "source": [
        "# **** Re-build and re-compile then train again ****\n",
        "# Shows flexibility with input shape\n",
        "history = model.fit( (X_train_tr[:,:], X_train_tr[:,2:]), [y_train_tr, y_train_tr],\n",
        "                    epochs=20,\n",
        "                    validation_data=((X_train_v[:,:], X_train_v[:,2:]),\n",
        "                                     [y_train_v, y_train_v]))"
      ],
      "execution_count": null,
      "outputs": [
        {
          "output_type": "stream",
          "name": "stdout",
          "text": [
            "Epoch 1/20\n"
          ]
        },
        {
          "output_type": "error",
          "ename": "InvalidArgumentError",
          "evalue": "ignored",
          "traceback": [
            "\u001b[0;31m---------------------------------------------------------------------------\u001b[0m",
            "\u001b[0;31mInvalidArgumentError\u001b[0m                      Traceback (most recent call last)",
            "\u001b[0;32m<ipython-input-107-2823e93196b4>\u001b[0m in \u001b[0;36m<cell line: 3>\u001b[0;34m()\u001b[0m\n\u001b[1;32m      1\u001b[0m \u001b[0;31m# **** Re-build and re-compile then train again ****\u001b[0m\u001b[0;34m\u001b[0m\u001b[0;34m\u001b[0m\u001b[0m\n\u001b[1;32m      2\u001b[0m \u001b[0;31m# Shows flexibility with input shape\u001b[0m\u001b[0;34m\u001b[0m\u001b[0;34m\u001b[0m\u001b[0m\n\u001b[0;32m----> 3\u001b[0;31m history = model.fit( (X_train_tr[:,:], X_train_tr[:,2:]), [y_train_tr, y_train_tr],\n\u001b[0m\u001b[1;32m      4\u001b[0m                     \u001b[0mepochs\u001b[0m\u001b[0;34m=\u001b[0m\u001b[0;36m20\u001b[0m\u001b[0;34m,\u001b[0m\u001b[0;34m\u001b[0m\u001b[0;34m\u001b[0m\u001b[0m\n\u001b[1;32m      5\u001b[0m                     validation_data=((X_train_v[:,:], X_train_v[:,2:]),\n",
            "\u001b[0;32m/usr/local/lib/python3.10/dist-packages/keras/utils/traceback_utils.py\u001b[0m in \u001b[0;36merror_handler\u001b[0;34m(*args, **kwargs)\u001b[0m\n\u001b[1;32m     68\u001b[0m             \u001b[0;31m# To get the full stack trace, call:\u001b[0m\u001b[0;34m\u001b[0m\u001b[0;34m\u001b[0m\u001b[0m\n\u001b[1;32m     69\u001b[0m             \u001b[0;31m# `tf.debugging.disable_traceback_filtering()`\u001b[0m\u001b[0;34m\u001b[0m\u001b[0;34m\u001b[0m\u001b[0m\n\u001b[0;32m---> 70\u001b[0;31m             \u001b[0;32mraise\u001b[0m \u001b[0me\u001b[0m\u001b[0;34m.\u001b[0m\u001b[0mwith_traceback\u001b[0m\u001b[0;34m(\u001b[0m\u001b[0mfiltered_tb\u001b[0m\u001b[0;34m)\u001b[0m \u001b[0;32mfrom\u001b[0m \u001b[0;32mNone\u001b[0m\u001b[0;34m\u001b[0m\u001b[0;34m\u001b[0m\u001b[0m\n\u001b[0m\u001b[1;32m     71\u001b[0m         \u001b[0;32mfinally\u001b[0m\u001b[0;34m:\u001b[0m\u001b[0;34m\u001b[0m\u001b[0;34m\u001b[0m\u001b[0m\n\u001b[1;32m     72\u001b[0m             \u001b[0;32mdel\u001b[0m \u001b[0mfiltered_tb\u001b[0m\u001b[0;34m\u001b[0m\u001b[0;34m\u001b[0m\u001b[0m\n",
            "\u001b[0;32m/usr/local/lib/python3.10/dist-packages/tensorflow/python/eager/execute.py\u001b[0m in \u001b[0;36mquick_execute\u001b[0;34m(op_name, num_outputs, inputs, attrs, ctx, name)\u001b[0m\n\u001b[1;32m     50\u001b[0m   \u001b[0;32mtry\u001b[0m\u001b[0;34m:\u001b[0m\u001b[0;34m\u001b[0m\u001b[0;34m\u001b[0m\u001b[0m\n\u001b[1;32m     51\u001b[0m     \u001b[0mctx\u001b[0m\u001b[0;34m.\u001b[0m\u001b[0mensure_initialized\u001b[0m\u001b[0;34m(\u001b[0m\u001b[0;34m)\u001b[0m\u001b[0;34m\u001b[0m\u001b[0;34m\u001b[0m\u001b[0m\n\u001b[0;32m---> 52\u001b[0;31m     tensors = pywrap_tfe.TFE_Py_Execute(ctx._handle, device_name, op_name,\n\u001b[0m\u001b[1;32m     53\u001b[0m                                         inputs, attrs, num_outputs)\n\u001b[1;32m     54\u001b[0m   \u001b[0;32mexcept\u001b[0m \u001b[0mcore\u001b[0m\u001b[0;34m.\u001b[0m\u001b[0m_NotOkStatusException\u001b[0m \u001b[0;32mas\u001b[0m \u001b[0me\u001b[0m\u001b[0;34m:\u001b[0m\u001b[0;34m\u001b[0m\u001b[0;34m\u001b[0m\u001b[0m\n",
            "\u001b[0;31mInvalidArgumentError\u001b[0m: Graph execution error:\n\nDetected at node 'wide_and_deep_model/dense_6/MatMul' defined at (most recent call last):\n    File \"/usr/lib/python3.10/runpy.py\", line 196, in _run_module_as_main\n      return _run_code(code, main_globals, None,\n    File \"/usr/lib/python3.10/runpy.py\", line 86, in _run_code\n      exec(code, run_globals)\n    File \"/usr/local/lib/python3.10/dist-packages/ipykernel_launcher.py\", line 16, in <module>\n      app.launch_new_instance()\n    File \"/usr/local/lib/python3.10/dist-packages/traitlets/config/application.py\", line 992, in launch_instance\n      app.start()\n    File \"/usr/local/lib/python3.10/dist-packages/ipykernel/kernelapp.py\", line 619, in start\n      self.io_loop.start()\n    File \"/usr/local/lib/python3.10/dist-packages/tornado/platform/asyncio.py\", line 195, in start\n      self.asyncio_loop.run_forever()\n    File \"/usr/lib/python3.10/asyncio/base_events.py\", line 603, in run_forever\n      self._run_once()\n    File \"/usr/lib/python3.10/asyncio/base_events.py\", line 1909, in _run_once\n      handle._run()\n    File \"/usr/lib/python3.10/asyncio/events.py\", line 80, in _run\n      self._context.run(self._callback, *self._args)\n    File \"/usr/local/lib/python3.10/dist-packages/tornado/ioloop.py\", line 685, in <lambda>\n      lambda f: self._run_callback(functools.partial(callback, future))\n    File \"/usr/local/lib/python3.10/dist-packages/tornado/ioloop.py\", line 738, in _run_callback\n      ret = callback()\n    File \"/usr/local/lib/python3.10/dist-packages/tornado/gen.py\", line 825, in inner\n      self.ctx_run(self.run)\n    File \"/usr/local/lib/python3.10/dist-packages/tornado/gen.py\", line 786, in run\n      yielded = self.gen.send(value)\n    File \"/usr/local/lib/python3.10/dist-packages/ipykernel/kernelbase.py\", line 377, in dispatch_queue\n      yield self.process_one()\n    File \"/usr/local/lib/python3.10/dist-packages/tornado/gen.py\", line 250, in wrapper\n      runner = Runner(ctx_run, result, future, yielded)\n    File \"/usr/local/lib/python3.10/dist-packages/tornado/gen.py\", line 748, in __init__\n      self.ctx_run(self.run)\n    File \"/usr/local/lib/python3.10/dist-packages/tornado/gen.py\", line 786, in run\n      yielded = self.gen.send(value)\n    File \"/usr/local/lib/python3.10/dist-packages/ipykernel/kernelbase.py\", line 361, in process_one\n      yield gen.maybe_future(dispatch(*args))\n    File \"/usr/local/lib/python3.10/dist-packages/tornado/gen.py\", line 234, in wrapper\n      yielded = ctx_run(next, result)\n    File \"/usr/local/lib/python3.10/dist-packages/ipykernel/kernelbase.py\", line 261, in dispatch_shell\n      yield gen.maybe_future(handler(stream, idents, msg))\n    File \"/usr/local/lib/python3.10/dist-packages/tornado/gen.py\", line 234, in wrapper\n      yielded = ctx_run(next, result)\n    File \"/usr/local/lib/python3.10/dist-packages/ipykernel/kernelbase.py\", line 539, in execute_request\n      self.do_execute(\n    File \"/usr/local/lib/python3.10/dist-packages/tornado/gen.py\", line 234, in wrapper\n      yielded = ctx_run(next, result)\n    File \"/usr/local/lib/python3.10/dist-packages/ipykernel/ipkernel.py\", line 302, in do_execute\n      res = shell.run_cell(code, store_history=store_history, silent=silent)\n    File \"/usr/local/lib/python3.10/dist-packages/ipykernel/zmqshell.py\", line 539, in run_cell\n      return super(ZMQInteractiveShell, self).run_cell(*args, **kwargs)\n    File \"/usr/local/lib/python3.10/dist-packages/IPython/core/interactiveshell.py\", line 2975, in run_cell\n      result = self._run_cell(\n    File \"/usr/local/lib/python3.10/dist-packages/IPython/core/interactiveshell.py\", line 3030, in _run_cell\n      return runner(coro)\n    File \"/usr/local/lib/python3.10/dist-packages/IPython/core/async_helpers.py\", line 78, in _pseudo_sync_runner\n      coro.send(None)\n    File \"/usr/local/lib/python3.10/dist-packages/IPython/core/interactiveshell.py\", line 3257, in run_cell_async\n      has_raised = await self.run_ast_nodes(code_ast.body, cell_name,\n    File \"/usr/local/lib/python3.10/dist-packages/IPython/core/interactiveshell.py\", line 3473, in run_ast_nodes\n      if (await self.run_code(code, result,  async_=asy)):\n    File \"/usr/local/lib/python3.10/dist-packages/IPython/core/interactiveshell.py\", line 3553, in run_code\n      exec(code_obj, self.user_global_ns, self.user_ns)\n    File \"<ipython-input-107-2823e93196b4>\", line 3, in <cell line: 3>\n      history = model.fit( (X_train_tr[:,:], X_train_tr[:,2:]), [y_train_tr, y_train_tr],\n    File \"/usr/local/lib/python3.10/dist-packages/keras/utils/traceback_utils.py\", line 65, in error_handler\n      return fn(*args, **kwargs)\n    File \"/usr/local/lib/python3.10/dist-packages/keras/engine/training.py\", line 1685, in fit\n      tmp_logs = self.train_function(iterator)\n    File \"/usr/local/lib/python3.10/dist-packages/keras/engine/training.py\", line 1284, in train_function\n      return step_function(self, iterator)\n    File \"/usr/local/lib/python3.10/dist-packages/keras/engine/training.py\", line 1268, in step_function\n      outputs = model.distribute_strategy.run(run_step, args=(data,))\n    File \"/usr/local/lib/python3.10/dist-packages/keras/engine/training.py\", line 1249, in run_step\n      outputs = model.train_step(data)\n    File \"/usr/local/lib/python3.10/dist-packages/keras/engine/training.py\", line 1050, in train_step\n      y_pred = self(x, training=True)\n    File \"/usr/local/lib/python3.10/dist-packages/keras/utils/traceback_utils.py\", line 65, in error_handler\n      return fn(*args, **kwargs)\n    File \"/usr/local/lib/python3.10/dist-packages/keras/engine/training.py\", line 558, in __call__\n      return super().__call__(*args, **kwargs)\n    File \"/usr/local/lib/python3.10/dist-packages/keras/utils/traceback_utils.py\", line 65, in error_handler\n      return fn(*args, **kwargs)\n    File \"/usr/local/lib/python3.10/dist-packages/keras/engine/base_layer.py\", line 1145, in __call__\n      outputs = call_fn(inputs, *args, **kwargs)\n    File \"/usr/local/lib/python3.10/dist-packages/keras/utils/traceback_utils.py\", line 96, in error_handler\n      return fn(*args, **kwargs)\n    File \"<ipython-input-104-147264953e3b>\", line 24, in call\n      main_output = self.main_output(concat)\n    File \"/usr/local/lib/python3.10/dist-packages/keras/utils/traceback_utils.py\", line 65, in error_handler\n      return fn(*args, **kwargs)\n    File \"/usr/local/lib/python3.10/dist-packages/keras/engine/base_layer.py\", line 1145, in __call__\n      outputs = call_fn(inputs, *args, **kwargs)\n    File \"/usr/local/lib/python3.10/dist-packages/keras/utils/traceback_utils.py\", line 96, in error_handler\n      return fn(*args, **kwargs)\n    File \"/usr/local/lib/python3.10/dist-packages/keras/layers/core/dense.py\", line 241, in call\n      outputs = tf.matmul(a=inputs, b=self.kernel)\nNode: 'wide_and_deep_model/dense_6/MatMul'\nMatrix size-incompatible: In[0]: [32,38], In[1]: [35,1]\n\t [[{{node wide_and_deep_model/dense_6/MatMul}}]] [Op:__inference_train_function_487113]"
          ]
        }
      ]
    },
    {
      "cell_type": "code",
      "metadata": {
        "id": "eE6q07CCyltT"
      },
      "source": [
        "keras.utils.plot_model(model, show_shapes=True)"
      ],
      "execution_count": null,
      "outputs": []
    },
    {
      "cell_type": "markdown",
      "metadata": {
        "id": "PTLSzj_uvPG-"
      },
      "source": [
        "### Callbacks"
      ]
    },
    {
      "cell_type": "code",
      "metadata": {
        "id": "BjraGT5Y3uVh"
      },
      "source": [
        "# Change runtime to GPU!\n",
        "\n",
        "import tensorflow as tf\n",
        "from tensorflow import keras\n",
        "\n",
        "import numpy as np\n",
        "import pandas as pd\n",
        "import matplotlib.pyplot as plt\n",
        "\n",
        "np.random.seed(42)\n",
        "tf.random.set_seed(42)\n",
        "\n",
        "# Import California housing dataset\n",
        "from sklearn.datasets import fetch_california_housing\n",
        "from sklearn.model_selection import train_test_split\n",
        "\n",
        "housing = fetch_california_housing()\n",
        "\n",
        "# 1. Preprocess\n",
        "# Create training and testing and validation sets\n",
        "X_train_full, X_test, y_train_full, y_test = train_test_split(housing.data,\n",
        "                                                              housing.target,\n",
        "                                                              test_size=1/5)\n",
        "X_train_tr, X_train_v, y_train_tr, y_train_v = train_test_split(X_train_full,\n",
        "                                                                y_train_full,\n",
        "                                                                test_size=1/10)\n",
        "\n",
        "# Scale data for keras\n",
        "from sklearn.preprocessing import StandardScaler\n",
        "scaler = StandardScaler()\n",
        "X_train_tr = scaler.fit_transform(X_train_tr)\n",
        "# Remember only fit on training data, then transform validation and testing sets\n",
        "X_train_v = scaler.transform(X_train_v)\n",
        "X_test = scaler.transform(X_test)\n"
      ],
      "execution_count": null,
      "outputs": []
    },
    {
      "cell_type": "code",
      "metadata": {
        "id": "G6YsliLf3uYh"
      },
      "source": [
        "model = keras.models.Sequential([\n",
        "            keras.layers.Dense(30, activation=\"relu\", input_shape=[8]),\n",
        "            keras.layers.Dropout(rate=0.05),\n",
        "            keras.layers.Dense(30, activation=\"relu\"),\n",
        "            keras.layers.Dropout(rate=0.05),\n",
        "            keras.layers.Dense(1)\n",
        "])\n",
        "# Can simply not specify input shape, and create it flexibly on the fly\n",
        "# when building the NN"
      ],
      "execution_count": null,
      "outputs": []
    },
    {
      "cell_type": "code",
      "metadata": {
        "id": "kFzmDnnzv8As",
        "colab": {
          "base_uri": "https://localhost:8080/",
          "height": 644
        },
        "outputId": "38cbda00-8287-4d81-8722-04ebe6a76901"
      },
      "source": [
        "keras.utils.plot_model(model, show_shapes=True)"
      ],
      "execution_count": null,
      "outputs": [
        {
          "output_type": "execute_result",
          "data": {
            "image/png": "[encoded data removed]",
            "text/plain": [
              "<IPython.core.display.Image object>"
            ]
          },
          "metadata": {},
          "execution_count": 110
        }
      ]
    },
    {
      "cell_type": "code",
      "metadata": {
        "id": "kf5HjovMv8Dj",
        "colab": {
          "base_uri": "https://localhost:8080/"
        },
        "outputId": "3558b13d-2985-4537-cdae-e00f1d7cf073"
      },
      "source": [
        "model.compile(loss=\"mse\", optimizer=keras.optimizers.SGD(lr=5e-3))"
      ],
      "execution_count": null,
      "outputs": [
        {
          "output_type": "stream",
          "name": "stderr",
          "text": [
            "WARNING:absl:`lr` is deprecated in Keras optimizer, please use `learning_rate` or use the legacy optimizer, e.g.,tf.keras.optimizers.legacy.SGD.\n"
          ]
        }
      ]
    },
    {
      "cell_type": "code",
      "metadata": {
        "id": "n4HmTnf5v8Gi",
        "colab": {
          "base_uri": "https://localhost:8080/"
        },
        "outputId": "ce66b10c-3cc9-4967-e8b4-19301733a081"
      },
      "source": [
        "# Demonstrate checkpoints\n",
        "# https://keras.io/api/callbacks/model_checkpoint/\n",
        "checkpoint_cb = keras.callbacks.ModelCheckpoint(\"temp_model.tf\",\n",
        "                                                save_best_only=True)\n",
        "history = model.fit(X_train_tr, y_train_tr, epochs=10,\n",
        "                    validation_data=(X_train_v, y_train_v),\n",
        "                    callbacks=[checkpoint_cb])"
      ],
      "execution_count": null,
      "outputs": [
        {
          "output_type": "stream",
          "name": "stdout",
          "text": [
            "Epoch 1/10\n",
            "465/465 [==============================] - 3s 5ms/step - loss: 0.7373 - val_loss: 0.4933\n",
            "Epoch 2/10\n",
            "465/465 [==============================] - 2s 5ms/step - loss: 0.5157 - val_loss: 0.4508\n",
            "Epoch 3/10\n",
            "465/465 [==============================] - 2s 5ms/step - loss: 0.4747 - val_loss: 0.4319\n",
            "Epoch 4/10\n",
            "465/465 [==============================] - 3s 6ms/step - loss: 0.4610 - val_loss: 0.4163\n",
            "Epoch 5/10\n",
            "465/465 [==============================] - 2s 5ms/step - loss: 0.4459 - val_loss: 0.4064\n",
            "Epoch 6/10\n",
            "465/465 [==============================] - 3s 6ms/step - loss: 0.4380 - val_loss: 0.4017\n",
            "Epoch 7/10\n",
            "465/465 [==============================] - 2s 3ms/step - loss: 0.4318 - val_loss: 0.4114\n",
            "Epoch 8/10\n",
            "465/465 [==============================] - 2s 5ms/step - loss: 0.4235 - val_loss: 0.3987\n",
            "Epoch 9/10\n",
            "465/465 [==============================] - 3s 6ms/step - loss: 0.4136 - val_loss: 0.3874\n",
            "Epoch 10/10\n",
            "465/465 [==============================] - 2s 4ms/step - loss: 0.4116 - val_loss: 0.3925\n"
          ]
        }
      ]
    },
    {
      "cell_type": "code",
      "metadata": {
        "id": "IZ2ghKEezDr2",
        "colab": {
          "base_uri": "https://localhost:8080/"
        },
        "outputId": "94b8b50c-bdc8-4a77-9ab8-5c1565882f0b"
      },
      "source": [
        "model = keras.models.load_model(\"temp_model.tf\") # rollback to best model\n",
        "mse_test = model.evaluate(X_test, y_test)"
      ],
      "execution_count": null,
      "outputs": [
        {
          "output_type": "stream",
          "name": "stdout",
          "text": [
            "129/129 [==============================] - 0s 2ms/step - loss: 0.3824\n"
          ]
        }
      ]
    },
    {
      "cell_type": "code",
      "metadata": {
        "id": "XaRy7mCYzDu9",
        "colab": {
          "base_uri": "https://localhost:8080/"
        },
        "outputId": "1277b868-128a-449b-f42d-483bf859433f"
      },
      "source": [
        "# Early Stopping\n",
        "# https://keras.io/api/callbacks/early_stopping/\n",
        "early_stopping_cb = keras.callbacks.EarlyStopping(patience=5,\n",
        "                                                  restore_best_weights=True,\n",
        "                                                  verbose=1)\n",
        "history = model.fit(X_train_tr, y_train_tr, epochs=200,\n",
        "                    validation_data=(X_train_v, y_train_v),\n",
        "                    callbacks=[checkpoint_cb, early_stopping_cb])"
      ],
      "execution_count": null,
      "outputs": [
        {
          "output_type": "stream",
          "name": "stdout",
          "text": [
            "Epoch 1/200\n",
            "465/465 [==============================] - 3s 5ms/step - loss: 0.4080 - val_loss: 0.3803\n",
            "Epoch 2/200\n",
            "465/465 [==============================] - 2s 5ms/step - loss: 0.4002 - val_loss: 0.3767\n",
            "Epoch 3/200\n",
            "465/465 [==============================] - 2s 5ms/step - loss: 0.3966 - val_loss: 0.3723\n",
            "Epoch 4/200\n",
            "465/465 [==============================] - 4s 9ms/step - loss: 0.3934 - val_loss: 0.3661\n",
            "Epoch 5/200\n",
            "465/465 [==============================] - 2s 5ms/step - loss: 0.3875 - val_loss: 0.3625\n",
            "Epoch 6/200\n",
            "465/465 [==============================] - 2s 5ms/step - loss: 0.3848 - val_loss: 0.3597\n",
            "Epoch 7/200\n",
            "465/465 [==============================] - 2s 3ms/step - loss: 0.3842 - val_loss: 0.3757\n",
            "Epoch 8/200\n",
            "465/465 [==============================] - 2s 4ms/step - loss: 0.3795 - val_loss: 0.3611\n",
            "Epoch 9/200\n",
            "465/465 [==============================] - 3s 7ms/step - loss: 0.3731 - val_loss: 0.3589\n",
            "Epoch 10/200\n",
            "465/465 [==============================] - 2s 4ms/step - loss: 0.3739 - val_loss: 0.3647\n",
            "Epoch 11/200\n",
            "465/465 [==============================] - 2s 5ms/step - loss: 0.3681 - val_loss: 0.3566\n",
            "Epoch 12/200\n",
            "465/465 [==============================] - 2s 5ms/step - loss: 0.3688 - val_loss: 0.3431\n",
            "Epoch 13/200\n",
            "465/465 [==============================] - 2s 3ms/step - loss: 0.3647 - val_loss: 0.3450\n",
            "Epoch 14/200\n",
            "465/465 [==============================] - 2s 5ms/step - loss: 0.3620 - val_loss: 0.3399\n",
            "Epoch 15/200\n",
            "465/465 [==============================] - 2s 4ms/step - loss: 0.3545 - val_loss: 0.3509\n",
            "Epoch 16/200\n",
            "465/465 [==============================] - 2s 5ms/step - loss: 0.3572 - val_loss: 0.3388\n",
            "Epoch 17/200\n",
            "465/465 [==============================] - 2s 3ms/step - loss: 0.3629 - val_loss: 0.3518\n",
            "Epoch 18/200\n",
            "465/465 [==============================] - 2s 5ms/step - loss: 0.3571 - val_loss: 0.3361\n",
            "Epoch 19/200\n",
            "465/465 [==============================] - 2s 3ms/step - loss: 0.3515 - val_loss: 0.3456\n",
            "Epoch 20/200\n",
            "465/465 [==============================] - 2s 3ms/step - loss: 0.3494 - val_loss: 0.3524\n",
            "Epoch 21/200\n",
            "465/465 [==============================] - 3s 6ms/step - loss: 0.3410 - val_loss: 0.3351\n",
            "Epoch 22/200\n",
            "465/465 [==============================] - 3s 6ms/step - loss: 0.3468 - val_loss: 0.3277\n",
            "Epoch 23/200\n",
            "465/465 [==============================] - 2s 3ms/step - loss: 0.3390 - val_loss: 0.3291\n",
            "Epoch 24/200\n",
            "465/465 [==============================] - 2s 3ms/step - loss: 0.3437 - val_loss: 0.3329\n",
            "Epoch 25/200\n",
            "465/465 [==============================] - 2s 5ms/step - loss: 0.3424 - val_loss: 0.3202\n",
            "Epoch 26/200\n",
            "465/465 [==============================] - 2s 3ms/step - loss: 0.3374 - val_loss: 0.3315\n",
            "Epoch 27/200\n",
            "465/465 [==============================] - 2s 4ms/step - loss: 0.3370 - val_loss: 0.3310\n",
            "Epoch 28/200\n",
            "465/465 [==============================] - 2s 5ms/step - loss: 0.3371 - val_loss: 0.3357\n",
            "Epoch 29/200\n",
            "465/465 [==============================] - 2s 3ms/step - loss: 0.3358 - val_loss: 0.3240\n",
            "Epoch 30/200\n",
            "465/465 [==============================] - 2s 5ms/step - loss: 0.3331 - val_loss: 0.3155\n",
            "Epoch 31/200\n",
            "465/465 [==============================] - 2s 3ms/step - loss: 0.3320 - val_loss: 0.3196\n",
            "Epoch 32/200\n",
            "465/465 [==============================] - 2s 3ms/step - loss: 0.3316 - val_loss: 0.3187\n",
            "Epoch 33/200\n",
            "465/465 [==============================] - 2s 3ms/step - loss: 0.3295 - val_loss: 0.3307\n",
            "Epoch 34/200\n",
            "465/465 [==============================] - 3s 6ms/step - loss: 0.3276 - val_loss: 0.3130\n",
            "Epoch 35/200\n",
            "465/465 [==============================] - 2s 4ms/step - loss: 0.3284 - val_loss: 0.3204\n",
            "Epoch 36/200\n",
            "465/465 [==============================] - 2s 3ms/step - loss: 0.3271 - val_loss: 0.3142\n",
            "Epoch 37/200\n",
            "465/465 [==============================] - 2s 3ms/step - loss: 0.3270 - val_loss: 0.3327\n",
            "Epoch 38/200\n",
            "465/465 [==============================] - 2s 3ms/step - loss: 0.3290 - val_loss: 0.3220\n",
            "Epoch 39/200\n",
            "465/465 [==============================] - 3s 6ms/step - loss: 0.3239 - val_loss: 0.3102\n",
            "Epoch 40/200\n",
            "465/465 [==============================] - 2s 4ms/step - loss: 0.3237 - val_loss: 0.3151\n",
            "Epoch 41/200\n",
            "465/465 [==============================] - 2s 5ms/step - loss: 0.3229 - val_loss: 0.3118\n",
            "Epoch 42/200\n",
            "465/465 [==============================] - 2s 4ms/step - loss: 0.3187 - val_loss: 0.3115\n",
            "Epoch 43/200\n",
            "465/465 [==============================] - 2s 4ms/step - loss: 0.3234 - val_loss: 0.3146\n",
            "Epoch 44/200\n",
            "465/465 [==============================] - 2s 5ms/step - loss: 0.3223 - val_loss: 0.3048\n",
            "Epoch 45/200\n",
            "465/465 [==============================] - 2s 3ms/step - loss: 0.3204 - val_loss: 0.3145\n",
            "Epoch 46/200\n",
            "465/465 [==============================] - 2s 4ms/step - loss: 0.3212 - val_loss: 0.3054\n",
            "Epoch 47/200\n",
            "465/465 [==============================] - 2s 3ms/step - loss: 0.3223 - val_loss: 0.3123\n",
            "Epoch 48/200\n",
            "465/465 [==============================] - 2s 5ms/step - loss: 0.3167 - val_loss: 0.3226\n",
            "Epoch 49/200\n",
            "450/465 [============================>.] - ETA: 0s - loss: 0.3174Restoring model weights from the end of the best epoch: 44.\n",
            "465/465 [==============================] - 2s 3ms/step - loss: 0.3186 - val_loss: 0.3494\n",
            "Epoch 49: early stopping\n"
          ]
        }
      ]
    },
    {
      "cell_type": "code",
      "metadata": {
        "id": "AwaTQxHQ0bA6",
        "colab": {
          "base_uri": "https://localhost:8080/"
        },
        "outputId": "c5d5819d-b3cd-4b15-a4b0-8859a110cdbc"
      },
      "source": [
        "mse_test = model.evaluate(X_test, y_test)"
      ],
      "execution_count": null,
      "outputs": [
        {
          "output_type": "stream",
          "name": "stdout",
          "text": [
            "129/129 [==============================] - 0s 3ms/step - loss: 0.3028\n"
          ]
        }
      ]
    },
    {
      "cell_type": "code",
      "metadata": {
        "id": "Gqn2nan8zDyu",
        "colab": {
          "base_uri": "https://localhost:8080/",
          "height": 143
        },
        "outputId": "6dab693c-7bb6-4362-b3e8-73bdf733df11"
      },
      "source": [
        "# Create your own callback\n",
        "# https://keras.io/guides/writing_your_own_callbacks/\n",
        "class PrintLossRatio(keras.callbacks.Callback):\n",
        "  (def on_epoch_endself, epoch, logs):\n",
        "    print(f'   Val/train loss ratio: {logs[\"val_loss\"]/logs[\"loss\"]}')\n",
        "\n",
        "loss_ratio_cb = PrintLossRatio()\n",
        "history = model.fit(X_train_tr, y_train_tr, epochs=20,\n",
        "                    validation_data=(X_train_v, y_train_v),\n",
        "                    callbacks=[loss_ratio_cb])"
      ],
      "execution_count": null,
      "outputs": [
        {
          "output_type": "error",
          "ename": "SyntaxError",
          "evalue": "ignored",
          "traceback": [
            "\u001b[0;36m  File \u001b[0;32m\"<ipython-input-117-ea24e5f5ff59>\"\u001b[0;36m, line \u001b[0;32m4\u001b[0m\n\u001b[0;31m    (def on_epoch_end, self, epoch, logs):\u001b[0m\n\u001b[0m     ^\u001b[0m\n\u001b[0;31mSyntaxError\u001b[0m\u001b[0;31m:\u001b[0m invalid syntax\n"
          ]
        }
      ]
    },
    {
      "cell_type": "code",
      "metadata": {
        "id": "nsv2XKvG1y8w"
      },
      "source": [],
      "execution_count": null,
      "outputs": []
    },
    {
      "cell_type": "markdown",
      "metadata": {
        "id": "ND_ZSgEUZWjs"
      },
      "source": [
        "### Hyperparameter tuning"
      ]
    },
    {
      "cell_type": "markdown",
      "source": [
        "There are many ways to do this: </br>\n",
        "1. Use a keras wrapper for sklearn and utilize sklearn tools (ie GridSearchCV etc) </br>\n",
        "2. Use the [Keras Tuner](https://keras.io/keras_tuner/) (First stable release Nov 2021) </br>\n",
        "3. Subclass sklearn models with custom fit functions for NNs (way more complicated)\n",
        "\n",
        "First let's use the keras wrapper and sklearn tools."
      ],
      "metadata": {
        "id": "W4MPUtteOWWN"
      }
    },
    {
      "cell_type": "code",
      "metadata": {
        "id": "TUO-5Sl4v8L4"
      },
      "source": [
        "# Change runtime to GPU!\n",
        "\n",
        "import tensorflow as tf\n",
        "from tensorflow import keras\n",
        "\n",
        "import numpy as np\n",
        "import pandas as pd\n",
        "import matplotlib.pyplot as plt\n",
        "\n",
        "np.random.seed(42)\n",
        "tf.random.set_seed(42)\n",
        "\n",
        "# Import California housing dataset\n",
        "from sklearn.datasets import fetch_california_housing\n",
        "from sklearn.model_selection import train_test_split\n",
        "\n",
        "housing = fetch_california_housing()\n",
        "\n",
        "# 1. Preprocess\n",
        "# Create training and testing and validation sets\n",
        "X_train_full, X_test, y_train_full, y_test = train_test_split(housing.data,\n",
        "                                                              housing.target,\n",
        "                                                              test_size=1/5)\n",
        "X_train_tr, X_train_v, y_train_tr, y_train_v = train_test_split(X_train_full,\n",
        "                                                                y_train_full,\n",
        "                                                                test_size=1/10)\n",
        "\n",
        "# Scale data for keras\n",
        "from sklearn.preprocessing import StandardScaler\n",
        "scaler = StandardScaler()\n",
        "X_train_tr = scaler.fit_transform(X_train_tr)\n",
        "# Remember only fit on training data, then transform validation and testing sets\n",
        "X_train_v = scaler.transform(X_train_v)\n",
        "X_test = scaler.transform(X_test)\n"
      ],
      "execution_count": null,
      "outputs": []
    },
    {
      "cell_type": "code",
      "metadata": {
        "id": "J9pi9TgkZXed"
      },
      "source": [
        "# Create a function that will build and compile model with user parameters\n",
        "def build_model(n_hidden=1, n_neurons=30, learning_rate=5e-3, input_shape=[8]):\n",
        "  model = keras.models.Sequential()\n",
        "  model.add(keras.layers.InputLayer(input_shape=input_shape))\n",
        "  for layer in range(n_hidden):\n",
        "    model.add(keras.layers.Dense(n_neurons, activation=\"relu\"))\n",
        "  model.add(keras.layers.Dense(1))\n",
        "  model.compile(loss=\"mse\", optimizer=keras.optimizers.SGD(lr=learning_rate))\n",
        "  return model"
      ],
      "execution_count": null,
      "outputs": []
    },
    {
      "cell_type": "code",
      "metadata": {
        "id": "nL8lxI_4ZyqT",
        "colab": {
          "base_uri": "https://localhost:8080/"
        },
        "outputId": "d6173c72-9aa7-4b63-8e98-0d361805db7f"
      },
      "source": [
        "# Goal here is to create something that sklearn can use in its\n",
        "# GridSearchCV and RandomizedSearchCV\n",
        "# GridSearchCV -- tries all different possible parameters\n",
        "# RandomizedSearchCV -- tries a subset and optimizes\n",
        "\n",
        "# sklearn doesn't know how to deal with a TensorFlow model\n",
        "# Two solutions -- one is to create a custom class in sklearn\n",
        "#    ie derive from BaseEstimator and write methods fit() etc (complicated)\n",
        "# -- other solution is to use a keras wrapper\n",
        "\n",
        "keras_reg = keras.wrappers.scikit_learn.KerasRegressor(build_model)"
      ],
      "execution_count": null,
      "outputs": [
        {
          "output_type": "stream",
          "name": "stderr",
          "text": [
            "<ipython-input-120-65ee444e7c18>:11: DeprecationWarning: KerasRegressor is deprecated, use Sci-Keras (https://github.com/adriangb/scikeras) instead. See https://www.adriangb.com/scikeras/stable/migration.html for help migrating.\n",
            "  keras_reg = keras.wrappers.scikit_learn.KerasRegressor(build_model)\n"
          ]
        }
      ]
    },
    {
      "cell_type": "code",
      "metadata": {
        "id": "jdXNortLZyv5",
        "colab": {
          "base_uri": "https://localhost:8080/"
        },
        "outputId": "c6da7779-7184-440d-a309-0376a0452319"
      },
      "source": [
        "keras_reg.fit(X_train_tr, y_train_tr, epochs=100,\n",
        "              validation_data=(X_train_v, y_train_v),\n",
        "              callbacks=[keras.callbacks.EarlyStopping(patience=5)])"
      ],
      "execution_count": null,
      "outputs": [
        {
          "output_type": "stream",
          "name": "stderr",
          "text": [
            "WARNING:absl:`lr` is deprecated in Keras optimizer, please use `learning_rate` or use the legacy optimizer, e.g.,tf.keras.optimizers.legacy.SGD.\n"
          ]
        },
        {
          "output_type": "stream",
          "name": "stdout",
          "text": [
            "Epoch 1/100\n",
            "465/465 [==============================] - 7s 8ms/step - loss: 0.7134 - val_loss: 0.4957\n",
            "Epoch 2/100\n",
            "465/465 [==============================] - 3s 7ms/step - loss: 0.5024 - val_loss: 0.4646\n",
            "Epoch 3/100\n",
            "465/465 [==============================] - 3s 6ms/step - loss: 0.4650 - val_loss: 0.5372\n",
            "Epoch 4/100\n",
            "465/465 [==============================] - 3s 7ms/step - loss: 0.4449 - val_loss: 0.4330\n",
            "Epoch 5/100\n",
            "465/465 [==============================] - 2s 3ms/step - loss: 0.4219 - val_loss: 0.4286\n",
            "Epoch 6/100\n",
            "465/465 [==============================] - 1s 3ms/step - loss: 0.4147 - val_loss: 0.4184\n",
            "Epoch 7/100\n",
            "465/465 [==============================] - 1s 3ms/step - loss: 0.4120 - val_loss: 0.4214\n",
            "Epoch 8/100\n",
            "465/465 [==============================] - 2s 3ms/step - loss: 0.4009 - val_loss: 0.4134\n",
            "Epoch 9/100\n",
            "465/465 [==============================] - 2s 3ms/step - loss: 0.3960 - val_loss: 0.4055\n",
            "Epoch 10/100\n",
            "465/465 [==============================] - 1s 3ms/step - loss: 0.4018 - val_loss: 0.4219\n",
            "Epoch 11/100\n",
            "465/465 [==============================] - 1s 3ms/step - loss: 0.3873 - val_loss: 0.4053\n",
            "Epoch 12/100\n",
            "465/465 [==============================] - 2s 4ms/step - loss: 0.3833 - val_loss: 0.3891\n",
            "Epoch 13/100\n",
            "465/465 [==============================] - 2s 4ms/step - loss: 0.3786 - val_loss: 0.3912\n",
            "Epoch 14/100\n",
            "465/465 [==============================] - 2s 3ms/step - loss: 0.3897 - val_loss: 0.3957\n",
            "Epoch 15/100\n",
            "465/465 [==============================] - 1s 3ms/step - loss: 0.3755 - val_loss: 0.3977\n",
            "Epoch 16/100\n",
            "465/465 [==============================] - 1s 3ms/step - loss: 0.3698 - val_loss: 0.3924\n",
            "Epoch 17/100\n",
            "465/465 [==============================] - 1s 3ms/step - loss: 0.3750 - val_loss: 0.3935\n"
          ]
        },
        {
          "output_type": "execute_result",
          "data": {
            "text/plain": [
              "<keras.callbacks.History at 0x7a4aa0397940>"
            ]
          },
          "metadata": {},
          "execution_count": 121
        }
      ]
    },
    {
      "cell_type": "code",
      "metadata": {
        "id": "fmi9AgEJZXot"
      },
      "source": [
        "from sklearn.model_selection import RandomizedSearchCV\n",
        "param_distribs = {\n",
        "    \"n_hidden\" : [1, 2, 3, 4],\n",
        "    \"n_neurons\" : np.arange(5, 101, 5),\n",
        "    \"learning_rate\" : [1e-4, 3e-4, 1e-3, 3e-3, 1e-2, 3e-2]\n",
        "}\n",
        "# 480 different parameter combinations -- GridSearchCV would try all of them"
      ],
      "execution_count": null,
      "outputs": []
    },
    {
      "cell_type": "code",
      "metadata": {
        "id": "XnvejAF9c5-X",
        "colab": {
          "base_uri": "https://localhost:8080/"
        },
        "outputId": "a83290b7-6023-4306-84f5-3f3817786ded"
      },
      "source": [
        "np.arange(5,100,5)"
      ],
      "execution_count": null,
      "outputs": [
        {
          "output_type": "execute_result",
          "data": {
            "text/plain": [
              "array([ 5, 10, 15, 20, 25, 30, 35, 40, 45, 50, 55, 60, 65, 70, 75, 80, 85,\n",
              "       90, 95])"
            ]
          },
          "metadata": {},
          "execution_count": 123
        }
      ]
    },
    {
      "cell_type": "code",
      "metadata": {
        "id": "E6YvGALVc6BH",
        "colab": {
          "base_uri": "https://localhost:8080/",
          "height": 1000
        },
        "outputId": "ca0ed663-9093-4703-9369-6553838b121f"
      },
      "source": [
        "rnd_search_cv = RandomizedSearchCV(keras_reg, param_distribs, n_iter=10,\n",
        "                                   cv=2, verbose=2)\n",
        "rnd_search_cv.fit(X_train_tr, y_train_tr, epochs=50,\n",
        "                  validation_data=(X_train_v, y_train_v),\n",
        "                  callbacks=[keras.callbacks.EarlyStopping(patience=5)])"
      ],
      "execution_count": null,
      "outputs": [
        {
          "output_type": "stream",
          "name": "stdout",
          "text": [
            "Fitting 2 folds for each of 10 candidates, totalling 20 fits\n"
          ]
        },
        {
          "output_type": "stream",
          "name": "stderr",
          "text": [
            "WARNING:absl:`lr` is deprecated in Keras optimizer, please use `learning_rate` or use the legacy optimizer, e.g.,tf.keras.optimizers.legacy.SGD.\n"
          ]
        },
        {
          "output_type": "stream",
          "name": "stdout",
          "text": [
            "Epoch 1/50\n",
            "233/233 [==============================] - 2s 5ms/step - loss: 0.8844 - val_loss: 0.5508\n",
            "Epoch 2/50\n",
            "233/233 [==============================] - 1s 4ms/step - loss: 0.5035 - val_loss: 0.4551\n",
            "Epoch 3/50\n",
            "233/233 [==============================] - 1s 4ms/step - loss: 0.4374 - val_loss: 0.4410\n",
            "Epoch 4/50\n",
            "233/233 [==============================] - 1s 4ms/step - loss: 0.4132 - val_loss: 0.4176\n",
            "Epoch 5/50\n",
            "233/233 [==============================] - 1s 4ms/step - loss: 0.3950 - val_loss: 0.4875\n",
            "Epoch 6/50\n",
            "233/233 [==============================] - 1s 4ms/step - loss: 0.3859 - val_loss: 0.3961\n",
            "Epoch 7/50\n",
            "233/233 [==============================] - 1s 6ms/step - loss: 0.3761 - val_loss: 0.3982\n",
            "Epoch 8/50\n",
            "233/233 [==============================] - 1s 5ms/step - loss: 0.3703 - val_loss: 0.3849\n",
            "Epoch 9/50\n",
            "233/233 [==============================] - 1s 4ms/step - loss: 0.3591 - val_loss: 0.3913\n",
            "Epoch 10/50\n",
            "233/233 [==============================] - 1s 4ms/step - loss: 0.3575 - val_loss: 0.3750\n",
            "Epoch 11/50\n",
            "233/233 [==============================] - 1s 4ms/step - loss: 0.3496 - val_loss: 0.4566\n",
            "Epoch 12/50\n",
            "233/233 [==============================] - 1s 4ms/step - loss: 0.3467 - val_loss: 0.3798\n",
            "Epoch 13/50\n",
            "233/233 [==============================] - 1s 4ms/step - loss: 0.3408 - val_loss: 0.5574\n",
            "Epoch 14/50\n",
            "233/233 [==============================] - 1s 4ms/step - loss: 0.3368 - val_loss: 0.4090\n",
            "Epoch 15/50\n",
            "233/233 [==============================] - 1s 4ms/step - loss: 0.3307 - val_loss: 0.4227\n",
            "233/233 [==============================] - 1s 2ms/step - loss: 0.4404\n",
            "[CV] END .....learning_rate=0.0001, n_hidden=4, n_neurons=85; total time=  29.3s\n"
          ]
        },
        {
          "output_type": "stream",
          "name": "stderr",
          "text": [
            "WARNING:absl:`lr` is deprecated in Keras optimizer, please use `learning_rate` or use the legacy optimizer, e.g.,tf.keras.optimizers.legacy.SGD.\n"
          ]
        },
        {
          "output_type": "stream",
          "name": "stdout",
          "text": [
            "Epoch 1/50\n",
            "233/233 [==============================] - 2s 4ms/step - loss: 0.8997 - val_loss: 0.5036\n",
            "Epoch 2/50\n",
            "233/233 [==============================] - 1s 4ms/step - loss: 0.4818 - val_loss: 0.4451\n",
            "Epoch 3/50\n",
            "233/233 [==============================] - 1s 4ms/step - loss: 0.4300 - val_loss: 0.4267\n",
            "Epoch 4/50\n",
            "233/233 [==============================] - 1s 4ms/step - loss: 0.4080 - val_loss: 0.4297\n",
            "Epoch 5/50\n",
            "233/233 [==============================] - 1s 4ms/step - loss: 0.3936 - val_loss: 0.4117\n",
            "Epoch 6/50\n",
            "233/233 [==============================] - 1s 4ms/step - loss: 0.3799 - val_loss: 0.4189\n",
            "Epoch 7/50\n",
            "233/233 [==============================] - 1s 4ms/step - loss: 0.3712 - val_loss: 0.3988\n",
            "Epoch 8/50\n",
            "233/233 [==============================] - 1s 4ms/step - loss: 0.3657 - val_loss: 0.4584\n",
            "Epoch 9/50\n",
            "233/233 [==============================] - 1s 4ms/step - loss: 0.3574 - val_loss: 0.3840\n",
            "Epoch 10/50\n",
            "233/233 [==============================] - 1s 5ms/step - loss: 0.3525 - val_loss: 0.4288\n",
            "Epoch 11/50\n",
            "233/233 [==============================] - 1s 5ms/step - loss: 0.3463 - val_loss: 0.3931\n",
            "Epoch 12/50\n",
            "233/233 [==============================] - 1s 4ms/step - loss: 0.3464 - val_loss: 0.3683\n",
            "Epoch 13/50\n",
            "233/233 [==============================] - 1s 4ms/step - loss: 0.3385 - val_loss: 0.5176\n",
            "Epoch 14/50\n",
            "233/233 [==============================] - 1s 4ms/step - loss: 0.3333 - val_loss: 0.3632\n",
            "Epoch 15/50\n",
            "233/233 [==============================] - 1s 4ms/step - loss: 0.3291 - val_loss: 0.3691\n",
            "Epoch 16/50\n",
            "233/233 [==============================] - 1s 4ms/step - loss: 0.3238 - val_loss: 0.3892\n",
            "Epoch 17/50\n",
            "233/233 [==============================] - 1s 4ms/step - loss: 0.3220 - val_loss: 0.3445\n",
            "Epoch 18/50\n",
            "233/233 [==============================] - 1s 4ms/step - loss: 0.3212 - val_loss: 0.3705\n",
            "Epoch 19/50\n",
            "233/233 [==============================] - 1s 4ms/step - loss: 0.3167 - val_loss: 0.4543\n",
            "Epoch 20/50\n",
            "233/233 [==============================] - 1s 4ms/step - loss: 0.3116 - val_loss: 0.3774\n",
            "Epoch 21/50\n",
            "233/233 [==============================] - 1s 4ms/step - loss: 0.3097 - val_loss: 0.3465\n",
            "Epoch 22/50\n",
            "233/233 [==============================] - 1s 4ms/step - loss: 0.3092 - val_loss: 0.4136\n",
            "233/233 [==============================] - 1s 2ms/step - loss: 0.4018\n",
            "[CV] END .....learning_rate=0.0001, n_hidden=4, n_neurons=85; total time=  42.1s\n"
          ]
        },
        {
          "output_type": "stream",
          "name": "stderr",
          "text": [
            "WARNING:absl:`lr` is deprecated in Keras optimizer, please use `learning_rate` or use the legacy optimizer, e.g.,tf.keras.optimizers.legacy.SGD.\n"
          ]
        },
        {
          "output_type": "stream",
          "name": "stdout",
          "text": [
            "Epoch 1/50\n",
            "233/233 [==============================] - 2s 4ms/step - loss: 0.9798 - val_loss: 0.5750\n",
            "Epoch 2/50\n",
            "233/233 [==============================] - 1s 3ms/step - loss: 0.5373 - val_loss: 0.4822\n",
            "Epoch 3/50\n",
            "233/233 [==============================] - 1s 4ms/step - loss: 0.4639 - val_loss: 0.4499\n",
            "Epoch 4/50\n",
            "233/233 [==============================] - 1s 5ms/step - loss: 0.4370 - val_loss: 0.4272\n",
            "Epoch 5/50\n",
            "233/233 [==============================] - 1s 4ms/step - loss: 0.4203 - val_loss: 0.4327\n",
            "Epoch 6/50\n",
            "233/233 [==============================] - 1s 3ms/step - loss: 0.4097 - val_loss: 0.4054\n",
            "Epoch 7/50\n",
            "233/233 [==============================] - 1s 3ms/step - loss: 0.4020 - val_loss: 0.3982\n",
            "Epoch 8/50\n",
            "233/233 [==============================] - 1s 4ms/step - loss: 0.3942 - val_loss: 0.3949\n",
            "Epoch 9/50\n",
            "233/233 [==============================] - 1s 4ms/step - loss: 0.3867 - val_loss: 0.3971\n",
            "Epoch 10/50\n",
            "233/233 [==============================] - 1s 3ms/step - loss: 0.3830 - val_loss: 0.3902\n",
            "Epoch 11/50\n",
            "233/233 [==============================] - 1s 3ms/step - loss: 0.3780 - val_loss: 0.4134\n",
            "Epoch 12/50\n",
            "233/233 [==============================] - 1s 3ms/step - loss: 0.3727 - val_loss: 0.3802\n",
            "Epoch 13/50\n",
            "233/233 [==============================] - 1s 4ms/step - loss: 0.3676 - val_loss: 0.4026\n",
            "Epoch 14/50\n",
            "233/233 [==============================] - 1s 4ms/step - loss: 0.3640 - val_loss: 0.3821\n",
            "Epoch 15/50\n",
            "233/233 [==============================] - 1s 4ms/step - loss: 0.3584 - val_loss: 0.4020\n",
            "Epoch 16/50\n",
            "233/233 [==============================] - 1s 4ms/step - loss: 0.3556 - val_loss: 0.3903\n",
            "Epoch 17/50\n",
            "233/233 [==============================] - 1s 4ms/step - loss: 0.3519 - val_loss: 0.3670\n",
            "Epoch 18/50\n",
            "233/233 [==============================] - 1s 5ms/step - loss: 0.3477 - val_loss: 0.3703\n",
            "Epoch 19/50\n",
            "233/233 [==============================] - 1s 4ms/step - loss: 0.3463 - val_loss: 0.3577\n",
            "Epoch 20/50\n",
            "233/233 [==============================] - 1s 3ms/step - loss: 0.3428 - val_loss: 0.3620\n",
            "Epoch 21/50\n",
            "233/233 [==============================] - 1s 3ms/step - loss: 0.3393 - val_loss: 0.3833\n",
            "Epoch 22/50\n",
            "233/233 [==============================] - 1s 3ms/step - loss: 0.3365 - val_loss: 0.3896\n",
            "Epoch 23/50\n",
            "233/233 [==============================] - 1s 3ms/step - loss: 0.3325 - val_loss: 0.3626\n",
            "Epoch 24/50\n",
            "233/233 [==============================] - 1s 4ms/step - loss: 0.3315 - val_loss: 0.3489\n",
            "Epoch 25/50\n",
            "233/233 [==============================] - 1s 3ms/step - loss: 0.3278 - val_loss: 0.3935\n",
            "Epoch 26/50\n",
            "233/233 [==============================] - 1s 3ms/step - loss: 0.3268 - val_loss: 0.3663\n",
            "Epoch 27/50\n",
            "233/233 [==============================] - 1s 4ms/step - loss: 0.3263 - val_loss: 0.3378\n",
            "Epoch 28/50\n",
            "233/233 [==============================] - 1s 3ms/step - loss: 0.3236 - val_loss: 0.3475\n",
            "Epoch 29/50\n",
            "233/233 [==============================] - 1s 3ms/step - loss: 0.3208 - val_loss: 0.3420\n",
            "Epoch 30/50\n",
            "233/233 [==============================] - 1s 4ms/step - loss: 0.3197 - val_loss: 0.3548\n",
            "Epoch 31/50\n",
            "233/233 [==============================] - 1s 3ms/step - loss: 0.3162 - val_loss: 0.4765\n",
            "Epoch 32/50\n",
            "233/233 [==============================] - 1s 4ms/step - loss: 0.3161 - val_loss: 0.3474\n",
            "233/233 [==============================] - 0s 2ms/step - loss: 0.3402\n"
          ]
        },
        {
          "output_type": "stream",
          "name": "stderr",
          "text": [
            "WARNING:absl:`lr` is deprecated in Keras optimizer, please use `learning_rate` or use the legacy optimizer, e.g.,tf.keras.optimizers.legacy.SGD.\n"
          ]
        },
        {
          "output_type": "stream",
          "name": "stdout",
          "text": [
            "[CV] END .......learning_rate=0.03, n_hidden=2, n_neurons=50; total time=  41.9s\n",
            "Epoch 1/50\n",
            "233/233 [==============================] - 1s 4ms/step - loss: 0.9952 - val_loss: 0.5437\n",
            "Epoch 2/50\n",
            "233/233 [==============================] - 1s 3ms/step - loss: 0.5495 - val_loss: 0.4818\n",
            "Epoch 3/50\n",
            "233/233 [==============================] - 1s 4ms/step - loss: 0.4688 - val_loss: 0.4473\n",
            "Epoch 4/50\n",
            "233/233 [==============================] - 1s 3ms/step - loss: 0.4383 - val_loss: 0.4412\n",
            "Epoch 5/50\n",
            "233/233 [==============================] - 1s 4ms/step - loss: 0.4224 - val_loss: 0.4314\n",
            "Epoch 6/50\n",
            "233/233 [==============================] - 1s 4ms/step - loss: 0.4111 - val_loss: 0.4192\n",
            "Epoch 7/50\n",
            "233/233 [==============================] - 1s 3ms/step - loss: 0.4025 - val_loss: 0.4203\n",
            "Epoch 8/50\n",
            "233/233 [==============================] - 1s 3ms/step - loss: 0.3940 - val_loss: 0.4102\n",
            "Epoch 9/50\n",
            "233/233 [==============================] - 1s 3ms/step - loss: 0.3861 - val_loss: 0.4025\n",
            "Epoch 10/50\n",
            "233/233 [==============================] - 1s 4ms/step - loss: 0.3801 - val_loss: 0.3987\n",
            "Epoch 11/50\n",
            "233/233 [==============================] - 1s 5ms/step - loss: 0.3723 - val_loss: 0.4018\n",
            "Epoch 12/50\n",
            "233/233 [==============================] - 1s 5ms/step - loss: 0.3692 - val_loss: 0.3886\n",
            "Epoch 13/50\n",
            "233/233 [==============================] - 1s 3ms/step - loss: 0.3637 - val_loss: 0.4197\n",
            "Epoch 14/50\n",
            "233/233 [==============================] - 1s 3ms/step - loss: 0.3591 - val_loss: 0.3781\n",
            "Epoch 15/50\n",
            "233/233 [==============================] - 1s 3ms/step - loss: 0.3541 - val_loss: 0.3743\n",
            "Epoch 16/50\n",
            "233/233 [==============================] - 1s 3ms/step - loss: 0.3505 - val_loss: 0.3712\n",
            "Epoch 17/50\n",
            "233/233 [==============================] - 1s 3ms/step - loss: 0.3482 - val_loss: 0.3626\n",
            "Epoch 18/50\n",
            "233/233 [==============================] - 1s 3ms/step - loss: 0.3446 - val_loss: 0.3689\n",
            "Epoch 19/50\n",
            "233/233 [==============================] - 1s 4ms/step - loss: 0.3419 - val_loss: 0.4027\n",
            "Epoch 20/50\n",
            "233/233 [==============================] - 1s 3ms/step - loss: 0.3387 - val_loss: 0.3760\n",
            "Epoch 21/50\n",
            "233/233 [==============================] - 1s 3ms/step - loss: 0.3375 - val_loss: 0.3631\n",
            "Epoch 22/50\n",
            "233/233 [==============================] - 1s 3ms/step - loss: 0.3345 - val_loss: 0.3742\n",
            "233/233 [==============================] - 1s 3ms/step - loss: 0.3616\n"
          ]
        },
        {
          "output_type": "stream",
          "name": "stderr",
          "text": [
            "WARNING:absl:`lr` is deprecated in Keras optimizer, please use `learning_rate` or use the legacy optimizer, e.g.,tf.keras.optimizers.legacy.SGD.\n"
          ]
        },
        {
          "output_type": "stream",
          "name": "stdout",
          "text": [
            "[CV] END .......learning_rate=0.03, n_hidden=2, n_neurons=50; total time=  22.2s\n",
            "Epoch 1/50\n",
            "233/233 [==============================] - 2s 4ms/step - loss: 0.7637 - val_loss: 0.5354\n",
            "Epoch 2/50\n",
            "233/233 [==============================] - 1s 4ms/step - loss: 0.4961 - val_loss: 0.4595\n",
            "Epoch 3/50\n",
            "233/233 [==============================] - 1s 4ms/step - loss: 0.4506 - val_loss: 0.4397\n",
            "Epoch 4/50\n",
            "233/233 [==============================] - 1s 4ms/step - loss: 0.4308 - val_loss: 0.4237\n",
            "Epoch 5/50\n",
            "233/233 [==============================] - 1s 3ms/step - loss: 0.4161 - val_loss: 0.4596\n",
            "Epoch 6/50\n",
            "233/233 [==============================] - 1s 4ms/step - loss: 0.4073 - val_loss: 0.4047\n",
            "Epoch 7/50\n",
            "233/233 [==============================] - 1s 4ms/step - loss: 0.4000 - val_loss: 0.4042\n",
            "Epoch 8/50\n",
            "233/233 [==============================] - 1s 4ms/step - loss: 0.3930 - val_loss: 0.3958\n",
            "Epoch 9/50\n",
            "233/233 [==============================] - 1s 4ms/step - loss: 0.3856 - val_loss: 0.3919\n",
            "Epoch 10/50\n",
            "233/233 [==============================] - 1s 3ms/step - loss: 0.3813 - val_loss: 0.3918\n",
            "Epoch 11/50\n",
            "233/233 [==============================] - 1s 4ms/step - loss: 0.3764 - val_loss: 0.4011\n",
            "Epoch 12/50\n",
            "233/233 [==============================] - 1s 5ms/step - loss: 0.3715 - val_loss: 0.3795\n",
            "Epoch 13/50\n",
            "233/233 [==============================] - 1s 5ms/step - loss: 0.3655 - val_loss: 0.4369\n",
            "Epoch 14/50\n",
            "233/233 [==============================] - 1s 4ms/step - loss: 0.3618 - val_loss: 0.3839\n",
            "Epoch 15/50\n",
            "233/233 [==============================] - 1s 4ms/step - loss: 0.3548 - val_loss: 0.3796\n",
            "Epoch 16/50\n",
            "233/233 [==============================] - 1s 4ms/step - loss: 0.3524 - val_loss: 0.3843\n",
            "Epoch 17/50\n",
            "233/233 [==============================] - 1s 4ms/step - loss: 0.3466 - val_loss: 0.3577\n",
            "Epoch 18/50\n",
            "233/233 [==============================] - 1s 4ms/step - loss: 0.3420 - val_loss: 0.3680\n",
            "Epoch 19/50\n",
            "233/233 [==============================] - 1s 4ms/step - loss: 0.3404 - val_loss: 0.3461\n",
            "Epoch 20/50\n",
            "233/233 [==============================] - 1s 3ms/step - loss: 0.3351 - val_loss: 0.3552\n",
            "Epoch 21/50\n",
            "233/233 [==============================] - 1s 4ms/step - loss: 0.3311 - val_loss: 0.3751\n",
            "Epoch 22/50\n",
            "233/233 [==============================] - 1s 4ms/step - loss: 0.3271 - val_loss: 0.4087\n",
            "Epoch 23/50\n",
            "233/233 [==============================] - 1s 4ms/step - loss: 0.3237 - val_loss: 0.3569\n",
            "Epoch 24/50\n",
            "233/233 [==============================] - 1s 4ms/step - loss: 0.3221 - val_loss: 0.3386\n",
            "Epoch 25/50\n",
            "233/233 [==============================] - 1s 4ms/step - loss: 0.3181 - val_loss: 0.4267\n",
            "Epoch 26/50\n",
            "233/233 [==============================] - 1s 5ms/step - loss: 0.3173 - val_loss: 0.3795\n",
            "Epoch 27/50\n",
            "233/233 [==============================] - 1s 4ms/step - loss: 0.3169 - val_loss: 0.3277\n",
            "Epoch 28/50\n",
            "233/233 [==============================] - 1s 3ms/step - loss: 0.3148 - val_loss: 0.3463\n",
            "Epoch 29/50\n",
            "233/233 [==============================] - 1s 4ms/step - loss: 0.3112 - val_loss: 0.3333\n",
            "Epoch 30/50\n",
            "233/233 [==============================] - 1s 4ms/step - loss: 0.3102 - val_loss: 0.3755\n",
            "Epoch 31/50\n",
            "233/233 [==============================] - 1s 3ms/step - loss: 0.3078 - val_loss: 0.5143\n",
            "Epoch 32/50\n",
            "233/233 [==============================] - 1s 4ms/step - loss: 0.3098 - val_loss: 0.3403\n",
            "233/233 [==============================] - 0s 2ms/step - loss: 0.3285\n",
            "[CV] END .......learning_rate=0.01, n_hidden=3, n_neurons=25; total time=  42.3s\n"
          ]
        },
        {
          "output_type": "stream",
          "name": "stderr",
          "text": [
            "WARNING:absl:`lr` is deprecated in Keras optimizer, please use `learning_rate` or use the legacy optimizer, e.g.,tf.keras.optimizers.legacy.SGD.\n"
          ]
        },
        {
          "output_type": "stream",
          "name": "stdout",
          "text": [
            "Epoch 1/50\n",
            "233/233 [==============================] - 2s 4ms/step - loss: 0.9026 - val_loss: 0.5448\n",
            "Epoch 2/50\n",
            "233/233 [==============================] - 1s 4ms/step - loss: 0.5079 - val_loss: 0.4577\n",
            "Epoch 3/50\n",
            "233/233 [==============================] - 1s 4ms/step - loss: 0.4535 - val_loss: 0.4387\n",
            "Epoch 4/50\n",
            "233/233 [==============================] - 1s 4ms/step - loss: 0.4310 - val_loss: 0.4351\n",
            "Epoch 5/50\n",
            "233/233 [==============================] - 1s 6ms/step - loss: 0.4171 - val_loss: 0.4313\n",
            "Epoch 6/50\n",
            "233/233 [==============================] - 2s 6ms/step - loss: 0.4077 - val_loss: 0.4273\n",
            "Epoch 7/50\n",
            "233/233 [==============================] - 2s 7ms/step - loss: 0.3990 - val_loss: 0.4247\n",
            "Epoch 8/50\n",
            "233/233 [==============================] - 1s 4ms/step - loss: 0.3930 - val_loss: 0.4135\n",
            "Epoch 9/50\n",
            "233/233 [==============================] - 1s 4ms/step - loss: 0.3865 - val_loss: 0.4091\n",
            "Epoch 10/50\n",
            "233/233 [==============================] - 1s 4ms/step - loss: 0.3795 - val_loss: 0.4077\n",
            "Epoch 11/50\n",
            "233/233 [==============================] - 1s 4ms/step - loss: 0.3730 - val_loss: 0.4116\n",
            "Epoch 12/50\n",
            "233/233 [==============================] - 1s 4ms/step - loss: 0.3701 - val_loss: 0.4059\n",
            "Epoch 13/50\n",
            "233/233 [==============================] - 1s 3ms/step - loss: 0.3652 - val_loss: 0.4451\n",
            "Epoch 14/50\n",
            "233/233 [==============================] - 1s 4ms/step - loss: 0.3601 - val_loss: 0.3867\n",
            "Epoch 15/50\n",
            "233/233 [==============================] - 1s 4ms/step - loss: 0.3572 - val_loss: 0.3828\n",
            "Epoch 16/50\n",
            "233/233 [==============================] - 1s 4ms/step - loss: 0.3523 - val_loss: 0.4080\n",
            "Epoch 17/50\n",
            "233/233 [==============================] - 1s 4ms/step - loss: 0.3500 - val_loss: 0.3678\n",
            "Epoch 18/50\n",
            "233/233 [==============================] - 1s 4ms/step - loss: 0.3487 - val_loss: 0.3901\n",
            "Epoch 19/50\n",
            "233/233 [==============================] - 1s 5ms/step - loss: 0.3426 - val_loss: 0.4049\n",
            "Epoch 20/50\n",
            "233/233 [==============================] - 1s 5ms/step - loss: 0.3383 - val_loss: 0.3850\n",
            "Epoch 21/50\n",
            "233/233 [==============================] - 1s 4ms/step - loss: 0.3381 - val_loss: 0.3750\n",
            "Epoch 22/50\n",
            "233/233 [==============================] - 1s 4ms/step - loss: 0.3352 - val_loss: 0.3724\n",
            "233/233 [==============================] - 0s 2ms/step - loss: 0.3681\n",
            "[CV] END .......learning_rate=0.01, n_hidden=3, n_neurons=25; total time=  42.0s\n"
          ]
        },
        {
          "output_type": "stream",
          "name": "stderr",
          "text": [
            "WARNING:absl:`lr` is deprecated in Keras optimizer, please use `learning_rate` or use the legacy optimizer, e.g.,tf.keras.optimizers.legacy.SGD.\n"
          ]
        },
        {
          "output_type": "stream",
          "name": "stdout",
          "text": [
            "Epoch 1/50\n",
            "233/233 [==============================] - 2s 6ms/step - loss: 0.8560 - val_loss: 0.5120\n",
            "Epoch 2/50\n",
            "233/233 [==============================] - 1s 5ms/step - loss: 0.4662 - val_loss: 0.4317\n",
            "Epoch 3/50\n",
            "233/233 [==============================] - 1s 4ms/step - loss: 0.4213 - val_loss: 0.4232\n",
            "Epoch 4/50\n",
            "233/233 [==============================] - 1s 4ms/step - loss: 0.4002 - val_loss: 0.4242\n",
            "Epoch 5/50\n",
            "233/233 [==============================] - 1s 4ms/step - loss: 0.3854 - val_loss: 0.4934\n",
            "Epoch 6/50\n",
            "233/233 [==============================] - 1s 4ms/step - loss: 0.3763 - val_loss: 0.4208\n",
            "Epoch 7/50\n",
            "233/233 [==============================] - 1s 4ms/step - loss: 0.3689 - val_loss: 0.4043\n",
            "Epoch 8/50\n",
            "233/233 [==============================] - 1s 4ms/step - loss: 0.3717 - val_loss: 0.3730\n",
            "Epoch 9/50\n",
            "233/233 [==============================] - 1s 4ms/step - loss: 0.3550 - val_loss: 0.3851\n",
            "Epoch 10/50\n",
            "233/233 [==============================] - 1s 4ms/step - loss: 0.3537 - val_loss: 0.3665\n",
            "Epoch 11/50\n",
            "233/233 [==============================] - 1s 4ms/step - loss: 0.3463 - val_loss: 0.4943\n",
            "Epoch 12/50\n",
            "233/233 [==============================] - 1s 4ms/step - loss: 0.3443 - val_loss: 0.3728\n",
            "Epoch 13/50\n",
            "233/233 [==============================] - 1s 6ms/step - loss: 0.3420 - val_loss: 0.4765\n",
            "Epoch 14/50\n",
            "233/233 [==============================] - 1s 6ms/step - loss: 0.3350 - val_loss: 0.4118\n",
            "Epoch 15/50\n",
            "233/233 [==============================] - 1s 4ms/step - loss: 0.3302 - val_loss: 0.4020\n",
            "233/233 [==============================] - 1s 2ms/step - loss: 0.4236\n",
            "[CV] END ......learning_rate=0.001, n_hidden=4, n_neurons=75; total time=  17.2s\n"
          ]
        },
        {
          "output_type": "stream",
          "name": "stderr",
          "text": [
            "WARNING:absl:`lr` is deprecated in Keras optimizer, please use `learning_rate` or use the legacy optimizer, e.g.,tf.keras.optimizers.legacy.SGD.\n"
          ]
        },
        {
          "output_type": "stream",
          "name": "stdout",
          "text": [
            "Epoch 1/50\n",
            "233/233 [==============================] - 2s 4ms/step - loss: 0.8878 - val_loss: 0.5410\n",
            "Epoch 2/50\n",
            "233/233 [==============================] - 1s 4ms/step - loss: 0.5012 - val_loss: 0.4503\n",
            "Epoch 3/50\n",
            "233/233 [==============================] - 1s 4ms/step - loss: 0.4418 - val_loss: 0.4175\n",
            "Epoch 4/50\n",
            "233/233 [==============================] - 1s 4ms/step - loss: 0.4072 - val_loss: 0.4466\n",
            "Epoch 5/50\n",
            "233/233 [==============================] - 1s 4ms/step - loss: 0.3921 - val_loss: 0.3939\n",
            "Epoch 6/50\n",
            "233/233 [==============================] - 1s 4ms/step - loss: 0.3770 - val_loss: 0.4129\n",
            "Epoch 7/50\n",
            "233/233 [==============================] - 1s 4ms/step - loss: 0.3717 - val_loss: 0.3863\n",
            "Epoch 8/50\n",
            "233/233 [==============================] - 1s 4ms/step - loss: 0.3651 - val_loss: 0.4152\n",
            "Epoch 9/50\n",
            "233/233 [==============================] - 1s 6ms/step - loss: 0.3557 - val_loss: 0.3747\n",
            "Epoch 10/50\n",
            "233/233 [==============================] - 1s 5ms/step - loss: 0.3511 - val_loss: 0.4207\n",
            "Epoch 11/50\n",
            "233/233 [==============================] - 1s 4ms/step - loss: 0.3449 - val_loss: 0.3750\n",
            "Epoch 12/50\n",
            "233/233 [==============================] - 1s 4ms/step - loss: 0.3438 - val_loss: 0.3667\n",
            "Epoch 13/50\n",
            "233/233 [==============================] - 1s 4ms/step - loss: 0.3366 - val_loss: 0.5229\n",
            "Epoch 14/50\n",
            "233/233 [==============================] - 1s 4ms/step - loss: 0.3332 - val_loss: 0.3554\n",
            "Epoch 15/50\n",
            "233/233 [==============================] - 1s 4ms/step - loss: 0.3282 - val_loss: 0.3574\n",
            "Epoch 16/50\n",
            "233/233 [==============================] - 1s 4ms/step - loss: 0.3243 - val_loss: 0.3634\n",
            "Epoch 17/50\n",
            "233/233 [==============================] - 1s 4ms/step - loss: 0.3213 - val_loss: 0.3404\n",
            "Epoch 18/50\n",
            "233/233 [==============================] - 1s 4ms/step - loss: 0.3220 - val_loss: 0.4000\n",
            "Epoch 19/50\n",
            "233/233 [==============================] - 1s 4ms/step - loss: 0.3152 - val_loss: 0.3862\n",
            "Epoch 20/50\n",
            "233/233 [==============================] - 1s 4ms/step - loss: 0.3129 - val_loss: 0.3558\n",
            "Epoch 21/50\n",
            "233/233 [==============================] - 1s 5ms/step - loss: 0.3099 - val_loss: 0.3429\n",
            "Epoch 22/50\n",
            "233/233 [==============================] - 2s 7ms/step - loss: 0.3080 - val_loss: 0.3811\n",
            "233/233 [==============================] - 1s 2ms/step - loss: 0.3695\n",
            "[CV] END ......learning_rate=0.001, n_hidden=4, n_neurons=75; total time=  24.1s\n"
          ]
        },
        {
          "output_type": "stream",
          "name": "stderr",
          "text": [
            "WARNING:absl:`lr` is deprecated in Keras optimizer, please use `learning_rate` or use the legacy optimizer, e.g.,tf.keras.optimizers.legacy.SGD.\n"
          ]
        },
        {
          "output_type": "stream",
          "name": "stdout",
          "text": [
            "Epoch 1/50\n",
            "233/233 [==============================] - 2s 4ms/step - loss: 0.9751 - val_loss: 0.5591\n",
            "Epoch 2/50\n",
            "233/233 [==============================] - 1s 4ms/step - loss: 0.5257 - val_loss: 0.4845\n",
            "Epoch 3/50\n",
            "233/233 [==============================] - 1s 4ms/step - loss: 0.4735 - val_loss: 0.4641\n",
            "Epoch 4/50\n",
            "233/233 [==============================] - 1s 4ms/step - loss: 0.4474 - val_loss: 0.4327\n",
            "Epoch 5/50\n",
            "233/233 [==============================] - 1s 4ms/step - loss: 0.4268 - val_loss: 0.4996\n",
            "Epoch 6/50\n",
            "233/233 [==============================] - 1s 4ms/step - loss: 0.4129 - val_loss: 0.4281\n",
            "Epoch 7/50\n",
            "233/233 [==============================] - 1s 4ms/step - loss: 0.4015 - val_loss: 0.4054\n",
            "Epoch 8/50\n",
            "233/233 [==============================] - 1s 4ms/step - loss: 0.3920 - val_loss: 0.4028\n",
            "Epoch 9/50\n",
            "233/233 [==============================] - 1s 4ms/step - loss: 0.3831 - val_loss: 0.4010\n",
            "Epoch 10/50\n",
            "233/233 [==============================] - 1s 6ms/step - loss: 0.3811 - val_loss: 0.3869\n",
            "Epoch 11/50\n",
            "233/233 [==============================] - 1s 6ms/step - loss: 0.3729 - val_loss: 0.4435\n",
            "Epoch 12/50\n",
            "233/233 [==============================] - 1s 4ms/step - loss: 0.3686 - val_loss: 0.3869\n",
            "Epoch 13/50\n",
            "233/233 [==============================] - 1s 4ms/step - loss: 0.3631 - val_loss: 0.4710\n",
            "Epoch 14/50\n",
            "233/233 [==============================] - 1s 4ms/step - loss: 0.3582 - val_loss: 0.4468\n",
            "Epoch 15/50\n",
            "233/233 [==============================] - 1s 4ms/step - loss: 0.3529 - val_loss: 0.4177\n",
            "233/233 [==============================] - 1s 2ms/step - loss: 0.4285\n",
            "[CV] END .......learning_rate=0.03, n_hidden=4, n_neurons=30; total time=  21.6s\n"
          ]
        },
        {
          "output_type": "stream",
          "name": "stderr",
          "text": [
            "WARNING:absl:`lr` is deprecated in Keras optimizer, please use `learning_rate` or use the legacy optimizer, e.g.,tf.keras.optimizers.legacy.SGD.\n"
          ]
        },
        {
          "output_type": "stream",
          "name": "stdout",
          "text": [
            "Epoch 1/50\n",
            "233/233 [==============================] - 3s 6ms/step - loss: 1.0907 - val_loss: 0.5966\n",
            "Epoch 2/50\n",
            "233/233 [==============================] - 1s 4ms/step - loss: 0.5603 - val_loss: 0.4980\n",
            "Epoch 3/50\n",
            "233/233 [==============================] - 1s 4ms/step - loss: 0.4845 - val_loss: 0.4570\n",
            "Epoch 4/50\n",
            "233/233 [==============================] - 1s 4ms/step - loss: 0.4504 - val_loss: 0.4824\n",
            "Epoch 5/50\n",
            "233/233 [==============================] - 1s 4ms/step - loss: 0.4325 - val_loss: 0.4468\n",
            "Epoch 6/50\n",
            "233/233 [==============================] - 1s 4ms/step - loss: 0.4157 - val_loss: 0.4332\n",
            "Epoch 7/50\n",
            "233/233 [==============================] - 1s 4ms/step - loss: 0.4048 - val_loss: 0.4264\n",
            "Epoch 8/50\n",
            "233/233 [==============================] - 1s 4ms/step - loss: 0.3971 - val_loss: 0.4839\n",
            "Epoch 9/50\n",
            "233/233 [==============================] - 1s 4ms/step - loss: 0.3871 - val_loss: 0.4062\n",
            "Epoch 10/50\n",
            "233/233 [==============================] - 1s 4ms/step - loss: 0.3799 - val_loss: 0.4555\n",
            "Epoch 11/50\n",
            "233/233 [==============================] - 1s 4ms/step - loss: 0.3741 - val_loss: 0.3996\n",
            "Epoch 12/50\n",
            "233/233 [==============================] - 1s 5ms/step - loss: 0.3701 - val_loss: 0.3876\n",
            "Epoch 13/50\n",
            "233/233 [==============================] - 1s 5ms/step - loss: 0.3647 - val_loss: 0.5235\n",
            "Epoch 14/50\n",
            "233/233 [==============================] - 1s 5ms/step - loss: 0.3592 - val_loss: 0.3761\n",
            "Epoch 15/50\n",
            "233/233 [==============================] - 1s 4ms/step - loss: 0.3564 - val_loss: 0.3940\n",
            "Epoch 16/50\n",
            "233/233 [==============================] - 1s 4ms/step - loss: 0.3507 - val_loss: 0.3809\n",
            "Epoch 17/50\n",
            "233/233 [==============================] - 1s 4ms/step - loss: 0.3485 - val_loss: 0.3653\n",
            "Epoch 18/50\n",
            "233/233 [==============================] - 1s 4ms/step - loss: 0.3669 - val_loss: 0.3905\n",
            "Epoch 19/50\n",
            "233/233 [==============================] - 1s 4ms/step - loss: 0.3583 - val_loss: 0.4499\n",
            "Epoch 20/50\n",
            "233/233 [==============================] - 1s 4ms/step - loss: 0.3432 - val_loss: 0.3849\n",
            "Epoch 21/50\n",
            "233/233 [==============================] - 1s 4ms/step - loss: 0.3389 - val_loss: 0.3685\n",
            "Epoch 22/50\n",
            "233/233 [==============================] - 1s 4ms/step - loss: 0.3352 - val_loss: 0.4138\n",
            "233/233 [==============================] - 1s 2ms/step - loss: 0.4025\n",
            "[CV] END .......learning_rate=0.03, n_hidden=4, n_neurons=30; total time=  42.3s\n"
          ]
        },
        {
          "output_type": "stream",
          "name": "stderr",
          "text": [
            "WARNING:absl:`lr` is deprecated in Keras optimizer, please use `learning_rate` or use the legacy optimizer, e.g.,tf.keras.optimizers.legacy.SGD.\n"
          ]
        },
        {
          "output_type": "stream",
          "name": "stdout",
          "text": [
            "Epoch 1/50\n",
            "233/233 [==============================] - 2s 4ms/step - loss: 0.8947 - val_loss: 0.5728\n",
            "Epoch 2/50\n",
            "233/233 [==============================] - 1s 4ms/step - loss: 0.5562 - val_loss: 0.4915\n",
            "Epoch 3/50\n",
            "233/233 [==============================] - 1s 4ms/step - loss: 0.4772 - val_loss: 0.4747\n",
            "Epoch 4/50\n",
            "233/233 [==============================] - 1s 4ms/step - loss: 0.4542 - val_loss: 0.4507\n",
            "Epoch 5/50\n",
            "233/233 [==============================] - 1s 4ms/step - loss: 0.4361 - val_loss: 0.4713\n",
            "Epoch 6/50\n",
            "233/233 [==============================] - 1s 5ms/step - loss: 0.4248 - val_loss: 0.4197\n",
            "Epoch 7/50\n",
            "233/233 [==============================] - 1s 6ms/step - loss: 0.4163 - val_loss: 0.4082\n",
            "Epoch 8/50\n",
            "233/233 [==============================] - 1s 4ms/step - loss: 0.4063 - val_loss: 0.4058\n",
            "Epoch 9/50\n",
            "233/233 [==============================] - 1s 4ms/step - loss: 0.3983 - val_loss: 0.4003\n",
            "Epoch 10/50\n",
            "233/233 [==============================] - 1s 4ms/step - loss: 0.3949 - val_loss: 0.3926\n",
            "Epoch 11/50\n",
            "233/233 [==============================] - 1s 4ms/step - loss: 0.3886 - val_loss: 0.4349\n",
            "Epoch 12/50\n",
            "233/233 [==============================] - 1s 4ms/step - loss: 0.3842 - val_loss: 0.3890\n",
            "Epoch 13/50\n",
            "233/233 [==============================] - 1s 4ms/step - loss: 0.3777 - val_loss: 0.4497\n",
            "Epoch 14/50\n",
            "233/233 [==============================] - 1s 4ms/step - loss: 0.3723 - val_loss: 0.3919\n",
            "Epoch 15/50\n",
            "233/233 [==============================] - 1s 4ms/step - loss: 0.3646 - val_loss: 0.4291\n",
            "Epoch 16/50\n",
            "233/233 [==============================] - 1s 4ms/step - loss: 0.3622 - val_loss: 0.4038\n",
            "Epoch 17/50\n",
            "233/233 [==============================] - 1s 4ms/step - loss: 0.3570 - val_loss: 0.3681\n",
            "Epoch 18/50\n",
            "233/233 [==============================] - 1s 4ms/step - loss: 0.3525 - val_loss: 0.3816\n",
            "Epoch 19/50\n",
            "233/233 [==============================] - 1s 5ms/step - loss: 0.3509 - val_loss: 0.3525\n",
            "Epoch 20/50\n",
            "233/233 [==============================] - 1s 5ms/step - loss: 0.3460 - val_loss: 0.3590\n",
            "Epoch 21/50\n",
            "233/233 [==============================] - 1s 4ms/step - loss: 0.3413 - val_loss: 0.4811\n",
            "Epoch 22/50\n",
            "233/233 [==============================] - 1s 4ms/step - loss: 0.3377 - val_loss: 0.4187\n",
            "Epoch 23/50\n",
            "233/233 [==============================] - 1s 4ms/step - loss: 0.3340 - val_loss: 0.3578\n",
            "Epoch 24/50\n",
            "233/233 [==============================] - 1s 4ms/step - loss: 0.3323 - val_loss: 0.3464\n",
            "Epoch 25/50\n",
            "233/233 [==============================] - 1s 4ms/step - loss: 0.3277 - val_loss: 0.4297\n",
            "Epoch 26/50\n",
            "233/233 [==============================] - 1s 4ms/step - loss: 0.3275 - val_loss: 0.3625\n",
            "Epoch 27/50\n",
            "233/233 [==============================] - 1s 4ms/step - loss: 0.3280 - val_loss: 0.3320\n",
            "Epoch 28/50\n",
            "233/233 [==============================] - 1s 3ms/step - loss: 0.3240 - val_loss: 0.3513\n",
            "Epoch 29/50\n",
            "233/233 [==============================] - 1s 4ms/step - loss: 0.3200 - val_loss: 0.3424\n",
            "Epoch 30/50\n",
            "233/233 [==============================] - 1s 4ms/step - loss: 0.3184 - val_loss: 0.3711\n",
            "Epoch 31/50\n",
            "233/233 [==============================] - 1s 4ms/step - loss: 0.3151 - val_loss: 0.6106\n",
            "Epoch 32/50\n",
            "233/233 [==============================] - 1s 5ms/step - loss: 0.3203 - val_loss: 0.3919\n",
            "233/233 [==============================] - 0s 2ms/step - loss: 0.3844\n",
            "[CV] END .......learning_rate=0.03, n_hidden=3, n_neurons=20; total time=  42.2s\n"
          ]
        },
        {
          "output_type": "stream",
          "name": "stderr",
          "text": [
            "WARNING:absl:`lr` is deprecated in Keras optimizer, please use `learning_rate` or use the legacy optimizer, e.g.,tf.keras.optimizers.legacy.SGD.\n"
          ]
        },
        {
          "output_type": "stream",
          "name": "stdout",
          "text": [
            "Epoch 1/50\n",
            "233/233 [==============================] - 2s 6ms/step - loss: 1.0113 - val_loss: 0.5799\n",
            "Epoch 2/50\n",
            "233/233 [==============================] - 1s 5ms/step - loss: 0.5417 - val_loss: 0.4923\n",
            "Epoch 3/50\n",
            "233/233 [==============================] - 1s 4ms/step - loss: 0.4816 - val_loss: 0.4588\n",
            "Epoch 4/50\n",
            "233/233 [==============================] - 1s 4ms/step - loss: 0.4541 - val_loss: 0.4585\n",
            "Epoch 5/50\n",
            "233/233 [==============================] - 1s 4ms/step - loss: 0.4372 - val_loss: 0.4377\n",
            "Epoch 6/50\n",
            "233/233 [==============================] - 1s 4ms/step - loss: 0.4254 - val_loss: 0.4317\n",
            "Epoch 7/50\n",
            "233/233 [==============================] - 1s 4ms/step - loss: 0.4155 - val_loss: 0.4400\n",
            "Epoch 8/50\n",
            "233/233 [==============================] - 1s 4ms/step - loss: 0.4097 - val_loss: 0.4268\n",
            "Epoch 9/50\n",
            "233/233 [==============================] - 1s 4ms/step - loss: 0.4020 - val_loss: 0.4171\n",
            "Epoch 10/50\n",
            "233/233 [==============================] - 1s 4ms/step - loss: 0.3962 - val_loss: 0.4153\n",
            "Epoch 11/50\n",
            "233/233 [==============================] - 1s 4ms/step - loss: 0.3903 - val_loss: 0.4217\n",
            "Epoch 12/50\n",
            "233/233 [==============================] - 1s 4ms/step - loss: 0.3877 - val_loss: 0.4045\n",
            "Epoch 13/50\n",
            "233/233 [==============================] - 1s 4ms/step - loss: 0.3821 - val_loss: 0.4708\n",
            "Epoch 14/50\n",
            "233/233 [==============================] - 1s 5ms/step - loss: 0.3781 - val_loss: 0.3978\n",
            "Epoch 15/50\n",
            "233/233 [==============================] - 1s 5ms/step - loss: 0.3745 - val_loss: 0.3939\n",
            "Epoch 16/50\n",
            "233/233 [==============================] - 1s 4ms/step - loss: 0.3706 - val_loss: 0.3905\n",
            "Epoch 17/50\n",
            "233/233 [==============================] - 1s 4ms/step - loss: 0.3693 - val_loss: 0.3825\n",
            "Epoch 18/50\n",
            "233/233 [==============================] - 1s 4ms/step - loss: 0.3668 - val_loss: 0.3917\n",
            "Epoch 19/50\n",
            "233/233 [==============================] - 1s 4ms/step - loss: 0.3637 - val_loss: 0.4350\n",
            "Epoch 20/50\n",
            "233/233 [==============================] - 1s 4ms/step - loss: 0.3601 - val_loss: 0.3920\n",
            "Epoch 21/50\n",
            "233/233 [==============================] - 1s 4ms/step - loss: 0.3588 - val_loss: 0.3780\n",
            "Epoch 22/50\n",
            "233/233 [==============================] - 1s 4ms/step - loss: 0.3562 - val_loss: 0.3957\n",
            "Epoch 23/50\n",
            "233/233 [==============================] - 1s 3ms/step - loss: 0.3526 - val_loss: 0.4496\n",
            "Epoch 24/50\n",
            "233/233 [==============================] - 1s 4ms/step - loss: 0.3524 - val_loss: 0.4034\n",
            "Epoch 25/50\n",
            "233/233 [==============================] - 1s 4ms/step - loss: 0.3500 - val_loss: 0.3740\n",
            "Epoch 26/50\n",
            "233/233 [==============================] - 1s 4ms/step - loss: 0.3450 - val_loss: 0.3706\n",
            "Epoch 27/50\n",
            "233/233 [==============================] - 1s 5ms/step - loss: 0.3434 - val_loss: 0.3768\n",
            "Epoch 28/50\n",
            "233/233 [==============================] - 1s 6ms/step - loss: 0.3410 - val_loss: 0.3723\n",
            "Epoch 29/50\n",
            "233/233 [==============================] - 1s 4ms/step - loss: 0.3420 - val_loss: 0.3765\n",
            "Epoch 30/50\n",
            "233/233 [==============================] - 1s 4ms/step - loss: 0.3404 - val_loss: 0.3620\n",
            "Epoch 31/50\n",
            "233/233 [==============================] - 1s 4ms/step - loss: 0.3360 - val_loss: 0.3648\n",
            "Epoch 32/50\n",
            "233/233 [==============================] - 1s 4ms/step - loss: 0.3363 - val_loss: 0.3767\n",
            "Epoch 33/50\n",
            "233/233 [==============================] - 1s 4ms/step - loss: 0.3355 - val_loss: 0.3673\n",
            "Epoch 34/50\n",
            "233/233 [==============================] - 1s 4ms/step - loss: 0.3324 - val_loss: 0.3749\n",
            "Epoch 35/50\n",
            "233/233 [==============================] - 1s 4ms/step - loss: 0.3306 - val_loss: 0.3564\n",
            "Epoch 36/50\n",
            "233/233 [==============================] - 1s 4ms/step - loss: 0.3276 - val_loss: 0.3517\n",
            "Epoch 37/50\n",
            "233/233 [==============================] - 1s 4ms/step - loss: 0.3281 - val_loss: 0.4190\n",
            "Epoch 38/50\n",
            "233/233 [==============================] - 1s 4ms/step - loss: 0.3273 - val_loss: 0.3724\n",
            "Epoch 39/50\n",
            "233/233 [==============================] - 1s 4ms/step - loss: 0.3260 - val_loss: 0.3669\n",
            "Epoch 40/50\n",
            "233/233 [==============================] - 1s 5ms/step - loss: 0.3222 - val_loss: 0.3821\n",
            "Epoch 41/50\n",
            "233/233 [==============================] - 1s 6ms/step - loss: 0.3251 - val_loss: 0.3799\n",
            "233/233 [==============================] - 1s 2ms/step - loss: 0.3474\n",
            "[CV] END .......learning_rate=0.03, n_hidden=3, n_neurons=20; total time=  41.3s\n"
          ]
        },
        {
          "output_type": "stream",
          "name": "stderr",
          "text": [
            "WARNING:absl:`lr` is deprecated in Keras optimizer, please use `learning_rate` or use the legacy optimizer, e.g.,tf.keras.optimizers.legacy.SGD.\n"
          ]
        },
        {
          "output_type": "stream",
          "name": "stdout",
          "text": [
            "Epoch 1/50\n",
            "233/233 [==============================] - 2s 5ms/step - loss: 0.8920 - val_loss: 0.5534\n",
            "Epoch 2/50\n",
            "233/233 [==============================] - 1s 4ms/step - loss: 0.5105 - val_loss: 0.4629\n",
            "Epoch 3/50\n",
            "233/233 [==============================] - 1s 4ms/step - loss: 0.4494 - val_loss: 0.4468\n",
            "Epoch 4/50\n",
            "233/233 [==============================] - 1s 4ms/step - loss: 0.4276 - val_loss: 0.4203\n",
            "Epoch 5/50\n",
            "233/233 [==============================] - 1s 4ms/step - loss: 0.4096 - val_loss: 0.4573\n",
            "Epoch 6/50\n",
            "233/233 [==============================] - 1s 4ms/step - loss: 0.3983 - val_loss: 0.4002\n",
            "Epoch 7/50\n",
            "233/233 [==============================] - 1s 4ms/step - loss: 0.3889 - val_loss: 0.3904\n",
            "Epoch 8/50\n",
            "233/233 [==============================] - 1s 4ms/step - loss: 0.3811 - val_loss: 0.3908\n",
            "Epoch 9/50\n",
            "233/233 [==============================] - 1s 5ms/step - loss: 0.3729 - val_loss: 0.3904\n",
            "Epoch 10/50\n",
            "233/233 [==============================] - 1s 6ms/step - loss: 0.3698 - val_loss: 0.3784\n",
            "Epoch 11/50\n",
            "233/233 [==============================] - 1s 5ms/step - loss: 0.3630 - val_loss: 0.4446\n",
            "Epoch 12/50\n",
            "233/233 [==============================] - 1s 4ms/step - loss: 0.3583 - val_loss: 0.3787\n",
            "Epoch 13/50\n",
            "233/233 [==============================] - 1s 4ms/step - loss: 0.3550 - val_loss: 0.4381\n",
            "Epoch 14/50\n",
            "233/233 [==============================] - 1s 4ms/step - loss: 0.3491 - val_loss: 0.4015\n",
            "Epoch 15/50\n",
            "233/233 [==============================] - 1s 4ms/step - loss: 0.3434 - val_loss: 0.3989\n",
            "233/233 [==============================] - 1s 2ms/step - loss: 0.4216\n",
            "[CV] END .......learning_rate=0.01, n_hidden=3, n_neurons=70; total time=  22.1s\n"
          ]
        },
        {
          "output_type": "stream",
          "name": "stderr",
          "text": [
            "WARNING:absl:`lr` is deprecated in Keras optimizer, please use `learning_rate` or use the legacy optimizer, e.g.,tf.keras.optimizers.legacy.SGD.\n"
          ]
        },
        {
          "output_type": "stream",
          "name": "stdout",
          "text": [
            "Epoch 1/50\n",
            "233/233 [==============================] - 2s 6ms/step - loss: 0.8710 - val_loss: 0.5162\n",
            "Epoch 2/50\n",
            "233/233 [==============================] - 1s 4ms/step - loss: 0.5097 - val_loss: 0.4500\n",
            "Epoch 3/50\n",
            "233/233 [==============================] - 1s 4ms/step - loss: 0.4530 - val_loss: 0.4275\n",
            "Epoch 4/50\n",
            "233/233 [==============================] - 1s 4ms/step - loss: 0.4220 - val_loss: 0.4425\n",
            "Epoch 5/50\n",
            "233/233 [==============================] - 1s 4ms/step - loss: 0.4089 - val_loss: 0.4099\n",
            "Epoch 6/50\n",
            "233/233 [==============================] - 1s 4ms/step - loss: 0.3974 - val_loss: 0.4104\n",
            "Epoch 7/50\n",
            "233/233 [==============================] - 1s 4ms/step - loss: 0.3924 - val_loss: 0.4038\n",
            "Epoch 8/50\n",
            "233/233 [==============================] - 1s 4ms/step - loss: 0.3837 - val_loss: 0.4157\n",
            "Epoch 9/50\n",
            "233/233 [==============================] - 1s 4ms/step - loss: 0.3737 - val_loss: 0.3865\n",
            "Epoch 10/50\n",
            "233/233 [==============================] - 1s 4ms/step - loss: 0.3666 - val_loss: 0.3980\n",
            "Epoch 11/50\n",
            "233/233 [==============================] - 1s 4ms/step - loss: 0.3605 - val_loss: 0.3918\n",
            "Epoch 12/50\n",
            "233/233 [==============================] - 1s 4ms/step - loss: 0.3593 - val_loss: 0.3832\n",
            "Epoch 13/50\n",
            "233/233 [==============================] - 1s 5ms/step - loss: 0.3534 - val_loss: 0.4482\n",
            "Epoch 14/50\n",
            "233/233 [==============================] - 1s 5ms/step - loss: 0.3501 - val_loss: 0.3651\n",
            "Epoch 15/50\n",
            "233/233 [==============================] - 1s 4ms/step - loss: 0.3446 - val_loss: 0.3658\n",
            "Epoch 16/50\n",
            "233/233 [==============================] - 1s 4ms/step - loss: 0.3414 - val_loss: 0.3679\n",
            "Epoch 17/50\n",
            "233/233 [==============================] - 1s 4ms/step - loss: 0.3383 - val_loss: 0.3522\n",
            "Epoch 18/50\n",
            "233/233 [==============================] - 1s 4ms/step - loss: 0.3379 - val_loss: 0.3730\n",
            "Epoch 19/50\n",
            "233/233 [==============================] - 1s 4ms/step - loss: 0.3318 - val_loss: 0.4095\n",
            "Epoch 20/50\n",
            "233/233 [==============================] - 1s 4ms/step - loss: 0.3288 - val_loss: 0.3823\n",
            "Epoch 21/50\n",
            "233/233 [==============================] - 1s 4ms/step - loss: 0.3278 - val_loss: 0.3533\n",
            "Epoch 22/50\n",
            "233/233 [==============================] - 1s 4ms/step - loss: 0.3237 - val_loss: 0.3947\n",
            "233/233 [==============================] - 1s 2ms/step - loss: 0.3884\n",
            "[CV] END .......learning_rate=0.01, n_hidden=3, n_neurons=70; total time=  22.8s\n"
          ]
        },
        {
          "output_type": "stream",
          "name": "stderr",
          "text": [
            "WARNING:absl:`lr` is deprecated in Keras optimizer, please use `learning_rate` or use the legacy optimizer, e.g.,tf.keras.optimizers.legacy.SGD.\n"
          ]
        },
        {
          "output_type": "stream",
          "name": "stdout",
          "text": [
            "Epoch 1/50\n",
            "233/233 [==============================] - 2s 4ms/step - loss: 0.8367 - val_loss: 0.5470\n",
            "Epoch 2/50\n",
            "233/233 [==============================] - 1s 5ms/step - loss: 0.5503 - val_loss: 0.4644\n",
            "Epoch 3/50\n",
            "233/233 [==============================] - 1s 5ms/step - loss: 0.4514 - val_loss: 0.4364\n",
            "Epoch 4/50\n",
            "233/233 [==============================] - 1s 5ms/step - loss: 0.4247 - val_loss: 0.4117\n",
            "Epoch 5/50\n",
            "233/233 [==============================] - 1s 4ms/step - loss: 0.4072 - val_loss: 0.4652\n",
            "Epoch 6/50\n",
            "233/233 [==============================] - 1s 4ms/step - loss: 0.3970 - val_loss: 0.3922\n",
            "Epoch 7/50\n",
            "233/233 [==============================] - 1s 4ms/step - loss: 0.3875 - val_loss: 0.3869\n",
            "Epoch 8/50\n",
            "233/233 [==============================] - 1s 4ms/step - loss: 0.3794 - val_loss: 0.3807\n",
            "Epoch 9/50\n",
            "233/233 [==============================] - 1s 4ms/step - loss: 0.3710 - val_loss: 0.3779\n",
            "Epoch 10/50\n",
            "233/233 [==============================] - 1s 4ms/step - loss: 0.3672 - val_loss: 0.3747\n",
            "Epoch 11/50\n",
            "233/233 [==============================] - 1s 4ms/step - loss: 0.3604 - val_loss: 0.4521\n",
            "Epoch 12/50\n",
            "233/233 [==============================] - 1s 4ms/step - loss: 0.3557 - val_loss: 0.3669\n",
            "Epoch 13/50\n",
            "233/233 [==============================] - 1s 4ms/step - loss: 0.3531 - val_loss: 0.4024\n",
            "Epoch 14/50\n",
            "233/233 [==============================] - 1s 4ms/step - loss: 0.3458 - val_loss: 0.3852\n",
            "Epoch 15/50\n",
            "233/233 [==============================] - 1s 4ms/step - loss: 0.3420 - val_loss: 0.3852\n",
            "Epoch 16/50\n",
            "233/233 [==============================] - 1s 5ms/step - loss: 0.3787 - val_loss: 0.4044\n",
            "Epoch 17/50\n",
            "233/233 [==============================] - 1s 5ms/step - loss: 0.3368 - val_loss: 0.3528\n",
            "Epoch 18/50\n",
            "233/233 [==============================] - 1s 4ms/step - loss: 0.3321 - val_loss: 0.3661\n",
            "Epoch 19/50\n",
            "233/233 [==============================] - 1s 4ms/step - loss: 0.3304 - val_loss: 0.3382\n",
            "Epoch 20/50\n",
            "233/233 [==============================] - 1s 4ms/step - loss: 0.3256 - val_loss: 0.3459\n",
            "Epoch 21/50\n",
            "233/233 [==============================] - 1s 4ms/step - loss: 0.3225 - val_loss: 0.4357\n",
            "Epoch 22/50\n",
            "233/233 [==============================] - 1s 4ms/step - loss: 0.3204 - val_loss: 0.3935\n",
            "Epoch 23/50\n",
            "233/233 [==============================] - 1s 4ms/step - loss: 0.3159 - val_loss: 0.3680\n",
            "Epoch 24/50\n",
            "233/233 [==============================] - 1s 4ms/step - loss: 0.3149 - val_loss: 0.3324\n",
            "Epoch 25/50\n",
            "233/233 [==============================] - 1s 4ms/step - loss: 0.3113 - val_loss: 0.4272\n",
            "Epoch 26/50\n",
            "233/233 [==============================] - 1s 4ms/step - loss: 0.3111 - val_loss: 0.3694\n",
            "Epoch 27/50\n",
            "233/233 [==============================] - 1s 4ms/step - loss: 0.3108 - val_loss: 0.3261\n",
            "Epoch 28/50\n",
            "233/233 [==============================] - 1s 4ms/step - loss: 0.3080 - val_loss: 0.3448\n",
            "Epoch 29/50\n",
            "233/233 [==============================] - 1s 5ms/step - loss: 0.3053 - val_loss: 0.3425\n",
            "Epoch 30/50\n",
            "233/233 [==============================] - 1s 5ms/step - loss: 0.3039 - val_loss: 0.3498\n",
            "Epoch 31/50\n",
            "233/233 [==============================] - 1s 4ms/step - loss: 0.3001 - val_loss: 0.6017\n",
            "Epoch 32/50\n",
            "233/233 [==============================] - 1s 4ms/step - loss: 0.3029 - val_loss: 0.3436\n",
            "233/233 [==============================] - 1s 2ms/step - loss: 0.3443\n",
            "[CV] END .......learning_rate=0.01, n_hidden=3, n_neurons=50; total time=  32.3s\n"
          ]
        },
        {
          "output_type": "stream",
          "name": "stderr",
          "text": [
            "WARNING:absl:`lr` is deprecated in Keras optimizer, please use `learning_rate` or use the legacy optimizer, e.g.,tf.keras.optimizers.legacy.SGD.\n"
          ]
        },
        {
          "output_type": "stream",
          "name": "stdout",
          "text": [
            "Epoch 1/50\n",
            "233/233 [==============================] - 2s 5ms/step - loss: 0.8902 - val_loss: 0.5431\n",
            "Epoch 2/50\n",
            "233/233 [==============================] - 1s 4ms/step - loss: 0.5418 - val_loss: 0.4709\n",
            "Epoch 3/50\n",
            "233/233 [==============================] - 1s 4ms/step - loss: 0.4606 - val_loss: 0.4291\n",
            "Epoch 4/50\n",
            "233/233 [==============================] - 1s 4ms/step - loss: 0.4216 - val_loss: 0.4332\n",
            "Epoch 5/50\n",
            "233/233 [==============================] - 1s 4ms/step - loss: 0.4047 - val_loss: 0.4116\n",
            "Epoch 6/50\n",
            "233/233 [==============================] - 1s 4ms/step - loss: 0.3944 - val_loss: 0.4196\n",
            "Epoch 7/50\n",
            "233/233 [==============================] - 1s 4ms/step - loss: 0.3830 - val_loss: 0.4025\n",
            "Epoch 8/50\n",
            "233/233 [==============================] - 1s 5ms/step - loss: 0.3750 - val_loss: 0.4175\n",
            "Epoch 9/50\n",
            "233/233 [==============================] - 1s 6ms/step - loss: 0.3658 - val_loss: 0.3806\n",
            "Epoch 10/50\n",
            "233/233 [==============================] - 1s 4ms/step - loss: 0.3590 - val_loss: 0.3962\n",
            "Epoch 11/50\n",
            "233/233 [==============================] - 1s 4ms/step - loss: 0.3530 - val_loss: 0.3834\n",
            "Epoch 12/50\n",
            "233/233 [==============================] - 1s 4ms/step - loss: 0.3514 - val_loss: 0.3692\n",
            "Epoch 13/50\n",
            "233/233 [==============================] - 1s 4ms/step - loss: 0.3454 - val_loss: 0.4991\n",
            "Epoch 14/50\n",
            "233/233 [==============================] - 1s 4ms/step - loss: 0.3404 - val_loss: 0.3634\n",
            "Epoch 15/50\n",
            "233/233 [==============================] - 1s 4ms/step - loss: 0.3379 - val_loss: 0.3777\n",
            "Epoch 16/50\n",
            "233/233 [==============================] - 1s 4ms/step - loss: 0.3343 - val_loss: 0.3700\n",
            "Epoch 17/50\n",
            "233/233 [==============================] - 1s 4ms/step - loss: 0.3309 - val_loss: 0.3518\n",
            "Epoch 18/50\n",
            "233/233 [==============================] - 1s 4ms/step - loss: 0.3297 - val_loss: 0.3661\n",
            "Epoch 19/50\n",
            "233/233 [==============================] - 1s 4ms/step - loss: 0.3243 - val_loss: 0.4426\n",
            "Epoch 20/50\n",
            "233/233 [==============================] - 1s 4ms/step - loss: 0.3230 - val_loss: 0.3703\n",
            "Epoch 21/50\n",
            "233/233 [==============================] - 1s 5ms/step - loss: 0.3206 - val_loss: 0.3567\n",
            "Epoch 22/50\n",
            "233/233 [==============================] - 1s 5ms/step - loss: 0.3191 - val_loss: 0.3919\n",
            "233/233 [==============================] - 1s 2ms/step - loss: 0.3915\n",
            "[CV] END .......learning_rate=0.01, n_hidden=3, n_neurons=50; total time=  42.1s\n"
          ]
        },
        {
          "output_type": "stream",
          "name": "stderr",
          "text": [
            "WARNING:absl:`lr` is deprecated in Keras optimizer, please use `learning_rate` or use the legacy optimizer, e.g.,tf.keras.optimizers.legacy.SGD.\n"
          ]
        },
        {
          "output_type": "stream",
          "name": "stdout",
          "text": [
            "Epoch 1/50\n",
            "233/233 [==============================] - 2s 4ms/step - loss: 0.9006 - val_loss: 0.5470\n",
            "Epoch 2/50\n",
            "233/233 [==============================] - 1s 5ms/step - loss: 0.5320 - val_loss: 0.4565\n",
            "Epoch 3/50\n",
            "233/233 [==============================] - 1s 5ms/step - loss: 0.4388 - val_loss: 0.4351\n",
            "Epoch 4/50\n",
            "233/233 [==============================] - 1s 4ms/step - loss: 0.4157 - val_loss: 0.4151\n",
            "Epoch 5/50\n",
            "233/233 [==============================] - 1s 4ms/step - loss: 0.3990 - val_loss: 0.4535\n",
            "Epoch 6/50\n",
            "233/233 [==============================] - 1s 3ms/step - loss: 0.3882 - val_loss: 0.4020\n",
            "Epoch 7/50\n",
            "233/233 [==============================] - 1s 4ms/step - loss: 0.3794 - val_loss: 0.3954\n",
            "Epoch 8/50\n",
            "233/233 [==============================] - 1s 4ms/step - loss: 0.3716 - val_loss: 0.3883\n",
            "Epoch 9/50\n",
            "233/233 [==============================] - 1s 4ms/step - loss: 0.3638 - val_loss: 0.3860\n",
            "Epoch 10/50\n",
            "233/233 [==============================] - 1s 4ms/step - loss: 0.3607 - val_loss: 0.3785\n",
            "Epoch 11/50\n",
            "233/233 [==============================] - 1s 4ms/step - loss: 0.3539 - val_loss: 0.4274\n",
            "Epoch 12/50\n",
            "233/233 [==============================] - 1s 4ms/step - loss: 0.3501 - val_loss: 0.3739\n",
            "Epoch 13/50\n",
            "233/233 [==============================] - 1s 4ms/step - loss: 0.3445 - val_loss: 0.4412\n",
            "Epoch 14/50\n",
            "233/233 [==============================] - 1s 4ms/step - loss: 0.3412 - val_loss: 0.3969\n",
            "Epoch 15/50\n",
            "233/233 [==============================] - 1s 4ms/step - loss: 0.3355 - val_loss: 0.3932\n",
            "Epoch 16/50\n",
            "233/233 [==============================] - 1s 5ms/step - loss: 0.3352 - val_loss: 0.3987\n",
            "Epoch 17/50\n",
            "233/233 [==============================] - 1s 5ms/step - loss: 0.3290 - val_loss: 0.3637\n",
            "Epoch 18/50\n",
            "233/233 [==============================] - 1s 4ms/step - loss: 0.3244 - val_loss: 0.3674\n",
            "Epoch 19/50\n",
            "233/233 [==============================] - 1s 4ms/step - loss: 0.3235 - val_loss: 0.3462\n",
            "Epoch 20/50\n",
            "233/233 [==============================] - 1s 4ms/step - loss: 0.3186 - val_loss: 0.3535\n",
            "Epoch 21/50\n",
            "233/233 [==============================] - 1s 4ms/step - loss: 0.3154 - val_loss: 0.4207\n",
            "Epoch 22/50\n",
            "233/233 [==============================] - 1s 4ms/step - loss: 0.3144 - val_loss: 0.4177\n",
            "Epoch 23/50\n",
            "233/233 [==============================] - 1s 4ms/step - loss: 0.3105 - val_loss: 0.3658\n",
            "Epoch 24/50\n",
            "233/233 [==============================] - 1s 4ms/step - loss: 0.3099 - val_loss: 0.3447\n",
            "Epoch 25/50\n",
            "233/233 [==============================] - 1s 4ms/step - loss: 0.3064 - val_loss: 0.4029\n",
            "Epoch 26/50\n",
            "233/233 [==============================] - 1s 4ms/step - loss: 0.3059 - val_loss: 0.3754\n",
            "Epoch 27/50\n",
            "233/233 [==============================] - 1s 4ms/step - loss: 0.3063 - val_loss: 0.3327\n",
            "Epoch 28/50\n",
            "233/233 [==============================] - 1s 4ms/step - loss: 0.3032 - val_loss: 0.3477\n",
            "Epoch 29/50\n",
            "233/233 [==============================] - 1s 5ms/step - loss: 0.3005 - val_loss: 0.3480\n",
            "Epoch 30/50\n",
            "233/233 [==============================] - 1s 5ms/step - loss: 0.2990 - val_loss: 0.3421\n",
            "Epoch 31/50\n",
            "233/233 [==============================] - 1s 4ms/step - loss: 0.2960 - val_loss: 0.4624\n",
            "Epoch 32/50\n",
            "233/233 [==============================] - 1s 4ms/step - loss: 0.2977 - val_loss: 0.3501\n",
            "233/233 [==============================] - 1s 2ms/step - loss: 0.3409\n",
            "[CV] END .....learning_rate=0.0003, n_hidden=3, n_neurons=65; total time=  42.2s\n"
          ]
        },
        {
          "output_type": "stream",
          "name": "stderr",
          "text": [
            "WARNING:absl:`lr` is deprecated in Keras optimizer, please use `learning_rate` or use the legacy optimizer, e.g.,tf.keras.optimizers.legacy.SGD.\n"
          ]
        },
        {
          "output_type": "stream",
          "name": "stdout",
          "text": [
            "Epoch 1/50\n",
            "233/233 [==============================] - 2s 4ms/step - loss: 0.9540 - val_loss: 0.5403\n",
            "Epoch 2/50\n",
            "233/233 [==============================] - 1s 4ms/step - loss: 0.5023 - val_loss: 0.4564\n",
            "Epoch 3/50\n",
            "233/233 [==============================] - 1s 4ms/step - loss: 0.4455 - val_loss: 0.4296\n",
            "Epoch 4/50\n",
            "233/233 [==============================] - 1s 3ms/step - loss: 0.4222 - val_loss: 0.4328\n",
            "Epoch 5/50\n",
            "233/233 [==============================] - 1s 4ms/step - loss: 0.4059 - val_loss: 0.4103\n",
            "Epoch 6/50\n",
            "233/233 [==============================] - 1s 3ms/step - loss: 0.3937 - val_loss: 0.4072\n",
            "Epoch 7/50\n",
            "233/233 [==============================] - 1s 4ms/step - loss: 0.3859 - val_loss: 0.3982\n",
            "Epoch 8/50\n",
            "233/233 [==============================] - 1s 4ms/step - loss: 0.3769 - val_loss: 0.4061\n",
            "Epoch 9/50\n",
            "233/233 [==============================] - 1s 4ms/step - loss: 0.3685 - val_loss: 0.3821\n",
            "Epoch 10/50\n",
            "233/233 [==============================] - 1s 5ms/step - loss: 0.3623 - val_loss: 0.4030\n",
            "Epoch 11/50\n",
            "233/233 [==============================] - 1s 5ms/step - loss: 0.3553 - val_loss: 0.3932\n",
            "Epoch 12/50\n",
            "233/233 [==============================] - 1s 4ms/step - loss: 0.3568 - val_loss: 0.3702\n",
            "Epoch 13/50\n",
            "233/233 [==============================] - 1s 4ms/step - loss: 0.3474 - val_loss: 0.4266\n",
            "Epoch 14/50\n",
            "233/233 [==============================] - 1s 4ms/step - loss: 0.3429 - val_loss: 0.3627\n",
            "Epoch 15/50\n",
            "233/233 [==============================] - 1s 4ms/step - loss: 0.3386 - val_loss: 0.3675\n",
            "Epoch 16/50\n",
            "233/233 [==============================] - 1s 4ms/step - loss: 0.3345 - val_loss: 0.3750\n",
            "Epoch 17/50\n",
            "233/233 [==============================] - 1s 4ms/step - loss: 0.3319 - val_loss: 0.3486\n",
            "Epoch 18/50\n",
            "233/233 [==============================] - 1s 4ms/step - loss: 0.3301 - val_loss: 0.3596\n",
            "Epoch 19/50\n",
            "233/233 [==============================] - 1s 4ms/step - loss: 0.3258 - val_loss: 0.4354\n",
            "Epoch 20/50\n",
            "233/233 [==============================] - 1s 4ms/step - loss: 0.3232 - val_loss: 0.3760\n",
            "Epoch 21/50\n",
            "233/233 [==============================] - 1s 4ms/step - loss: 0.3222 - val_loss: 0.3499\n",
            "Epoch 22/50\n",
            "233/233 [==============================] - 1s 4ms/step - loss: 0.3178 - val_loss: 0.3698\n",
            "233/233 [==============================] - 1s 2ms/step - loss: 0.3625\n",
            "[CV] END .....learning_rate=0.0003, n_hidden=3, n_neurons=65; total time=  42.2s\n"
          ]
        },
        {
          "output_type": "stream",
          "name": "stderr",
          "text": [
            "WARNING:absl:`lr` is deprecated in Keras optimizer, please use `learning_rate` or use the legacy optimizer, e.g.,tf.keras.optimizers.legacy.SGD.\n"
          ]
        },
        {
          "output_type": "stream",
          "name": "stdout",
          "text": [
            "Epoch 1/50\n",
            "233/233 [==============================] - 2s 4ms/step - loss: 0.8810 - val_loss: 0.5898\n",
            "Epoch 2/50\n",
            "233/233 [==============================] - 1s 4ms/step - loss: 0.5295 - val_loss: 0.4923\n",
            "Epoch 3/50\n",
            "233/233 [==============================] - 1s 5ms/step - loss: 0.4761 - val_loss: 0.4715\n",
            "Epoch 4/50\n",
            "233/233 [==============================] - 1s 5ms/step - loss: 0.4626 - val_loss: 0.4551\n",
            "Epoch 5/50\n",
            "233/233 [==============================] - 1s 4ms/step - loss: 0.4548 - val_loss: 0.4697\n",
            "Epoch 6/50\n",
            "233/233 [==============================] - 1s 4ms/step - loss: 0.4509 - val_loss: 0.4443\n",
            "Epoch 7/50\n",
            "233/233 [==============================] - 1s 4ms/step - loss: 0.4486 - val_loss: 0.4414\n",
            "Epoch 8/50\n",
            "233/233 [==============================] - 1s 3ms/step - loss: 0.4444 - val_loss: 0.4395\n",
            "Epoch 9/50\n",
            "233/233 [==============================] - 1s 3ms/step - loss: 0.4410 - val_loss: 0.4439\n",
            "Epoch 10/50\n",
            "233/233 [==============================] - 1s 4ms/step - loss: 0.4398 - val_loss: 0.4366\n",
            "Epoch 11/50\n",
            "233/233 [==============================] - 1s 4ms/step - loss: 0.4375 - val_loss: 0.4489\n",
            "Epoch 12/50\n",
            "233/233 [==============================] - 1s 3ms/step - loss: 0.4347 - val_loss: 0.4318\n",
            "Epoch 13/50\n",
            "233/233 [==============================] - 1s 3ms/step - loss: 0.4313 - val_loss: 0.4471\n",
            "Epoch 14/50\n",
            "233/233 [==============================] - 1s 3ms/step - loss: 0.4296 - val_loss: 0.4339\n",
            "Epoch 15/50\n",
            "233/233 [==============================] - 1s 4ms/step - loss: 0.4266 - val_loss: 0.4626\n",
            "Epoch 16/50\n",
            "233/233 [==============================] - 1s 4ms/step - loss: 0.4265 - val_loss: 0.4333\n",
            "Epoch 17/50\n",
            "233/233 [==============================] - 1s 5ms/step - loss: 0.4241 - val_loss: 0.4259\n",
            "Epoch 18/50\n",
            "233/233 [==============================] - 1s 5ms/step - loss: 0.4218 - val_loss: 0.4267\n",
            "Epoch 19/50\n",
            "233/233 [==============================] - 1s 4ms/step - loss: 0.4210 - val_loss: 0.4218\n",
            "Epoch 20/50\n",
            "233/233 [==============================] - 1s 4ms/step - loss: 0.4199 - val_loss: 0.4159\n",
            "Epoch 21/50\n",
            "233/233 [==============================] - 1s 4ms/step - loss: 0.4183 - val_loss: 0.4210\n",
            "Epoch 22/50\n",
            "233/233 [==============================] - 1s 4ms/step - loss: 0.4161 - val_loss: 0.4411\n",
            "Epoch 23/50\n",
            "233/233 [==============================] - 1s 4ms/step - loss: 0.4140 - val_loss: 0.4222\n",
            "Epoch 24/50\n",
            "233/233 [==============================] - 1s 3ms/step - loss: 0.4142 - val_loss: 0.4151\n",
            "Epoch 25/50\n",
            "233/233 [==============================] - 1s 3ms/step - loss: 0.4098 - val_loss: 0.4727\n",
            "Epoch 26/50\n",
            "233/233 [==============================] - 1s 4ms/step - loss: 0.4096 - val_loss: 0.4271\n",
            "Epoch 27/50\n",
            "233/233 [==============================] - 1s 3ms/step - loss: 0.4103 - val_loss: 0.4119\n",
            "Epoch 28/50\n",
            "233/233 [==============================] - 1s 4ms/step - loss: 0.4099 - val_loss: 0.4244\n",
            "Epoch 29/50\n",
            "233/233 [==============================] - 1s 4ms/step - loss: 0.4069 - val_loss: 0.4081\n",
            "Epoch 30/50\n",
            "233/233 [==============================] - 1s 4ms/step - loss: 0.4065 - val_loss: 0.4254\n",
            "Epoch 31/50\n",
            "233/233 [==============================] - 1s 5ms/step - loss: 0.4057 - val_loss: 0.5581\n",
            "Epoch 32/50\n",
            "233/233 [==============================] - 1s 5ms/step - loss: 0.4061 - val_loss: 0.4130\n",
            "Epoch 33/50\n",
            "233/233 [==============================] - 1s 3ms/step - loss: 0.4025 - val_loss: 0.4283\n",
            "Epoch 34/50\n",
            "233/233 [==============================] - 1s 4ms/step - loss: 0.4001 - val_loss: 0.4248\n",
            "233/233 [==============================] - 0s 2ms/step - loss: 0.4242\n"
          ]
        },
        {
          "output_type": "stream",
          "name": "stderr",
          "text": [
            "WARNING:absl:`lr` is deprecated in Keras optimizer, please use `learning_rate` or use the legacy optimizer, e.g.,tf.keras.optimizers.legacy.SGD.\n"
          ]
        },
        {
          "output_type": "stream",
          "name": "stdout",
          "text": [
            "[CV] END ........learning_rate=0.01, n_hidden=2, n_neurons=5; total time=  42.1s\n",
            "Epoch 1/50\n",
            "233/233 [==============================] - 1s 4ms/step - loss: 1.0218 - val_loss: 0.6276\n",
            "Epoch 2/50\n",
            "233/233 [==============================] - 1s 4ms/step - loss: 0.5979 - val_loss: 0.5590\n",
            "Epoch 3/50\n",
            "233/233 [==============================] - 1s 3ms/step - loss: 0.5560 - val_loss: 0.5168\n",
            "Epoch 4/50\n",
            "233/233 [==============================] - 1s 3ms/step - loss: 0.5275 - val_loss: 0.5052\n",
            "Epoch 5/50\n",
            "233/233 [==============================] - 1s 3ms/step - loss: 0.5034 - val_loss: 0.4862\n",
            "Epoch 6/50\n",
            "233/233 [==============================] - 1s 3ms/step - loss: 0.4883 - val_loss: 0.4661\n",
            "Epoch 7/50\n",
            "233/233 [==============================] - 1s 3ms/step - loss: 0.4785 - val_loss: 0.4615\n",
            "Epoch 8/50\n",
            "233/233 [==============================] - 1s 3ms/step - loss: 0.4653 - val_loss: 0.4605\n",
            "Epoch 9/50\n",
            "233/233 [==============================] - 1s 3ms/step - loss: 0.4555 - val_loss: 0.4444\n",
            "Epoch 10/50\n",
            "233/233 [==============================] - 1s 4ms/step - loss: 0.4504 - val_loss: 0.4428\n",
            "Epoch 11/50\n",
            "233/233 [==============================] - 1s 5ms/step - loss: 0.4434 - val_loss: 0.4594\n",
            "Epoch 12/50\n",
            "233/233 [==============================] - 1s 5ms/step - loss: 0.4410 - val_loss: 0.4372\n",
            "Epoch 13/50\n",
            "233/233 [==============================] - 1s 4ms/step - loss: 0.4343 - val_loss: 0.4450\n",
            "Epoch 14/50\n",
            "233/233 [==============================] - 1s 4ms/step - loss: 0.4308 - val_loss: 0.4239\n",
            "Epoch 15/50\n",
            "233/233 [==============================] - 1s 3ms/step - loss: 0.4268 - val_loss: 0.4254\n",
            "Epoch 16/50\n",
            "233/233 [==============================] - 1s 3ms/step - loss: 0.4256 - val_loss: 0.4276\n",
            "Epoch 17/50\n",
            "233/233 [==============================] - 1s 4ms/step - loss: 0.4238 - val_loss: 0.4180\n",
            "Epoch 18/50\n",
            "233/233 [==============================] - 1s 3ms/step - loss: 0.4220 - val_loss: 0.4163\n",
            "Epoch 19/50\n",
            "233/233 [==============================] - 1s 4ms/step - loss: 0.4218 - val_loss: 0.4544\n",
            "Epoch 20/50\n",
            "233/233 [==============================] - 1s 4ms/step - loss: 0.4187 - val_loss: 0.4194\n",
            "Epoch 21/50\n",
            "233/233 [==============================] - 1s 3ms/step - loss: 0.4151 - val_loss: 0.4180\n",
            "Epoch 22/50\n",
            "233/233 [==============================] - 1s 4ms/step - loss: 0.4161 - val_loss: 0.4209\n",
            "Epoch 23/50\n",
            "233/233 [==============================] - 1s 3ms/step - loss: 0.4155 - val_loss: 0.4270\n",
            "233/233 [==============================] - 1s 2ms/step - loss: 0.4314\n",
            "[CV] END ........learning_rate=0.01, n_hidden=2, n_neurons=5; total time=  21.1s\n"
          ]
        },
        {
          "output_type": "stream",
          "name": "stderr",
          "text": [
            "WARNING:absl:`lr` is deprecated in Keras optimizer, please use `learning_rate` or use the legacy optimizer, e.g.,tf.keras.optimizers.legacy.SGD.\n"
          ]
        },
        {
          "output_type": "stream",
          "name": "stdout",
          "text": [
            "Epoch 1/50\n",
            "465/465 [==============================] - 3s 5ms/step - loss: 0.7213 - val_loss: 0.4875\n",
            "Epoch 2/50\n",
            "465/465 [==============================] - 2s 4ms/step - loss: 0.4663 - val_loss: 0.4478\n",
            "Epoch 3/50\n",
            "465/465 [==============================] - 2s 3ms/step - loss: 0.4206 - val_loss: 0.4510\n",
            "Epoch 4/50\n",
            "465/465 [==============================] - 2s 4ms/step - loss: 0.3972 - val_loss: 0.4023\n",
            "Epoch 5/50\n",
            "465/465 [==============================] - 2s 4ms/step - loss: 0.3888 - val_loss: 0.3963\n",
            "Epoch 6/50\n",
            "465/465 [==============================] - 2s 4ms/step - loss: 0.3713 - val_loss: 0.3867\n",
            "Epoch 7/50\n",
            "465/465 [==============================] - 2s 4ms/step - loss: 0.3670 - val_loss: 0.3921\n",
            "Epoch 8/50\n",
            "465/465 [==============================] - 2s 5ms/step - loss: 0.3506 - val_loss: 0.3604\n",
            "Epoch 9/50\n",
            "465/465 [==============================] - 2s 3ms/step - loss: 0.3426 - val_loss: 0.3669\n",
            "Epoch 10/50\n",
            "465/465 [==============================] - 2s 3ms/step - loss: 0.3344 - val_loss: 0.3902\n",
            "Epoch 11/50\n",
            "465/465 [==============================] - 2s 4ms/step - loss: 0.3293 - val_loss: 0.3907\n",
            "Epoch 12/50\n",
            "465/465 [==============================] - 2s 3ms/step - loss: 0.3259 - val_loss: 0.3328\n",
            "Epoch 13/50\n",
            "465/465 [==============================] - 2s 3ms/step - loss: 0.3209 - val_loss: 0.3567\n",
            "Epoch 14/50\n",
            "465/465 [==============================] - 2s 4ms/step - loss: 0.3194 - val_loss: 0.3273\n",
            "Epoch 15/50\n",
            "465/465 [==============================] - 2s 4ms/step - loss: 0.3156 - val_loss: 0.3891\n",
            "Epoch 16/50\n",
            "465/465 [==============================] - 2s 4ms/step - loss: 0.3142 - val_loss: 0.3359\n",
            "Epoch 17/50\n",
            "465/465 [==============================] - 2s 3ms/step - loss: 0.3117 - val_loss: 0.3620\n",
            "Epoch 18/50\n",
            "465/465 [==============================] - 2s 3ms/step - loss: 0.3112 - val_loss: 0.3567\n",
            "Epoch 19/50\n",
            "465/465 [==============================] - 2s 3ms/step - loss: 0.3076 - val_loss: 0.3467\n"
          ]
        },
        {
          "output_type": "execute_result",
          "data": {
            "text/plain": [
              "RandomizedSearchCV(cv=2,\n",
              "                   estimator=<keras.wrappers.scikit_learn.KerasRegressor object at 0x7a4a9fec4580>,\n",
              "                   param_distributions={'learning_rate': [0.0001, 0.0003, 0.001,\n",
              "                                                          0.003, 0.01, 0.03],\n",
              "                                        'n_hidden': [1, 2, 3, 4],\n",
              "                                        'n_neurons': array([  5,  10,  15,  20,  25,  30,  35,  40,  45,  50,  55,  60,  65,\n",
              "        70,  75,  80,  85,  90,  95, 100])},\n",
              "                   verbose=2)"
            ],
            "text/html": [
              "<style>#sk-container-id-1 {color: black;background-color: white;}#sk-container-id-1 pre{padding: 0;}#sk-container-id-1 div.sk-toggleable {background-color: white;}#sk-container-id-1 label.sk-toggleable__label {cursor: pointer;display: block;width: 100%;margin-bottom: 0;padding: 0.3em;box-sizing: border-box;text-align: center;}#sk-container-id-1 label.sk-toggleable__label-arrow:before {content: \"▸\";float: left;margin-right: 0.25em;color: #696969;}#sk-container-id-1 label.sk-toggleable__label-arrow:hover:before {color: black;}#sk-container-id-1 div.sk-estimator:hover label.sk-toggleable__label-arrow:before {color: black;}#sk-container-id-1 div.sk-toggleable__content {max-height: 0;max-width: 0;overflow: hidden;text-align: left;background-color: #f0f8ff;}#sk-container-id-1 div.sk-toggleable__content pre {margin: 0.2em;color: black;border-radius: 0.25em;background-color: #f0f8ff;}#sk-container-id-1 input.sk-toggleable__control:checked~div.sk-toggleable__content {max-height: 200px;max-width: 100%;overflow: auto;}#sk-container-id-1 input.sk-toggleable__control:checked~label.sk-toggleable__label-arrow:before {content: \"▾\";}#sk-container-id-1 div.sk-estimator input.sk-toggleable__control:checked~label.sk-toggleable__label {background-color: #d4ebff;}#sk-container-id-1 div.sk-label input.sk-toggleable__control:checked~label.sk-toggleable__label {background-color: #d4ebff;}#sk-container-id-1 input.sk-hidden--visually {border: 0;clip: rect(1px 1px 1px 1px);clip: rect(1px, 1px, 1px, 1px);height: 1px;margin: -1px;overflow: hidden;padding: 0;position: absolute;width: 1px;}#sk-container-id-1 div.sk-estimator {font-family: monospace;background-color: #f0f8ff;border: 1px dotted black;border-radius: 0.25em;box-sizing: border-box;margin-bottom: 0.5em;}#sk-container-id-1 div.sk-estimator:hover {background-color: #d4ebff;}#sk-container-id-1 div.sk-parallel-item::after {content: \"\";width: 100%;border-bottom: 1px solid gray;flex-grow: 1;}#sk-container-id-1 div.sk-label:hover label.sk-toggleable__label {background-color: #d4ebff;}#sk-container-id-1 div.sk-serial::before {content: \"\";position: absolute;border-left: 1px solid gray;box-sizing: border-box;top: 0;bottom: 0;left: 50%;z-index: 0;}#sk-container-id-1 div.sk-serial {display: flex;flex-direction: column;align-items: center;background-color: white;padding-right: 0.2em;padding-left: 0.2em;position: relative;}#sk-container-id-1 div.sk-item {position: relative;z-index: 1;}#sk-container-id-1 div.sk-parallel {display: flex;align-items: stretch;justify-content: center;background-color: white;position: relative;}#sk-container-id-1 div.sk-item::before, #sk-container-id-1 div.sk-parallel-item::before {content: \"\";position: absolute;border-left: 1px solid gray;box-sizing: border-box;top: 0;bottom: 0;left: 50%;z-index: -1;}#sk-container-id-1 div.sk-parallel-item {display: flex;flex-direction: column;z-index: 1;position: relative;background-color: white;}#sk-container-id-1 div.sk-parallel-item:first-child::after {align-self: flex-end;width: 50%;}#sk-container-id-1 div.sk-parallel-item:last-child::after {align-self: flex-start;width: 50%;}#sk-container-id-1 div.sk-parallel-item:only-child::after {width: 0;}#sk-container-id-1 div.sk-dashed-wrapped {border: 1px dashed gray;margin: 0 0.4em 0.5em 0.4em;box-sizing: border-box;padding-bottom: 0.4em;background-color: white;}#sk-container-id-1 div.sk-label label {font-family: monospace;font-weight: bold;display: inline-block;line-height: 1.2em;}#sk-container-id-1 div.sk-label-container {text-align: center;}#sk-container-id-1 div.sk-container {/* jupyter's `normalize.less` sets `[hidden] { display: none; }` but bootstrap.min.css set `[hidden] { display: none !important; }` so we also need the `!important` here to be able to override the default hidden behavior on the sphinx rendered scikit-learn.org. See: https://github.com/scikit-learn/scikit-learn/issues/21755 */display: inline-block !important;position: relative;}#sk-container-id-1 div.sk-text-repr-fallback {display: none;}</style><div id=\"sk-container-id-1\" class=\"sk-top-container\"><div class=\"sk-text-repr-fallback\"><pre>RandomizedSearchCV(cv=2,\n",
              "                   estimator=&lt;keras.wrappers.scikit_learn.KerasRegressor object at 0x7a4a9fec4580&gt;,\n",
              "                   param_distributions={&#x27;learning_rate&#x27;: [0.0001, 0.0003, 0.001,\n",
              "                                                          0.003, 0.01, 0.03],\n",
              "                                        &#x27;n_hidden&#x27;: [1, 2, 3, 4],\n",
              "                                        &#x27;n_neurons&#x27;: array([  5,  10,  15,  20,  25,  30,  35,  40,  45,  50,  55,  60,  65,\n",
              "        70,  75,  80,  85,  90,  95, 100])},\n",
              "                   verbose=2)</pre><b>In a Jupyter environment, please rerun this cell to show the HTML representation or trust the notebook. <br />On GitHub, the HTML representation is unable to render, please try loading this page with nbviewer.org.</b></div><div class=\"sk-container\" hidden><div class=\"sk-item sk-dashed-wrapped\"><div class=\"sk-label-container\"><div class=\"sk-label sk-toggleable\"><input class=\"sk-toggleable__control sk-hidden--visually\" id=\"sk-estimator-id-1\" type=\"checkbox\" ><label for=\"sk-estimator-id-1\" class=\"sk-toggleable__label sk-toggleable__label-arrow\">RandomizedSearchCV</label><div class=\"sk-toggleable__content\"><pre>RandomizedSearchCV(cv=2,\n",
              "                   estimator=&lt;keras.wrappers.scikit_learn.KerasRegressor object at 0x7a4a9fec4580&gt;,\n",
              "                   param_distributions={&#x27;learning_rate&#x27;: [0.0001, 0.0003, 0.001,\n",
              "                                                          0.003, 0.01, 0.03],\n",
              "                                        &#x27;n_hidden&#x27;: [1, 2, 3, 4],\n",
              "                                        &#x27;n_neurons&#x27;: array([  5,  10,  15,  20,  25,  30,  35,  40,  45,  50,  55,  60,  65,\n",
              "        70,  75,  80,  85,  90,  95, 100])},\n",
              "                   verbose=2)</pre></div></div></div><div class=\"sk-parallel\"><div class=\"sk-parallel-item\"><div class=\"sk-item\"><div class=\"sk-label-container\"><div class=\"sk-label sk-toggleable\"><input class=\"sk-toggleable__control sk-hidden--visually\" id=\"sk-estimator-id-2\" type=\"checkbox\" ><label for=\"sk-estimator-id-2\" class=\"sk-toggleable__label sk-toggleable__label-arrow\">estimator: KerasRegressor</label><div class=\"sk-toggleable__content\"><pre>&lt;keras.wrappers.scikit_learn.KerasRegressor object at 0x7a4a9fec4580&gt;</pre></div></div></div><div class=\"sk-serial\"><div class=\"sk-item\"><div class=\"sk-estimator sk-toggleable\"><input class=\"sk-toggleable__control sk-hidden--visually\" id=\"sk-estimator-id-3\" type=\"checkbox\" ><label for=\"sk-estimator-id-3\" class=\"sk-toggleable__label sk-toggleable__label-arrow\">KerasRegressor</label><div class=\"sk-toggleable__content\"><pre>&lt;keras.wrappers.scikit_learn.KerasRegressor object at 0x7a4a9fec4580&gt;</pre></div></div></div></div></div></div></div></div></div></div>"
            ]
          },
          "metadata": {},
          "execution_count": 124
        }
      ]
    },
    {
      "cell_type": "code",
      "metadata": {
        "id": "_Hh0OEWoc6FC",
        "colab": {
          "base_uri": "https://localhost:8080/"
        },
        "outputId": "56b97f1e-3a26-402a-d6ec-435d81ce619d"
      },
      "source": [
        "rnd_search_cv.best_params_"
      ],
      "execution_count": null,
      "outputs": [
        {
          "output_type": "execute_result",
          "data": {
            "text/plain": [
              "{'n_neurons': 25, 'n_hidden': 3, 'learning_rate': 0.01}"
            ]
          },
          "metadata": {},
          "execution_count": 125
        }
      ]
    },
    {
      "cell_type": "code",
      "metadata": {
        "id": "0InOOLSmi1pb",
        "colab": {
          "base_uri": "https://localhost:8080/"
        },
        "outputId": "070d98c3-a58c-4faf-df3b-99f56d7c7b57"
      },
      "source": [
        "rnd_search_cv.best_score_"
      ],
      "execution_count": null,
      "outputs": [
        {
          "output_type": "execute_result",
          "data": {
            "text/plain": [
              "-0.3482712209224701"
            ]
          },
          "metadata": {},
          "execution_count": 126
        }
      ]
    },
    {
      "cell_type": "code",
      "metadata": {
        "id": "eNh9UVHPi1sH",
        "colab": {
          "base_uri": "https://localhost:8080/"
        },
        "outputId": "4b84f4ad-7c11-4f10-9922-fc34632bd041"
      },
      "source": [
        "rnd_search_cv.best_estimator_"
      ],
      "execution_count": null,
      "outputs": [
        {
          "output_type": "execute_result",
          "data": {
            "text/plain": [
              "<keras.wrappers.scikit_learn.KerasRegressor at 0x7a4a9dc0d990>"
            ]
          },
          "metadata": {},
          "execution_count": 127
        }
      ]
    },
    {
      "cell_type": "code",
      "metadata": {
        "id": "dOwAkPdSi1ui",
        "colab": {
          "base_uri": "https://localhost:8080/"
        },
        "outputId": "b08370df-47a0-4fd6-8fc7-df87e649b00b"
      },
      "source": [
        "rnd_search_cv.cv_results_"
      ],
      "execution_count": null,
      "outputs": [
        {
          "output_type": "execute_result",
          "data": {
            "text/plain": [
              "{'mean_fit_time': array([22.93567836, 23.53255987, 26.33483839, 20.01375329, 19.57575345,\n",
              "        36.1527127 , 19.41298044, 26.78618193, 26.26265252, 26.10778594]),\n",
              " 'std_fit_time': array([1.15421474, 4.63470483, 3.47014165, 3.35893357, 3.60402155,\n",
              "        4.39301193, 2.65634906, 4.88330317, 4.97095549, 5.56988573]),\n",
              " 'mean_score_time': array([12.75174665,  8.55077946, 15.80372298,  0.6233325 , 12.39242375,\n",
              "         5.57822168,  3.03559124, 10.41979158, 15.89844203,  5.47557557]),\n",
              " 'std_score_time': array([7.52885222, 5.20211589, 3.31037748, 0.06302595, 6.73768342,\n",
              "        4.86418593, 2.3541609 , 9.82721531, 4.96750593, 4.92232454]),\n",
              " 'param_n_neurons': masked_array(data=[85, 50, 25, 75, 30, 20, 70, 50, 65, 5],\n",
              "              mask=[False, False, False, False, False, False, False, False,\n",
              "                    False, False],\n",
              "        fill_value='?',\n",
              "             dtype=object),\n",
              " 'param_n_hidden': masked_array(data=[4, 2, 3, 4, 4, 3, 3, 3, 3, 2],\n",
              "              mask=[False, False, False, False, False, False, False, False,\n",
              "                    False, False],\n",
              "        fill_value='?',\n",
              "             dtype=object),\n",
              " 'param_learning_rate': masked_array(data=[0.0001, 0.03, 0.01, 0.001, 0.03, 0.03, 0.01, 0.01,\n",
              "                    0.0003, 0.01],\n",
              "              mask=[False, False, False, False, False, False, False, False,\n",
              "                    False, False],\n",
              "        fill_value='?',\n",
              "             dtype=object),\n",
              " 'params': [{'n_neurons': 85, 'n_hidden': 4, 'learning_rate': 0.0001},\n",
              "  {'n_neurons': 50, 'n_hidden': 2, 'learning_rate': 0.03},\n",
              "  {'n_neurons': 25, 'n_hidden': 3, 'learning_rate': 0.01},\n",
              "  {'n_neurons': 75, 'n_hidden': 4, 'learning_rate': 0.001},\n",
              "  {'n_neurons': 30, 'n_hidden': 4, 'learning_rate': 0.03},\n",
              "  {'n_neurons': 20, 'n_hidden': 3, 'learning_rate': 0.03},\n",
              "  {'n_neurons': 70, 'n_hidden': 3, 'learning_rate': 0.01},\n",
              "  {'n_neurons': 50, 'n_hidden': 3, 'learning_rate': 0.01},\n",
              "  {'n_neurons': 65, 'n_hidden': 3, 'learning_rate': 0.0003},\n",
              "  {'n_neurons': 5, 'n_hidden': 2, 'learning_rate': 0.01}],\n",
              " 'split0_test_score': array([-0.44038567, -0.34016883, -0.32848898, -0.42357287, -0.42852819,\n",
              "        -0.38443717, -0.42158505, -0.34430355, -0.34088778, -0.42423829]),\n",
              " 'split1_test_score': array([-0.40177828, -0.36160883, -0.36805347, -0.36949775, -0.4024635 ,\n",
              "        -0.34740657, -0.38841331, -0.39145905, -0.36248785, -0.4313781 ]),\n",
              " 'mean_test_score': array([-0.42108198, -0.35088883, -0.34827122, -0.39653531, -0.41549584,\n",
              "        -0.36592187, -0.40499918, -0.3678813 , -0.35168782, -0.4278082 ]),\n",
              " 'std_test_score': array([0.01930369, 0.01072   , 0.01978225, 0.02703756, 0.01303235,\n",
              "        0.0185153 , 0.01658587, 0.02357775, 0.01080003, 0.0035699 ]),\n",
              " 'rank_test_score': array([ 9,  2,  1,  6,  8,  4,  7,  5,  3, 10], dtype=int32)}"
            ]
          },
          "metadata": {},
          "execution_count": 128
        }
      ]
    },
    {
      "cell_type": "code",
      "metadata": {
        "id": "A5RXKWWJjXmf"
      },
      "source": [],
      "execution_count": null,
      "outputs": []
    },
    {
      "cell_type": "markdown",
      "source": [
        "Now let's try the [keras tuner.](https://keras.io/api/keras_tuner/)"
      ],
      "metadata": {
        "id": "aHwhNS92QCJg"
      }
    },
    {
      "cell_type": "code",
      "source": [
        "# Install and import keras tuner\n",
        "!pip install -q -U keras-tuner\n",
        "#!pip install keras-tuner --upgrade  # might also work\n",
        "import keras_tuner as kt"
      ],
      "metadata": {
        "id": "_PRWr3mZQCzq",
        "colab": {
          "base_uri": "https://localhost:8080/"
        },
        "outputId": "deb4ed98-a61d-4cd4-fdba-49c016f4d731"
      },
      "execution_count": null,
      "outputs": [
        {
          "output_type": "stream",
          "name": "stdout",
          "text": [
            "\u001b[?25l     \u001b[90m━━━━━━━━━━━━━━━━━━━━━━━━━━━━━━━━━━━━━━━━\u001b[0m \u001b[32m0.0/176.1 kB\u001b[0m \u001b[31m?\u001b[0m eta \u001b[36m-:--:--\u001b[0m\r\u001b[2K     \u001b[91m━━━━━━━━━━━━━\u001b[0m\u001b[91m╸\u001b[0m\u001b[90m━━━━━━━━━━━━━━━━━━━━━━━━━━\u001b[0m \u001b[32m61.4/176.1 kB\u001b[0m \u001b[31m2.3 MB/s\u001b[0m eta \u001b[36m0:00:01\u001b[0m\r\u001b[2K     \u001b[90m━━━━━━━━━━━━━━━━━━━━━━━━━━━━━━━━━━━━━━━\u001b[0m \u001b[32m176.1/176.1 kB\u001b[0m \u001b[31m3.0 MB/s\u001b[0m eta \u001b[36m0:00:00\u001b[0m\n",
            "\u001b[?25h"
          ]
        }
      ]
    },
    {
      "cell_type": "code",
      "source": [
        "# Create a model builder function again\n",
        "# Note the utilization of \"hp\" for all hyperparameters\n",
        "def build_model(hp):\n",
        "  model = keras.Sequential()\n",
        "  model.add(keras.layers.Dense(\n",
        "      hp.Int('units', min_value=8, max_value=32, step=8),\n",
        "      activation='relu'))\n",
        "  model.add(keras.layers.Dense(\n",
        "      hp.Choice('units_2', [8, 16, 32]),   # note different name\n",
        "      activation='relu'))\n",
        "  model.add(keras.layers.Dense(1))\n",
        "\n",
        "  hp_learning_rate = hp.Choice('learning_rate', values=[1e-2, 1e-3, 1e-4])\n",
        "\n",
        "  model.compile(loss='mse', optimizer=keras.optimizers.Adam(learning_rate=hp_learning_rate))\n",
        "  # may need to add metrics argument for accuracy objective\n",
        "  return model\n",
        "\n",
        "# This has 3 parameters: units, units_2, and learning_rate\n",
        "# Note this doesn't vary the number of hidden layers (we always have two)\n",
        "#   How could we write a builder function that would do this?"
      ],
      "metadata": {
        "id": "hzetfpEAQh6M"
      },
      "execution_count": null,
      "outputs": []
    },
    {
      "cell_type": "code",
      "source": [
        "tuner = kt.Hyperband(build_model,\n",
        "                     objective='val_loss'#, # would use 'val_accuracy' for classification\n",
        "                     #overwrite=True,  # to build a second tuner after the first (it will keep the first in memory and give an error otherwise)\n",
        "                     #max_epochs=20,\n",
        "                     )\n",
        "# there are many types of tuners: RandomSearch, BayesianOptimization, Sklearn, and this Hyperband\n",
        "# https://keras.io/api/keras_tuner/tuners/"
      ],
      "metadata": {
        "id": "zzxuygoqQiUh"
      },
      "execution_count": null,
      "outputs": []
    },
    {
      "cell_type": "code",
      "source": [
        "tuner.search(X_train_tr, y_train_tr, epochs=20, validation_data=(X_train_v, y_train_v),\n",
        "             callbacks=[keras.callbacks.EarlyStopping(patience=5)])"
      ],
      "metadata": {
        "colab": {
          "base_uri": "https://localhost:8080/"
        },
        "id": "Au49kNNGXy5t",
        "outputId": "4999f7dd-3061-4be1-e529-f563ff033ebe"
      },
      "execution_count": null,
      "outputs": [
        {
          "output_type": "stream",
          "name": "stdout",
          "text": [
            "Trial 36 Complete [00h 00m 05s]\n",
            "val_loss: 0.36327341198921204\n",
            "\n",
            "Best val_loss So Far: 0.3450376093387604\n",
            "Total elapsed time: 00h 03m 42s\n"
          ]
        }
      ]
    },
    {
      "cell_type": "code",
      "source": [
        "tuner.results_summary()"
      ],
      "metadata": {
        "colab": {
          "base_uri": "https://localhost:8080/"
        },
        "id": "rUsqMEtjcBZ8",
        "outputId": "b29f3058-16ef-455e-c099-61be23e92175"
      },
      "execution_count": null,
      "outputs": [
        {
          "output_type": "stream",
          "name": "stdout",
          "text": [
            "Results summary\n",
            "Results in ./untitled_project\n",
            "Showing 10 best trials\n",
            "Objective(name=\"val_loss\", direction=\"min\")\n",
            "\n",
            "Trial 0001 summary\n",
            "Hyperparameters:\n",
            "units: 32\n",
            "units_2: 32\n",
            "learning_rate: 0.01\n",
            "tuner/epochs: 2\n",
            "tuner/initial_epoch: 0\n",
            "tuner/bracket: 4\n",
            "tuner/round: 0\n",
            "Score: 0.3450376093387604\n",
            "\n",
            "Trial 0023 summary\n",
            "Hyperparameters:\n",
            "units: 16\n",
            "units_2: 32\n",
            "learning_rate: 0.01\n",
            "tuner/epochs: 2\n",
            "tuner/initial_epoch: 0\n",
            "tuner/bracket: 4\n",
            "tuner/round: 0\n",
            "Score: 0.353298157453537\n",
            "\n",
            "Trial 0035 summary\n",
            "Hyperparameters:\n",
            "units: 24\n",
            "units_2: 16\n",
            "learning_rate: 0.01\n",
            "tuner/epochs: 2\n",
            "tuner/initial_epoch: 0\n",
            "tuner/bracket: 4\n",
            "tuner/round: 0\n",
            "Score: 0.36327341198921204\n",
            "\n",
            "Trial 0029 summary\n",
            "Hyperparameters:\n",
            "units: 32\n",
            "units_2: 16\n",
            "learning_rate: 0.01\n",
            "tuner/epochs: 2\n",
            "tuner/initial_epoch: 0\n",
            "tuner/bracket: 4\n",
            "tuner/round: 0\n",
            "Score: 0.3668425679206848\n",
            "\n",
            "Trial 0003 summary\n",
            "Hyperparameters:\n",
            "units: 16\n",
            "units_2: 8\n",
            "learning_rate: 0.01\n",
            "tuner/epochs: 2\n",
            "tuner/initial_epoch: 0\n",
            "tuner/bracket: 4\n",
            "tuner/round: 0\n",
            "Score: 0.3680141568183899\n",
            "\n",
            "Trial 0012 summary\n",
            "Hyperparameters:\n",
            "units: 24\n",
            "units_2: 32\n",
            "learning_rate: 0.01\n",
            "tuner/epochs: 2\n",
            "tuner/initial_epoch: 0\n",
            "tuner/bracket: 4\n",
            "tuner/round: 0\n",
            "Score: 0.3746574819087982\n",
            "\n",
            "Trial 0007 summary\n",
            "Hyperparameters:\n",
            "units: 24\n",
            "units_2: 8\n",
            "learning_rate: 0.01\n",
            "tuner/epochs: 2\n",
            "tuner/initial_epoch: 0\n",
            "tuner/bracket: 4\n",
            "tuner/round: 0\n",
            "Score: 0.3774697482585907\n",
            "\n",
            "Trial 0031 summary\n",
            "Hyperparameters:\n",
            "units: 32\n",
            "units_2: 8\n",
            "learning_rate: 0.01\n",
            "tuner/epochs: 2\n",
            "tuner/initial_epoch: 0\n",
            "tuner/bracket: 4\n",
            "tuner/round: 0\n",
            "Score: 0.38059040904045105\n",
            "\n",
            "Trial 0014 summary\n",
            "Hyperparameters:\n",
            "units: 8\n",
            "units_2: 16\n",
            "learning_rate: 0.01\n",
            "tuner/epochs: 2\n",
            "tuner/initial_epoch: 0\n",
            "tuner/bracket: 4\n",
            "tuner/round: 0\n",
            "Score: 0.38433825969696045\n",
            "\n",
            "Trial 0020 summary\n",
            "Hyperparameters:\n",
            "units: 16\n",
            "units_2: 16\n",
            "learning_rate: 0.01\n",
            "tuner/epochs: 2\n",
            "tuner/initial_epoch: 0\n",
            "tuner/bracket: 4\n",
            "tuner/round: 0\n",
            "Score: 0.39048880338668823\n"
          ]
        }
      ]
    },
    {
      "cell_type": "code",
      "source": [
        "best_hps = tuner.get_best_hyperparameters()\n",
        "best_hps\n",
        "best_hps[0].get('learning_rate')  #('units')\n",
        "# Note that KerasTuner packages the best_hps (and best_model) in lists\n",
        "#   This is so that you can get the top N parameter_sets/models"
      ],
      "metadata": {
        "colab": {
          "base_uri": "https://localhost:8080/"
        },
        "id": "I0w0jUJqaIxN",
        "outputId": "8d2bad4c-e890-4b71-d57e-1d6e492ca378"
      },
      "execution_count": null,
      "outputs": [
        {
          "output_type": "execute_result",
          "data": {
            "text/plain": [
              "0.01"
            ]
          },
          "metadata": {},
          "execution_count": 134
        }
      ]
    },
    {
      "cell_type": "code",
      "source": [
        "best_model = tuner.get_best_models(num_models=1)[0]\n",
        "best_model"
      ],
      "metadata": {
        "colab": {
          "base_uri": "https://localhost:8080/"
        },
        "id": "MCVNuvv_Xy-Q",
        "outputId": "266da564-e958-4737-b734-f683a80992c6"
      },
      "execution_count": null,
      "outputs": [
        {
          "output_type": "execute_result",
          "data": {
            "text/plain": [
              "<keras.engine.sequential.Sequential at 0x7a4aa0384790>"
            ]
          },
          "metadata": {},
          "execution_count": 135
        }
      ]
    },
    {
      "cell_type": "code",
      "source": [
        "# Build model from best hyperparameters or use best model above\n",
        "hyper_model = tuner.hypermodel.build(best_hps[0])"
      ],
      "metadata": {
        "id": "RNwv5oRmbcE5"
      },
      "execution_count": null,
      "outputs": []
    },
    {
      "cell_type": "code",
      "source": [
        "# Train best model from hyper_model (starts over)\n",
        "hyper_model.fit(X_train_tr, y_train_tr, epochs=50, validation_data=(X_train_v, y_train_v),\n",
        "             callbacks=[keras.callbacks.EarlyStopping(patience=5)])"
      ],
      "metadata": {
        "colab": {
          "base_uri": "https://localhost:8080/"
        },
        "id": "QAJTvm97dQ0N",
        "outputId": "db101690-8064-4058-cf26-a2d4b89b117e"
      },
      "execution_count": null,
      "outputs": [
        {
          "output_type": "stream",
          "name": "stdout",
          "text": [
            "Epoch 1/50\n",
            "465/465 [==============================] - 4s 4ms/step - loss: 0.5404 - val_loss: 0.4367\n",
            "Epoch 2/50\n",
            "465/465 [==============================] - 2s 5ms/step - loss: 0.4183 - val_loss: 0.3706\n",
            "Epoch 3/50\n",
            "465/465 [==============================] - 3s 6ms/step - loss: 0.4463 - val_loss: 0.3565\n",
            "Epoch 4/50\n",
            "465/465 [==============================] - 3s 6ms/step - loss: 0.3541 - val_loss: 0.3706\n",
            "Epoch 5/50\n",
            "465/465 [==============================] - 4s 9ms/step - loss: 0.3270 - val_loss: 0.3274\n",
            "Epoch 6/50\n",
            "465/465 [==============================] - 3s 6ms/step - loss: 0.3190 - val_loss: 0.3177\n",
            "Epoch 7/50\n",
            "465/465 [==============================] - 3s 6ms/step - loss: 0.3090 - val_loss: 0.3169\n",
            "Epoch 8/50\n",
            "465/465 [==============================] - 3s 6ms/step - loss: 0.3033 - val_loss: 0.3027\n",
            "Epoch 9/50\n",
            "465/465 [==============================] - 4s 8ms/step - loss: 0.3034 - val_loss: 0.3209\n",
            "Epoch 10/50\n",
            "465/465 [==============================] - 3s 7ms/step - loss: 0.2943 - val_loss: 0.3044\n",
            "Epoch 11/50\n",
            "465/465 [==============================] - 3s 6ms/step - loss: 0.2932 - val_loss: 0.3112\n",
            "Epoch 12/50\n",
            "465/465 [==============================] - 3s 5ms/step - loss: 0.4721 - val_loss: 0.2970\n",
            "Epoch 13/50\n",
            "465/465 [==============================] - 3s 7ms/step - loss: 0.2998 - val_loss: 0.2997\n",
            "Epoch 14/50\n",
            "465/465 [==============================] - 2s 5ms/step - loss: 0.2941 - val_loss: 0.3307\n",
            "Epoch 15/50\n",
            "465/465 [==============================] - 2s 3ms/step - loss: 0.2829 - val_loss: 0.3003\n",
            "Epoch 16/50\n",
            "465/465 [==============================] - 2s 3ms/step - loss: 0.2850 - val_loss: 0.3296\n",
            "Epoch 17/50\n",
            "465/465 [==============================] - 2s 3ms/step - loss: 0.2835 - val_loss: 0.3046\n"
          ]
        },
        {
          "output_type": "execute_result",
          "data": {
            "text/plain": [
              "<keras.callbacks.History at 0x7a4a241053f0>"
            ]
          },
          "metadata": {},
          "execution_count": 137
        }
      ]
    },
    {
      "cell_type": "code",
      "source": [
        "# Train from best_model (appears to keep epochs and weights already trained)\n",
        "best_model.fit(X_train_tr, y_train_tr, epochs=20, validation_data=(X_train_v, y_train_v),\n",
        "             callbacks=[keras.callbacks.EarlyStopping(patience=5)])"
      ],
      "metadata": {
        "colab": {
          "base_uri": "https://localhost:8080/"
        },
        "id": "DTH7949Pd_fR",
        "outputId": "720b3182-8f6b-497b-f1b3-e38af7890879"
      },
      "execution_count": null,
      "outputs": [
        {
          "output_type": "stream",
          "name": "stdout",
          "text": [
            "Epoch 1/20\n",
            "465/465 [==============================] - 3s 4ms/step - loss: 0.3492 - val_loss: 0.3404\n",
            "Epoch 2/20\n",
            "465/465 [==============================] - 2s 5ms/step - loss: 0.3442 - val_loss: 0.3298\n",
            "Epoch 3/20\n",
            "465/465 [==============================] - 2s 3ms/step - loss: 0.3317 - val_loss: 0.3534\n",
            "Epoch 4/20\n",
            "465/465 [==============================] - 2s 4ms/step - loss: 0.3201 - val_loss: 0.3353\n",
            "Epoch 5/20\n",
            "465/465 [==============================] - 2s 3ms/step - loss: 0.3141 - val_loss: 0.3327\n",
            "Epoch 6/20\n",
            "465/465 [==============================] - 2s 4ms/step - loss: 0.3108 - val_loss: 0.3137\n",
            "Epoch 7/20\n",
            "465/465 [==============================] - 2s 3ms/step - loss: 0.3028 - val_loss: 0.3111\n",
            "Epoch 8/20\n",
            "465/465 [==============================] - 2s 3ms/step - loss: 0.3068 - val_loss: 0.3244\n",
            "Epoch 9/20\n",
            "465/465 [==============================] - 2s 5ms/step - loss: 0.3132 - val_loss: 0.3134\n",
            "Epoch 10/20\n",
            "465/465 [==============================] - 2s 4ms/step - loss: 0.3049 - val_loss: 0.2963\n",
            "Epoch 11/20\n",
            "465/465 [==============================] - 2s 3ms/step - loss: 0.2908 - val_loss: 0.3089\n",
            "Epoch 12/20\n",
            "465/465 [==============================] - 2s 3ms/step - loss: 0.2897 - val_loss: 0.3054\n",
            "Epoch 13/20\n",
            "465/465 [==============================] - 2s 3ms/step - loss: 0.2877 - val_loss: 0.2863\n",
            "Epoch 14/20\n",
            "465/465 [==============================] - 2s 3ms/step - loss: 0.2997 - val_loss: 0.3166\n",
            "Epoch 15/20\n",
            "465/465 [==============================] - 2s 3ms/step - loss: 0.2851 - val_loss: 0.2888\n",
            "Epoch 16/20\n",
            "465/465 [==============================] - 2s 4ms/step - loss: 0.2825 - val_loss: 0.2923\n",
            "Epoch 17/20\n",
            "465/465 [==============================] - 2s 5ms/step - loss: 0.2820 - val_loss: 0.2883\n",
            "Epoch 18/20\n",
            "465/465 [==============================] - 2s 4ms/step - loss: 0.2748 - val_loss: 0.2948\n"
          ]
        },
        {
          "output_type": "execute_result",
          "data": {
            "text/plain": [
              "<keras.callbacks.History at 0x7a4aa03976d0>"
            ]
          },
          "metadata": {},
          "execution_count": 138
        }
      ]
    },
    {
      "cell_type": "code",
      "source": [],
      "metadata": {
        "id": "_n0Or_7YehZ1"
      },
      "execution_count": null,
      "outputs": []
    },
    {
      "cell_type": "code",
      "metadata": {
        "id": "yQi5a9p8j2dM"
      },
      "source": [
        "# Next level is using AutoML -- not only select parameters and tune for you\n",
        "# but will also try different ML models, architectures, and will optimize"
      ],
      "execution_count": null,
      "outputs": []
    }
  ]
}